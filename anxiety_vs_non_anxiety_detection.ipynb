{
  "nbformat": 4,
  "nbformat_minor": 0,
  "metadata": {
    "colab": {
      "name": "anxiety_vs_non_anxiety_detection",
      "provenance": [],
      "collapsed_sections": []
    },
    "kernelspec": {
      "name": "python3",
      "display_name": "Python 3"
    },
    "language_info": {
      "name": "python"
    }
  },
  "cells": [
    {
      "cell_type": "code",
      "metadata": {
        "id": "H0nOKFsQXRfU"
      },
      "source": [
        "import numpy as np\n",
        "import pandas as pd\n",
        "import tensorflow as tf\n",
        "from sklearn.model_selection import train_test_split\n",
        "from keras.models import Sequential\n",
        "from keras.layers import Dense\n",
        "from keras.layers.convolutional import Conv1D\n",
        "from keras.layers.convolutional import MaxPooling1D\n",
        "from keras.layers.embeddings import Embedding\n",
        "from keras.layers import Flatten\n",
        "\n",
        "from keras.preprocessing.text import Tokenizer\n",
        "from keras.preprocessing.sequence import pad_sequences\n",
        "\n",
        "import matplotlib.pyplot as plt\n",
        "import seaborn as sb\n",
        "from sklearn.metrics import confusion_matrix\n",
        "from sklearn.metrics import classification_report\n",
        "from sklearn.metrics import plot_confusion_matrix\n",
        "\n",
        "from keras.constraints import maxnorm\n",
        "from keras.layers import Dropout\n",
        "from tensorflow.keras.utils import plot_model\n",
        "import time\n",
        "import warnings\n",
        "warnings.filterwarnings(\"ignore\")"
      ],
      "execution_count": 1,
      "outputs": []
    },
    {
      "cell_type": "code",
      "metadata": {
        "id": "465blQZ_X718"
      },
      "source": [
        "path = '/content/drive/MyDrive/final_tidy_reddits_lemmetized.json'\n",
        "df = pd.read_json(path, orient='table')"
      ],
      "execution_count": 4,
      "outputs": []
    },
    {
      "cell_type": "code",
      "metadata": {
        "colab": {
          "base_uri": "https://localhost:8080/"
        },
        "id": "VxnpFu0mpFDY",
        "outputId": "f21b1c8f-a21c-43ac-e707-c2fc5b3babdc"
      },
      "source": [
        "df.shape"
      ],
      "execution_count": 5,
      "outputs": [
        {
          "output_type": "execute_result",
          "data": {
            "text/plain": [
              "(301746, 4)"
            ]
          },
          "metadata": {},
          "execution_count": 5
        }
      ]
    },
    {
      "cell_type": "code",
      "metadata": {
        "id": "mT3B6wV9CrIb"
      },
      "source": [
        "pd.options.display.max_colwidth = None\n",
        "pd.options.display.max_rows = None"
      ],
      "execution_count": 6,
      "outputs": []
    },
    {
      "cell_type": "code",
      "metadata": {
        "colab": {
          "base_uri": "https://localhost:8080/",
          "height": 1000
        },
        "id": "fg0u1SJ4rIul",
        "outputId": "086d619d-ad36-47e8-a3be-f03ccb31932a"
      },
      "source": [
        "df.sample(7)"
      ],
      "execution_count": 7,
      "outputs": [
        {
          "output_type": "execute_result",
          "data": {
            "text/html": [
              "<div>\n",
              "<style scoped>\n",
              "    .dataframe tbody tr th:only-of-type {\n",
              "        vertical-align: middle;\n",
              "    }\n",
              "\n",
              "    .dataframe tbody tr th {\n",
              "        vertical-align: top;\n",
              "    }\n",
              "\n",
              "    .dataframe thead th {\n",
              "        text-align: right;\n",
              "    }\n",
              "</style>\n",
              "<table border=\"1\" class=\"dataframe\">\n",
              "  <thead>\n",
              "    <tr style=\"text-align: right;\">\n",
              "      <th></th>\n",
              "      <th>label</th>\n",
              "      <th>text</th>\n",
              "      <th>lemmatized</th>\n",
              "      <th>tokens_back_to_text</th>\n",
              "    </tr>\n",
              "  </thead>\n",
              "  <tbody>\n",
              "    <tr>\n",
              "      <th>290607</th>\n",
              "      <td>depression</td>\n",
              "      <td>[one, caused, like, amp, thing, parents, ever, game, never, took, us, vacations, stuff, brother, smoke, ciggaretes, day, complain, walking, corpse, years, throught, high, school, mum, dad, never, asked, even, opened, depression, week, ago, head, acting, like, good, want, kill, make, suffer, even, make, kids, irresponsible, grandmother, clinically, depressed, doesnt, even, know, grandfather, normal, brother, playing, fortnite, day, years, old, still, parents, dont, give, maybe, change, family, pathetic]</td>\n",
              "      <td>[one, cause, like, amp, thing, parent, ever, game, never, take, u, vacation, stuff, brother, smoke, ciggaretes, day, complain, walk, corpse, year, throught, high, school, mum, dad, never, ask, even, open, depression, week, ago, head, act, like, good, want, kill, make, suffer, even, make, kid, irresponsible, grandmother, clinically, depressed, doesnt, even, know, grandfather, normal, brother, play, fortnite, day, year, old, still, parent, dont, give, maybe, change, family, pathetic]</td>\n",
              "      <td>one cause like amp thing parent ever game never take u vacation stuff brother smoke ciggaretes day complain walk corpse year throught high school mum dad never ask even open depression week ago head act like good want kill make suffer even make kid irresponsible grandmother clinically depressed doesnt even know grandfather normal brother play fortnite day year old still parent dont give maybe change family pathetic</td>\n",
              "    </tr>\n",
              "    <tr>\n",
              "      <th>195761</th>\n",
              "      <td>depression</td>\n",
              "      <td>[never, able, actually, improve, life, never, try, never, want, try, afterall, easier, died, bother, years, thinking, way, really, hope, left, sit, around, day, lazy, unmotivated, without, goals, anything, bother, achieve, life, complete, waste, time, always, way, thinking, pulling, plug, next, month, given, years, ago]</td>\n",
              "      <td>[never, able, actually, improve, life, never, try, never, want, try, afterall, easy, die, bother, year, think, way, really, hope, left, sit, around, day, lazy, unmotivated, without, goal, anything, bother, achieve, life, complete, waste, time, always, way, think, pull, plug, next, month, give, year, ago]</td>\n",
              "      <td>never able actually improve life never try never want try afterall easy die bother year think way really hope left sit around day lazy unmotivated without goal anything bother achieve life complete waste time always way think pull plug next month give year ago</td>\n",
              "    </tr>\n",
              "    <tr>\n",
              "      <th>206012</th>\n",
              "      <td>depression</td>\n",
              "      <td>[choose, afterwards, would, may, damage, relationships, may, obvious, little, bit, info, friendly, friendly, feel, could, talk, anything, though, sure, likes, talking, tired, nervous, message, ask, pen, started, talking, recently, common, interest, talked, much, group, group, chat, since, group, mix, ages, someone, little, sibling, available, everybody, much, happened, heh, ever, maybe, give, heads, find, someone, else, take, place, needed, talking, hypothetically, would, one, go, writing, possible, suicide, note, online, group]</td>\n",
              "      <td>[choose, afterwards, would, may, damage, relationship, may, obvious, little, bit, info, friendly, friendly, feel, could, talk, anything, though, sure, like, talk, tire, nervous, message, ask, pen, start, talk, recently, common, interest, talk, much, group, group, chat, since, group, mix, age, someone, little, sibling, available, everybody, much, happen, heh, ever, maybe, give, head, find, someone, else, take, place, need, talk, hypothetically, would, one, go, write, possible, suicide, note, online, group]</td>\n",
              "      <td>choose afterwards would may damage relationship may obvious little bit info friendly friendly feel could talk anything though sure like talk tire nervous message ask pen start talk recently common interest talk much group group chat since group mix age someone little sibling available everybody much happen heh ever maybe give head find someone else take place need talk hypothetically would one go write possible suicide note online group</td>\n",
              "    </tr>\n",
              "    <tr>\n",
              "      <th>181951</th>\n",
              "      <td>depression</td>\n",
              "      <td>[course, complex, think, nature, depression, would, maybe, make, sense, people, never, suffered, compared, chronic, exhaustion, want, go, party, desire, go, collect, hobbies, rather, pop, tart, dinner, go, store, read, recipe, cook, gourmet, crab, dinner, feel, like, physically, ca, homework, performance, work, awful, well, imagine, got, two, hours, sleep, night, understand, repercussions, things, believe, objectively, things, good, damned, means, depression, lot, like, chronic, exhaustion]</td>\n",
              "      <td>[course, complex, think, nature, depression, would, maybe, make, sense, people, never, suffer, compare, chronic, exhaustion, want, go, party, desire, go, collect, hobby, rather, pop, tart, dinner, go, store, read, recipe, cook, gourmet, crab, dinner, feel, like, physically, ca, homework, performance, work, awful, well, imagine, get, two, hour, sleep, night, understand, repercussion, thing, believe, objectively, thing, good, damn, mean, depression, lot, like, chronic, exhaustion]</td>\n",
              "      <td>course complex think nature depression would maybe make sense people never suffer compare chronic exhaustion want go party desire go collect hobby rather pop tart dinner go store read recipe cook gourmet crab dinner feel like physically ca homework performance work awful well imagine get two hour sleep night understand repercussion thing believe objectively thing good damn mean depression lot like chronic exhaustion</td>\n",
              "    </tr>\n",
              "    <tr>\n",
              "      <th>201822</th>\n",
              "      <td>depression</td>\n",
              "      <td>[like, clinical, way, sure, would, better, get, life, know, one, world, crap, right, wish, dead, people, sometimes, feels, right, leaving, test, probably, failed, worth, grade, immediate, thought, death, seems, much, easier, alive, like, take, years, accomplish, things, actually, make, happy, like, permanent, ties, world, must, look, kids, bissuness, tbh, life, begun, think, next, couple, years, deal, living, false, life, pull, anything, world, average, social, anxiety, fucking, hate, everything, really, continued, existence, drag, look, old, saying, gon, na, commit, suicide, mom, would, cry, wan, na, see, happens, live, dae, ever, feel, like]</td>\n",
              "      <td>[like, clinical, way, sure, would, well, get, life, know, one, world, crap, right, wish, dead, people, sometimes, feel, right, leave, test, probably, fail, worth, grade, immediate, thought, death, seem, much, easy, alive, like, take, year, accomplish, thing, actually, make, happy, like, permanent, tie, world, must, look, kid, bissuness, tbh, life, begin, think, next, couple, year, deal, living, false, life, pull, anything, world, average, social, anxiety, fuck, hate, everything, really, continued, existence, drag, look, old, say, gon, na, commit, suicide, mom, would, cry, wan, na, see, happens, live, dae, ever, feel, like]</td>\n",
              "      <td>like clinical way sure would well get life know one world crap right wish dead people sometimes feel right leave test probably fail worth grade immediate thought death seem much easy alive like take year accomplish thing actually make happy like permanent tie world must look kid bissuness tbh life begin think next couple year deal living false life pull anything world average social anxiety fuck hate everything really continued existence drag look old say gon na commit suicide mom would cry wan na see happens live dae ever feel like</td>\n",
              "    </tr>\n",
              "    <tr>\n",
              "      <th>84301</th>\n",
              "      <td>Anxiety</td>\n",
              "      <td>[past, years, using, regular, therapeutic, doses, methylphenidate, concerta, vyvanse, combined, together, high, doses, caffeine, daily, week, basically, highly, stimulated, years, one, day, took, ran, gym, pushed, really, hard, personal, best, time, followed, intense, session, sauna, hours, would, suggest, triggering, afterwards, strong, sense, paresthesia, right, side, strong, sense, anxiety, following, weeks, full, blown, panic, attacks, consistent, high, baseline, anxious, state, months, ago, stopped, stimulants, anxiety, stayed, months, progressively, getting, better, surprised, given, full, months, sense, paresthesia, still, somewhat, doctor, multiple, blood, panels, done, everything, negative, stimulant, use, cause, permanent, anxiety, disorder, likely, happened, anything, supplement, combat, high, baseline, anxiety, reset, brain, ...]</td>\n",
              "      <td>[past, year, use, regular, therapeutic, dos, methylphenidate, concerta, vyvanse, combine, together, high, dos, caffeine, daily, week, basically, highly, stimulate, year, one, day, take, ran, gym, push, really, hard, personal, best, time, follow, intense, session, sauna, hour, would, suggest, trigger, afterwards, strong, sense, paresthesia, right, side, strong, sense, anxiety, follow, week, full, blown, panic, attack, consistent, high, baseline, anxious, state, month, ago, stop, stimulant, anxiety, stayed, month, progressively, get, well, surprised, give, full, month, sense, paresthesia, still, somewhat, doctor, multiple, blood, panel, do, everything, negative, stimulant, use, cause, permanent, anxiety, disorder, likely, happen, anything, supplement, combat, high, baseline, anxiety, reset, brain, ...]</td>\n",
              "      <td>past year use regular therapeutic dos methylphenidate concerta vyvanse combine together high dos caffeine daily week basically highly stimulate year one day take ran gym push really hard personal best time follow intense session sauna hour would suggest trigger afterwards strong sense paresthesia right side strong sense anxiety follow week full blown panic attack consistent high baseline anxious state month ago stop stimulant anxiety stayed month progressively get well surprised give full month sense paresthesia still somewhat doctor multiple blood panel do everything negative stimulant use cause permanent anxiety disorder likely happen anything supplement combat high baseline anxiety reset brain stimulant cause permanent disorder</td>\n",
              "    </tr>\n",
              "    <tr>\n",
              "      <th>60568</th>\n",
              "      <td>Anxiety</td>\n",
              "      <td>[im, scared, board, review, eagle, scouts, finally, happening, oh, god, im, scared, oh, god, oh, god, oh, god]</td>\n",
              "      <td>[im, scar, board, review, eagle, scout, finally, happen, oh, god, im, scar, oh, god, oh, god, oh, god]</td>\n",
              "      <td>im scar board review eagle scout finally happen oh god im scar oh god oh god oh god</td>\n",
              "    </tr>\n",
              "  </tbody>\n",
              "</table>\n",
              "</div>"
            ],
            "text/plain": [
              "             label  ...                                                                                                                                                                                                                                                                                                                                                                                                                                                                                                                                                                                                                                                                                                                                                   tokens_back_to_text\n",
              "290607  depression  ...                                                                                                                                                                                                                                                                                                                                    one cause like amp thing parent ever game never take u vacation stuff brother smoke ciggaretes day complain walk corpse year throught high school mum dad never ask even open depression week ago head act like good want kill make suffer even make kid irresponsible grandmother clinically depressed doesnt even know grandfather normal brother play fortnite day year old still parent dont give maybe change family pathetic\n",
              "195761  depression  ...                                                                                                                                                                                                                                                                                                                                                                                                                                                                                                  never able actually improve life never try never want try afterall easy die bother year think way really hope left sit around day lazy unmotivated without goal anything bother achieve life complete waste time always way think pull plug next month give year ago\n",
              "206012  depression  ...                                                                                                                                                                                                                                                                                                              choose afterwards would may damage relationship may obvious little bit info friendly friendly feel could talk anything though sure like talk tire nervous message ask pen start talk recently common interest talk much group group chat since group mix age someone little sibling available everybody much happen heh ever maybe give head find someone else take place need talk hypothetically would one go write possible suicide note online group\n",
              "181951  depression  ...                                                                                                                                                                                                                                                                                                                                   course complex think nature depression would maybe make sense people never suffer compare chronic exhaustion want go party desire go collect hobby rather pop tart dinner go store read recipe cook gourmet crab dinner feel like physically ca homework performance work awful well imagine get two hour sleep night understand repercussion thing believe objectively thing good damn mean depression lot like chronic exhaustion\n",
              "201822  depression  ...                                                                                                                                                                                                            like clinical way sure would well get life know one world crap right wish dead people sometimes feel right leave test probably fail worth grade immediate thought death seem much easy alive like take year accomplish thing actually make happy like permanent tie world must look kid bissuness tbh life begin think next couple year deal living false life pull anything world average social anxiety fuck hate everything really continued existence drag look old say gon na commit suicide mom would cry wan na see happens live dae ever feel like\n",
              "84301      Anxiety  ...  past year use regular therapeutic dos methylphenidate concerta vyvanse combine together high dos caffeine daily week basically highly stimulate year one day take ran gym push really hard personal best time follow intense session sauna hour would suggest trigger afterwards strong sense paresthesia right side strong sense anxiety follow week full blown panic attack consistent high baseline anxious state month ago stop stimulant anxiety stayed month progressively get well surprised give full month sense paresthesia still somewhat doctor multiple blood panel do everything negative stimulant use cause permanent anxiety disorder likely happen anything supplement combat high baseline anxiety reset brain stimulant cause permanent disorder\n",
              "60568      Anxiety  ...                                                                                                                                                                                                                                                                                                                                                                                                                                                                                                                                                                                                                                                                                   im scar board review eagle scout finally happen oh god im scar oh god oh god oh god\n",
              "\n",
              "[7 rows x 4 columns]"
            ]
          },
          "metadata": {},
          "execution_count": 7
        }
      ]
    },
    {
      "cell_type": "code",
      "metadata": {
        "colab": {
          "base_uri": "https://localhost:8080/"
        },
        "id": "nDdzvsHcMTMl",
        "outputId": "b51c5155-164e-4628-ad85-dac1c4db55ca"
      },
      "source": [
        "df.isna().sum()"
      ],
      "execution_count": 8,
      "outputs": [
        {
          "output_type": "execute_result",
          "data": {
            "text/plain": [
              "label                  0\n",
              "text                   0\n",
              "lemmatized             0\n",
              "tokens_back_to_text    0\n",
              "dtype: int64"
            ]
          },
          "metadata": {},
          "execution_count": 8
        }
      ]
    },
    {
      "cell_type": "code",
      "metadata": {
        "colab": {
          "base_uri": "https://localhost:8080/"
        },
        "id": "0MsfZsxGZZsr",
        "outputId": "0e3336c8-acf8-4e78-dde6-0a16ee80df2f"
      },
      "source": [
        "reddits = list(df['tokens_back_to_text'])\n",
        "type(reddits)"
      ],
      "execution_count": 9,
      "outputs": [
        {
          "output_type": "execute_result",
          "data": {
            "text/plain": [
              "list"
            ]
          },
          "metadata": {},
          "execution_count": 9
        }
      ]
    },
    {
      "cell_type": "code",
      "metadata": {
        "colab": {
          "base_uri": "https://localhost:8080/"
        },
        "id": "orF09VH4Zg9Y",
        "outputId": "3cf5d245-b477-4e9e-b82a-0b1ffbde24d2"
      },
      "source": [
        "len(reddits)"
      ],
      "execution_count": 10,
      "outputs": [
        {
          "output_type": "execute_result",
          "data": {
            "text/plain": [
              "301746"
            ]
          },
          "metadata": {},
          "execution_count": 10
        }
      ]
    },
    {
      "cell_type": "code",
      "metadata": {
        "colab": {
          "base_uri": "https://localhost:8080/"
        },
        "id": "vpwv6by5n27I",
        "outputId": "c2bce55d-6832-4bdf-974a-3667ad1c9c6d"
      },
      "source": [
        "df['label'].value_counts()"
      ],
      "execution_count": 11,
      "outputs": [
        {
          "output_type": "execute_result",
          "data": {
            "text/plain": [
              "depression    178453\n",
              "Anxiety        84001\n",
              "bipolar        39292\n",
              "Name: label, dtype: int64"
            ]
          },
          "metadata": {},
          "execution_count": 11
        }
      ]
    },
    {
      "cell_type": "code",
      "metadata": {
        "id": "yO9yxGL5FIop"
      },
      "source": [
        "df['label'] = np.where(df['label']=='Anxiety',1,0)"
      ],
      "execution_count": 12,
      "outputs": []
    },
    {
      "cell_type": "code",
      "metadata": {
        "colab": {
          "base_uri": "https://localhost:8080/",
          "height": 856
        },
        "id": "k_xvvIBwn57v",
        "outputId": "43bff98a-68e3-44ba-9465-8e58ca9c08ed"
      },
      "source": [
        "df.head(3)"
      ],
      "execution_count": 13,
      "outputs": [
        {
          "output_type": "execute_result",
          "data": {
            "text/html": [
              "<div>\n",
              "<style scoped>\n",
              "    .dataframe tbody tr th:only-of-type {\n",
              "        vertical-align: middle;\n",
              "    }\n",
              "\n",
              "    .dataframe tbody tr th {\n",
              "        vertical-align: top;\n",
              "    }\n",
              "\n",
              "    .dataframe thead th {\n",
              "        text-align: right;\n",
              "    }\n",
              "</style>\n",
              "<table border=\"1\" class=\"dataframe\">\n",
              "  <thead>\n",
              "    <tr style=\"text-align: right;\">\n",
              "      <th></th>\n",
              "      <th>label</th>\n",
              "      <th>text</th>\n",
              "      <th>lemmatized</th>\n",
              "      <th>tokens_back_to_text</th>\n",
              "    </tr>\n",
              "  </thead>\n",
              "  <tbody>\n",
              "    <tr>\n",
              "      <th>0</th>\n",
              "      <td>1</td>\n",
              "      <td>[struggled, social, anxiety, childhood, main, advice, friends, books, professionals, expose, environments, better, example, get, anxious, every, single, time, go, shop, even, though, shopping, weekly, since, get, nervous, sweaty, heart, pounding, every, time, go, gym, yet, working, gym, years, exposure, worked, anyone, else, exposure, work]</td>\n",
              "      <td>[struggle, social, anxiety, childhood, main, advice, friend, book, professional, expose, environment, well, example, get, anxious, every, single, time, go, shop, even, though, shopping, weekly, since, get, nervous, sweaty, heart, pound, every, time, go, gym, yet, work, gym, year, exposure, work, anyone, else, exposure, work]</td>\n",
              "      <td>struggle social anxiety childhood main advice friend book professional expose environment well example get anxious every single time go shop even though shopping weekly since get nervous sweaty heart pound every time go gym yet work gym year exposure work anyone else exposure work</td>\n",
              "    </tr>\n",
              "    <tr>\n",
              "      <th>1</th>\n",
              "      <td>1</td>\n",
              "      <td>[back, march, know, ago, woke, day, go, school, feeling, kind, felt, depressed, really, feel, like, getting, even, seeing, anyone, history, p, really, mainly, happens, winter, time, get, highly, anxious, also, going, anywhere, periods, time, get, suspicious, paranoid, everyone, anything, usually, end, isolating, room, eat, way, less, also, get, highly, irritable, emotional, like, one, time, mom, sent, store, milk, started, crying, store, thought, going, killed, watched, believe, periods, government, something, higher, power, gerbil, studies, something, like, thought, news, real, used, put, fear, people, also, sort, figures, imagination, trying, manipulate, usually, happens, anywhere, day, weekish, also, insomniac, means, anything, p, anyways, yes, ...]</td>\n",
              "      <td>[back, march, know, ago, woke, day, go, school, feel, kind, felt, depressed, really, feel, like, get, even, see, anyone, history, p, really, mainly, happens, winter, time, get, highly, anxious, also, go, anywhere, period, time, get, suspicious, paranoid, everyone, anything, usually, end, isolate, room, eat, way, less, also, get, highly, irritable, emotional, like, one, time, mom, sent, store, milk, start, cry, store, thought, go, kill, watch, believe, period, government, something, high, power, gerbil, study, something, like, thought, news, real, use, put, fear, people, also, sort, figure, imagination, try, manipulate, usually, happens, anywhere, day, weekish, also, insomniac, mean, anything, p, anyways, yes, ...]</td>\n",
              "      <td>back march know ago woke day go school feel kind felt depressed really feel like get even see anyone history p really mainly happens winter time get highly anxious also go anywhere period time get suspicious paranoid everyone anything usually end isolate room eat way less also get highly irritable emotional like one time mom sent store milk start cry store thought go kill watch believe period government something high power gerbil study something like thought news real use put fear people also sort figure imagination try manipulate usually happens anywhere day weekish also insomniac mean anything p anyways yes thats background sit class feel highly anxious everything everyone guess get break point math class second block talk friend remember lot bit blurry happen explain real knew everything figure plan subject everything told thing life matter go die might die right extremely loud talk confuse unaware behaving teacher sat back class like nothing happen kid kind confuse kind explain understand alive point die one remember u really odd recap event suicidal really character end skip rest afternoon day friend request go home sleep bit talk friend happen tell scar go kill confuse despite talk loud much emotion besides try talk parent talk mom feeling nothing real say kid feel like time discus amongst friend ca relate couple month later mom take family doctor ask question kept say everyone felt really awkward find insomniac try go doctor grandma month two ask say felt paranoid sometimes call crazy ask eczema instead say talk know awkward go doctor discus really start affect personal school life thing happen never point school affect go store know sorry wall text start happen maybe year ago year first start year old advice appreciate panic attack derealization ca go doctor advice appreciate</td>\n",
              "    </tr>\n",
              "    <tr>\n",
              "      <th>2</th>\n",
              "      <td>1</td>\n",
              "      <td>[withdrawing, medicines, lately, effexor, zyprexa, cymbalta, time, mind, close, together, withdraw, thursday, major, panic, attack, bad, needed, take, extra, kolonopin, skip, work, friday, lasted, shaky, felt, sick, rest, night, saturday, quite, two, full, days, panic, attack, started, still, feel, like, describe, chihuahua, like, much, caffeine, except, small, amount, chocolate, yesterday, feels, like, edge, panic, attack, since, initial, one, sure, long, panic, attack, last]</td>\n",
              "      <td>[withdraw, medicine, lately, effexor, zyprexa, cymbalta, time, mind, close, together, withdraw, thursday, major, panic, attack, bad, need, take, extra, kolonopin, skip, work, friday, last, shaky, felt, sick, rest, night, saturday, quite, two, full, day, panic, attack, start, still, feel, like, describe, chihuahua, like, much, caffeine, except, small, amount, chocolate, yesterday, feel, like, edge, panic, attack, since, initial, one, sure, long, panic, attack, last]</td>\n",
              "      <td>withdraw medicine lately effexor zyprexa cymbalta time mind close together withdraw thursday major panic attack bad need take extra kolonopin skip work friday last shaky felt sick rest night saturday quite two full day panic attack start still feel like describe chihuahua like much caffeine except small amount chocolate yesterday feel like edge panic attack since initial one sure long panic attack last</td>\n",
              "    </tr>\n",
              "  </tbody>\n",
              "</table>\n",
              "</div>"
            ],
            "text/plain": [
              "   label  ...                                                                                                                                                                                                                                                                                                                                                                                                                                                                                                                                                                                                                                                                                                                                                                                                                                                                                                                                                                                                                                                                                                                                                                                                                                                                                                                                                                                                                                                                                                                                                                                                                                                                                                                                                                                                                                                                      tokens_back_to_text\n",
              "0      1  ...                                                                                                                                                                                                                                                                                                                                                                                                                                                                                                                                                                                                                                                                                                                                                                                                                                                                                                                                                                                                                                                                                                                                                                                                                                                                                                                                                                                                                                                                                                                                                                                                struggle social anxiety childhood main advice friend book professional expose environment well example get anxious every single time go shop even though shopping weekly since get nervous sweaty heart pound every time go gym yet work gym year exposure work anyone else exposure work\n",
              "1      1  ...  back march know ago woke day go school feel kind felt depressed really feel like get even see anyone history p really mainly happens winter time get highly anxious also go anywhere period time get suspicious paranoid everyone anything usually end isolate room eat way less also get highly irritable emotional like one time mom sent store milk start cry store thought go kill watch believe period government something high power gerbil study something like thought news real use put fear people also sort figure imagination try manipulate usually happens anywhere day weekish also insomniac mean anything p anyways yes thats background sit class feel highly anxious everything everyone guess get break point math class second block talk friend remember lot bit blurry happen explain real knew everything figure plan subject everything told thing life matter go die might die right extremely loud talk confuse unaware behaving teacher sat back class like nothing happen kid kind confuse kind explain understand alive point die one remember u really odd recap event suicidal really character end skip rest afternoon day friend request go home sleep bit talk friend happen tell scar go kill confuse despite talk loud much emotion besides try talk parent talk mom feeling nothing real say kid feel like time discus amongst friend ca relate couple month later mom take family doctor ask question kept say everyone felt really awkward find insomniac try go doctor grandma month two ask say felt paranoid sometimes call crazy ask eczema instead say talk know awkward go doctor discus really start affect personal school life thing happen never point school affect go store know sorry wall text start happen maybe year ago year first start year old advice appreciate panic attack derealization ca go doctor advice appreciate\n",
              "2      1  ...                                                                                                                                                                                                                                                                                                                                                                                                                                                                                                                                                                                                                                                                                                                                                                                                                                                                                                                                                                                                                                                                                                                                                                                                                                                                                                                                                                                                                                                                    withdraw medicine lately effexor zyprexa cymbalta time mind close together withdraw thursday major panic attack bad need take extra kolonopin skip work friday last shaky felt sick rest night saturday quite two full day panic attack start still feel like describe chihuahua like much caffeine except small amount chocolate yesterday feel like edge panic attack since initial one sure long panic attack last\n",
              "\n",
              "[3 rows x 4 columns]"
            ]
          },
          "metadata": {},
          "execution_count": 13
        }
      ]
    },
    {
      "cell_type": "code",
      "metadata": {
        "colab": {
          "base_uri": "https://localhost:8080/"
        },
        "id": "dNAB_rTNY58t",
        "outputId": "b324bf33-3edc-4f9e-886f-bc22e87d4f28"
      },
      "source": [
        "df['label'].value_counts()"
      ],
      "execution_count": 14,
      "outputs": [
        {
          "output_type": "execute_result",
          "data": {
            "text/plain": [
              "0    217745\n",
              "1     84001\n",
              "Name: label, dtype: int64"
            ]
          },
          "metadata": {},
          "execution_count": 14
        }
      ]
    },
    {
      "cell_type": "markdown",
      "metadata": {
        "id": "fPwPfWWnprr0"
      },
      "source": [
        "## **Feature extraction**"
      ]
    },
    {
      "cell_type": "code",
      "metadata": {
        "id": "YZpKi4zjptza"
      },
      "source": [
        "# prepare tokenizer\n",
        "tokenizer = Tokenizer()\n",
        "tokenizer.fit_on_texts(reddits)"
      ],
      "execution_count": 15,
      "outputs": []
    },
    {
      "cell_type": "code",
      "metadata": {
        "colab": {
          "base_uri": "https://localhost:8080/"
        },
        "id": "1AIhZA8pp0wY",
        "outputId": "fb696285-1387-4afe-b218-0814eced3513"
      },
      "source": [
        "word_index = tokenizer.word_index\n",
        "print('WE HAVE %s UNIQUE TOKENS.' % len(word_index))"
      ],
      "execution_count": 16,
      "outputs": [
        {
          "output_type": "stream",
          "name": "stdout",
          "text": [
            "WE HAVE 95809 UNIQUE TOKENS.\n"
          ]
        }
      ]
    },
    {
      "cell_type": "code",
      "metadata": {
        "id": "2cXJjNzyp426"
      },
      "source": [
        "sequences = tokenizer.texts_to_sequences(reddits)"
      ],
      "execution_count": 17,
      "outputs": []
    },
    {
      "cell_type": "code",
      "metadata": {
        "colab": {
          "base_uri": "https://localhost:8080/"
        },
        "id": "Juj92C51p7zA",
        "outputId": "c9763da8-2568-45bb-b252-e0915844e7bf"
      },
      "source": [
        "# pad redddits to a max length of 150 words\n",
        "maxlen = 150\n",
        "X = pad_sequences(sequences, maxlen = maxlen)\n",
        "X.shape"
      ],
      "execution_count": 18,
      "outputs": [
        {
          "output_type": "execute_result",
          "data": {
            "text/plain": [
              "(301746, 150)"
            ]
          },
          "metadata": {},
          "execution_count": 18
        }
      ]
    },
    {
      "cell_type": "code",
      "metadata": {
        "id": "Q2Oc3_xbDwWk"
      },
      "source": [
        "y = df['label']"
      ],
      "execution_count": 19,
      "outputs": []
    },
    {
      "cell_type": "markdown",
      "metadata": {
        "id": "tZo2Np9bo696"
      },
      "source": [
        "##Split the dataset into **training** and **test** sets"
      ]
    },
    {
      "cell_type": "code",
      "metadata": {
        "id": "17gtbAQvom9z"
      },
      "source": [
        "X_train, X_test, y_train, y_test = train_test_split(X, y, test_size=0.2, random_state=43)"
      ],
      "execution_count": 20,
      "outputs": []
    },
    {
      "cell_type": "code",
      "metadata": {
        "colab": {
          "base_uri": "https://localhost:8080/"
        },
        "id": "q0iVVvCVo-H4",
        "outputId": "350ebcf5-c429-47a4-a0c6-7a6afeb53b80"
      },
      "source": [
        "X_train.shape, X_test.shape, y_train.shape, y_test.shape"
      ],
      "execution_count": 21,
      "outputs": [
        {
          "output_type": "execute_result",
          "data": {
            "text/plain": [
              "((241396, 150), (60350, 150), (241396,), (60350,))"
            ]
          },
          "metadata": {},
          "execution_count": 21
        }
      ]
    },
    {
      "cell_type": "code",
      "metadata": {
        "id": "t5DtzExcrPuV"
      },
      "source": [
        "y_train = np.asarray(y_train).astype('float32').reshape((-1,1))\n",
        "y_test = np.asarray(y_test).astype('float32').reshape((-1,1))"
      ],
      "execution_count": 22,
      "outputs": []
    },
    {
      "cell_type": "markdown",
      "metadata": {
        "id": "24wLyGZApa_B"
      },
      "source": [
        "# Defining the **Convolutional Neural Network Model**"
      ]
    },
    {
      "cell_type": "code",
      "metadata": {
        "id": "lO9o6yzwpUIi"
      },
      "source": [
        "# Prepare hyperparameters of CNN\n",
        "vocab_size = len(word_index) + 1\n",
        "# output_dim = 32"
      ],
      "execution_count": 23,
      "outputs": []
    },
    {
      "cell_type": "code",
      "metadata": {
        "id": "zrk1T7vWpium"
      },
      "source": [
        "# Building the CNN Model\n",
        "model = Sequential()\n",
        "\n",
        "model.add(Embedding(vocab_size, 128, input_length=maxlen))\n",
        "model.add(Conv1D(128, 3, padding='same', activation='relu'))\n",
        "model.add(Conv1D(64, 3, padding='same', activation='relu'))\n",
        "model.add(MaxPooling1D())\n",
        "model.add(Flatten())\n",
        "\n",
        "model.add(Dense(250, activation='relu'))\n",
        "\n",
        "model.add(Dense(1, activation='sigmoid'))"
      ],
      "execution_count": 24,
      "outputs": []
    },
    {
      "cell_type": "markdown",
      "metadata": {
        "id": "sDQVHW1pEPm4"
      },
      "source": [
        "### Visualizing the CNN Model"
      ]
    },
    {
      "cell_type": "code",
      "metadata": {
        "colab": {
          "base_uri": "https://localhost:8080/",
          "height": 758
        },
        "id": "bbF56xATLULt",
        "outputId": "16f887b6-bfad-4e8e-d8a9-17f2b6517a20"
      },
      "source": [
        "plot_model(model)"
      ],
      "execution_count": 25,
      "outputs": [
        {
          "output_type": "execute_result",
          "data": {
            "image/png": "[encoded data removed]",
            "text/plain": [
              "<IPython.core.display.Image object>"
            ]
          },
          "metadata": {},
          "execution_count": 25
        }
      ]
    },
    {
      "cell_type": "code",
      "metadata": {
        "colab": {
          "base_uri": "https://localhost:8080/"
        },
        "id": "2AXhVEpKqLsg",
        "outputId": "2317b9da-070d-4e03-a244-fc68dc355e7b"
      },
      "source": [
        "model.summary()"
      ],
      "execution_count": 26,
      "outputs": [
        {
          "output_type": "stream",
          "name": "stdout",
          "text": [
            "Model: \"sequential\"\n",
            "_________________________________________________________________\n",
            "Layer (type)                 Output Shape              Param #   \n",
            "=================================================================\n",
            "embedding (Embedding)        (None, 150, 128)          12263680  \n",
            "_________________________________________________________________\n",
            "conv1d (Conv1D)              (None, 150, 128)          49280     \n",
            "_________________________________________________________________\n",
            "conv1d_1 (Conv1D)            (None, 150, 64)           24640     \n",
            "_________________________________________________________________\n",
            "max_pooling1d (MaxPooling1D) (None, 75, 64)            0         \n",
            "_________________________________________________________________\n",
            "flatten (Flatten)            (None, 4800)              0         \n",
            "_________________________________________________________________\n",
            "dense (Dense)                (None, 250)               1200250   \n",
            "_________________________________________________________________\n",
            "dense_1 (Dense)              (None, 1)                 251       \n",
            "=================================================================\n",
            "Total params: 13,538,101\n",
            "Trainable params: 13,538,101\n",
            "Non-trainable params: 0\n",
            "_________________________________________________________________\n"
          ]
        }
      ]
    },
    {
      "cell_type": "markdown",
      "metadata": {
        "id": "MtvNxeoiEiTH"
      },
      "source": [
        "### Using the **Adam optimizer** for the optimization and **Binary cross entropy** to calculate the Loss Function"
      ]
    },
    {
      "cell_type": "code",
      "metadata": {
        "id": "Z1pXLbl_LzV-"
      },
      "source": [
        "model.compile(loss='binary_crossentropy', optimizer='adam', metrics=['accuracy'])"
      ],
      "execution_count": 27,
      "outputs": []
    },
    {
      "cell_type": "code",
      "metadata": {
        "colab": {
          "base_uri": "https://localhost:8080/"
        },
        "id": "o7ZoCd_Qq0Vp",
        "outputId": "b966ebc8-6c17-40ae-9aa0-5ffae15f934a"
      },
      "source": [
        "start = time.time()\n",
        "\n",
        "# fit the model to the training set\n",
        "cnn_hist = model.fit(X_train, y_train, epochs = 5, validation_split = 0.2)\n",
        "\n",
        "# evaluation of the model on the test set\n",
        "scores = model.evaluate(X_test, y_test, verbose = 0)\n",
        "print(\"Accuracy: %.2f%%\" % (scores[1]*100))\n",
        "warnings.filterwarnings(\"ignore\")\n",
        "\n",
        "end = time.time()\n",
        "total = (end-start) // 60\n",
        "print('Training duration : {} minutes'.format(total))"
      ],
      "execution_count": 28,
      "outputs": [
        {
          "output_type": "stream",
          "name": "stdout",
          "text": [
            "Epoch 1/5\n",
            "6035/6035 [==============================] - 1077s 178ms/step - loss: 0.2374 - accuracy: 0.9086 - val_loss: 0.2237 - val_accuracy: 0.9129\n",
            "Epoch 2/5\n",
            "6035/6035 [==============================] - 1063s 176ms/step - loss: 0.1955 - accuracy: 0.9262 - val_loss: 0.2231 - val_accuracy: 0.9138\n",
            "Epoch 3/5\n",
            "6035/6035 [==============================] - 1056s 175ms/step - loss: 0.1619 - accuracy: 0.9390 - val_loss: 0.2446 - val_accuracy: 0.9073\n",
            "Epoch 4/5\n",
            "6035/6035 [==============================] - 1038s 172ms/step - loss: 0.1238 - accuracy: 0.9541 - val_loss: 0.2830 - val_accuracy: 0.9013\n",
            "Epoch 5/5\n",
            "6035/6035 [==============================] - 1044s 173ms/step - loss: 0.0867 - accuracy: 0.9685 - val_loss: 0.3982 - val_accuracy: 0.8991\n",
            "Accuracy: 90.28%\n",
            "Training duration : 88.0 minutes\n"
          ]
        }
      ]
    },
    {
      "cell_type": "code",
      "metadata": {
        "id": "b9UZy78yEK_U"
      },
      "source": [
        "history_dict = cnn_hist.history"
      ],
      "execution_count": 29,
      "outputs": []
    },
    {
      "cell_type": "markdown",
      "metadata": {
        "id": "gutqv5GsKG0W"
      },
      "source": [
        "## **Plotting the loss and the accuracy of both training and validation sets using the model history**"
      ]
    },
    {
      "cell_type": "code",
      "metadata": {
        "id": "u0R9WAp63esX",
        "colab": {
          "base_uri": "https://localhost:8080/",
          "height": 513
        },
        "outputId": "7e35ebde-d2eb-43c9-eb63-36c9acf880a0"
      },
      "source": [
        "# loss\n",
        "loss_values = history_dict['loss']\n",
        "val_loss_values = history_dict['val_loss']\n",
        "\n",
        "epochs = range(1, len(loss_values) + 1) \n",
        "\n",
        "# plot\n",
        "plt.figure(figsize=(12, 8))\n",
        "plt.plot(epochs, loss_values, 'green',label='Training loss')\n",
        "plt.plot(epochs, val_loss_values, 'orange', label='Validation loss')\n",
        "plt.title('Training and validation loss')\n",
        "plt.xlabel('Epochs')\n",
        "plt.ylabel('Loss')\n",
        "plt.legend()\n",
        "plt.show()"
      ],
      "execution_count": 30,
      "outputs": [
        {
          "output_type": "display_data",
          "data": {
            "image/png": "[encoded data removed]",
            "text/plain": [
              "<Figure size 864x576 with 1 Axes>"
            ]
          },
          "metadata": {
            "needs_background": "light"
          }
        }
      ]
    },
    {
      "cell_type": "code",
      "metadata": {
        "id": "c26VWaqPFfQ7",
        "colab": {
          "base_uri": "https://localhost:8080/",
          "height": 513
        },
        "outputId": "bfddb6ae-4847-42e6-faaa-258558e444cd"
      },
      "source": [
        "# accuracy\n",
        "acc = history_dict['accuracy']\n",
        "val_acc = history_dict['val_accuracy']\n",
        "\n",
        "# range of X (no. of epochs)\n",
        "epochs = range(1, len(acc) + 1)\n",
        "\n",
        "plt.figure(figsize=(12, 8))\n",
        "plt.plot(epochs, acc, 'green',label='Training accuracy')\n",
        "# orange is for \"orange\"\n",
        "plt.plot(epochs, val_acc, 'orange', label='Validation accuracy')\n",
        "plt.title('Training and validation accuracy')\n",
        "plt.xlabel('Epochs')\n",
        "plt.ylabel('Accuracy')\n",
        "plt.legend()\n",
        "plt.show()"
      ],
      "execution_count": 31,
      "outputs": [
        {
          "output_type": "display_data",
          "data": {
            "image/png": "[encoded data removed]",
            "text/plain": [
              "<Figure size 864x576 with 1 Axes>"
            ]
          },
          "metadata": {
            "needs_background": "light"
          }
        }
      ]
    },
    {
      "cell_type": "markdown",
      "metadata": {
        "id": "gpQDITnpJy7X"
      },
      "source": [
        "## **Confusion matrix**"
      ]
    },
    {
      "cell_type": "code",
      "metadata": {
        "id": "fdm2im9sFFd4"
      },
      "source": [
        "preds = np.round(model.predict(X_test), 0)"
      ],
      "execution_count": 32,
      "outputs": []
    },
    {
      "cell_type": "code",
      "metadata": {
        "id": "eoDqL9Xj9FMj"
      },
      "source": [
        "cm = confusion_matrix(y_test, preds)"
      ],
      "execution_count": 33,
      "outputs": []
    },
    {
      "cell_type": "code",
      "metadata": {
        "id": "yZxhKaOV_aAa"
      },
      "source": [
        "df_cm = pd.DataFrame(cm, index = [\"anxiety\", \"non-anxiety\"], columns = [\"anxiety\", \"non-anxiety\"])"
      ],
      "execution_count": 34,
      "outputs": []
    },
    {
      "cell_type": "code",
      "metadata": {
        "colab": {
          "base_uri": "https://localhost:8080/",
          "height": 296
        },
        "id": "uAfhW45D8sQI",
        "outputId": "2b9ae3f6-f5e4-4b35-cea5-3de055bbb55d"
      },
      "source": [
        "plt.figure(figsize=(6, 4))\n",
        "sb.heatmap(df_cm, annot=True, cmap=\"crest\", fmt='d')\n",
        "plt.xlabel('True Class')\n",
        "plt.ylabel('Predicted Class')"
      ],
      "execution_count": 38,
      "outputs": [
        {
          "output_type": "execute_result",
          "data": {
            "text/plain": [
              "Text(33.0, 0.5, 'Predicted Class')"
            ]
          },
          "metadata": {},
          "execution_count": 38
        },
        {
          "output_type": "display_data",
          "data": {
            "image/png": "[encoded data removed]",
            "text/plain": [
              "<Figure size 432x288 with 2 Axes>"
            ]
          },
          "metadata": {
            "needs_background": "light"
          }
        }
      ]
    },
    {
      "cell_type": "code",
      "metadata": {
        "id": "iggsDHPH8tdS"
      },
      "source": [
        ""
      ],
      "execution_count": null,
      "outputs": []
    }
  ]
}