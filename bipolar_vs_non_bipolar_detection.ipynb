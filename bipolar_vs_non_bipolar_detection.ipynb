{
  "nbformat": 4,
  "nbformat_minor": 0,
  "metadata": {
    "colab": {
      "name": "bipolar_vs_non_bipolar_detection",
      "provenance": [],
      "collapsed_sections": []
    },
    "kernelspec": {
      "name": "python3",
      "display_name": "Python 3"
    },
    "language_info": {
      "name": "python"
    }
  },
  "cells": [
    {
      "cell_type": "code",
      "metadata": {
        "id": "H0nOKFsQXRfU"
      },
      "source": [
        "import numpy as np\n",
        "import pandas as pd\n",
        "import tensorflow as tf\n",
        "from sklearn.model_selection import train_test_split\n",
        "from keras.models import Sequential\n",
        "from keras.layers import Dense\n",
        "from keras.layers.convolutional import Conv1D\n",
        "from keras.layers.convolutional import MaxPooling1D\n",
        "from keras.layers.embeddings import Embedding\n",
        "from keras.layers import Flatten\n",
        "\n",
        "from keras.preprocessing.text import Tokenizer\n",
        "from keras.preprocessing.sequence import pad_sequences\n",
        "\n",
        "import matplotlib.pyplot as plt\n",
        "import seaborn as sb\n",
        "from sklearn.metrics import confusion_matrix\n",
        "from sklearn.metrics import classification_report\n",
        "from sklearn.metrics import plot_confusion_matrix\n",
        "\n",
        "from keras.constraints import maxnorm\n",
        "from keras.layers import Dropout\n",
        "from tensorflow.keras.utils import plot_model\n",
        "import time\n",
        "import warnings\n",
        "warnings.filterwarnings(\"ignore\")"
      ],
      "execution_count": 31,
      "outputs": []
    },
    {
      "cell_type": "code",
      "metadata": {
        "id": "465blQZ_X718"
      },
      "source": [
        "path = '/content/drive/MyDrive/final_tidy_reddits_lemmetized.json'\n",
        "df = pd.read_json(path, orient='table')"
      ],
      "execution_count": 4,
      "outputs": []
    },
    {
      "cell_type": "code",
      "metadata": {
        "colab": {
          "base_uri": "https://localhost:8080/"
        },
        "id": "VxnpFu0mpFDY",
        "outputId": "c87cfd38-4379-4940-fa1b-cb094c78bf40"
      },
      "source": [
        "df.shape"
      ],
      "execution_count": 5,
      "outputs": [
        {
          "output_type": "execute_result",
          "data": {
            "text/plain": [
              "(301746, 4)"
            ]
          },
          "metadata": {},
          "execution_count": 5
        }
      ]
    },
    {
      "cell_type": "code",
      "metadata": {
        "id": "mT3B6wV9CrIb"
      },
      "source": [
        "pd.options.display.max_colwidth = None\n",
        "pd.options.display.max_rows = None"
      ],
      "execution_count": 6,
      "outputs": []
    },
    {
      "cell_type": "code",
      "metadata": {
        "colab": {
          "base_uri": "https://localhost:8080/",
          "height": 1000
        },
        "id": "fg0u1SJ4rIul",
        "outputId": "8c9ad04f-0c48-4b30-c3a7-aad3b943959f"
      },
      "source": [
        "df.sample(7)"
      ],
      "execution_count": 7,
      "outputs": [
        {
          "output_type": "execute_result",
          "data": {
            "text/html": [
              "<div>\n",
              "<style scoped>\n",
              "    .dataframe tbody tr th:only-of-type {\n",
              "        vertical-align: middle;\n",
              "    }\n",
              "\n",
              "    .dataframe tbody tr th {\n",
              "        vertical-align: top;\n",
              "    }\n",
              "\n",
              "    .dataframe thead th {\n",
              "        text-align: right;\n",
              "    }\n",
              "</style>\n",
              "<table border=\"1\" class=\"dataframe\">\n",
              "  <thead>\n",
              "    <tr style=\"text-align: right;\">\n",
              "      <th></th>\n",
              "      <th>label</th>\n",
              "      <th>text</th>\n",
              "      <th>lemmatized</th>\n",
              "      <th>tokens_back_to_text</th>\n",
              "    </tr>\n",
              "  </thead>\n",
              "  <tbody>\n",
              "    <tr>\n",
              "      <th>266509</th>\n",
              "      <td>depression</td>\n",
              "      <td>[boyfriend, arguing, pointlessly, got, depressed, decided, withdraw, came, drew, back, awesome, played, hair, awesome, gave, message, nice, asked, wrong, idk, go, feel, like, talking, takes, much, energy, decides, since, want, talk, leave, alone, got, pissed, like, fault, taking, depression, personally, told, numerous, times, honestly, like, people, next, depressed, like, talking, sometimes, nothing, wrong, even, tho, feels, like, everything, wrong, like, well, tried, would, talk, like, try, hard, anyway, whatever, wanted, vent, one, talk, knows, run, end, got, depression, maybe, meant, together, tells, go, away, guess, cant, expect, others, act, way, bc, wish, could, run, away, venting]</td>\n",
              "      <td>[boyfriend, argue, pointlessly, get, depressed, decide, withdraw, come, drew, back, awesome, played, hair, awesome, give, message, nice, ask, wrong, idk, go, feel, like, talk, take, much, energy, decides, since, want, talk, leave, alone, get, piss, like, fault, take, depression, personally, told, numerous, time, honestly, like, people, next, depressed, like, talk, sometimes, nothing, wrong, even, tho, feel, like, everything, wrong, like, well, try, would, talk, like, try, hard, anyway, whatever, want, vent, one, talk, know, run, end, get, depression, maybe, meant, together, tell, go, away, guess, cant, expect, others, act, way, bc, wish, could, run, away, vent]</td>\n",
              "      <td>boyfriend argue pointlessly get depressed decide withdraw come drew back awesome played hair awesome give message nice ask wrong idk go feel like talk take much energy decides since want talk leave alone get piss like fault take depression personally told numerous time honestly like people next depressed like talk sometimes nothing wrong even tho feel like everything wrong like well try would talk like try hard anyway whatever want vent one talk know run end get depression maybe meant together tell go away guess cant expect others act way bc wish could run away vent</td>\n",
              "    </tr>\n",
              "    <tr>\n",
              "      <th>82997</th>\n",
              "      <td>Anxiety</td>\n",
              "      <td>[year, old, cousin, asked, sexual, things, consented, deep, regrets, anxiety, attacks, almost, daily, nearly, years, hate, saying, yes, hate, letting, happen, dont, even, know, id, say, yes, something, like, struggle, family, events, miss, many, seems, issues, remorse, regarding, ive, severe, depression, well, keep, asking, would, agree, let, happen, fault, saying, yes, want, move, past, fear, never]</td>\n",
              "      <td>[year, old, cousin, ask, sexual, thing, consent, deep, regret, anxiety, attack, almost, daily, nearly, year, hate, say, yes, hate, let, happen, dont, even, know, id, say, yes, something, like, struggle, family, event, miss, many, seem, issue, remorse, regard, ive, severe, depression, well, keep, ask, would, agree, let, happen, fault, say, yes, want, move, past, fear, never]</td>\n",
              "      <td>year old cousin ask sexual thing consent deep regret anxiety attack almost daily nearly year hate say yes hate let happen dont even know id say yes something like struggle family event miss many seem issue remorse regard ive severe depression well keep ask would agree let happen fault say yes want move past fear never</td>\n",
              "    </tr>\n",
              "    <tr>\n",
              "      <th>242532</th>\n",
              "      <td>depression</td>\n",
              "      <td>[fucking, hate, life, nobody, ever, talks, outside, school, let, alone, invites, anything, time, ever, told, anyone, depression, told, stop, unappreciative, looking, attention, physically, emotionally, abusive, family, treats, like, horse, shit, hates, feel, like, gaping, void, stomach, never, goes, away, brink, suicide, got, beat, silly, parents, told, call, child, protective, services, take, away, told, world, would, better, ran, traffic, tired, feeling, alone, tired, paranoid, everyone, fake, pretending, like, care, tired, alive, probably, going, hang, days, gon, na, go, cry, sleep, goodbye, world, even, going, hang, soon]</td>\n",
              "      <td>[fuck, hate, life, nobody, ever, talk, outside, school, let, alone, invite, anything, time, ever, told, anyone, depression, told, stop, unappreciative, look, attention, physically, emotionally, abusive, family, treat, like, horse, shit, hate, feel, like, gap, void, stomach, never, go, away, brink, suicide, get, beat, silly, parent, told, call, child, protective, service, take, away, told, world, would, well, ran, traffic, tire, feel, alone, tire, paranoid, everyone, fake, pretend, like, care, tire, alive, probably, go, hang, day, gon, na, go, cry, sleep, goodbye, world, even, go, hang, soon]</td>\n",
              "      <td>fuck hate life nobody ever talk outside school let alone invite anything time ever told anyone depression told stop unappreciative look attention physically emotionally abusive family treat like horse shit hate feel like gap void stomach never go away brink suicide get beat silly parent told call child protective service take away told world would well ran traffic tire feel alone tire paranoid everyone fake pretend like care tire alive probably go hang day gon na go cry sleep goodbye world even go hang soon</td>\n",
              "    </tr>\n",
              "    <tr>\n",
              "      <th>46208</th>\n",
              "      <td>Anxiety</td>\n",
              "      <td>[ive, seeing, doctor, year, anxiety, depression, like, doctors, nhs, didnt, want, prescribe, drugs, im, said, im, weve, tried, everything, else, medication, take, ecg, anxious, im, pretty, self, conscious, go, back, weeks, see, feel, whether, need, change, medication, something, else, hes, also, going, refer, one, one, counselling, doctor, truly, amazing, im, lucky, caring, doctor, dont, know, id, without, nhs, sometimes, thought, id, share, guys, took, medicine, anxiety, first, time]</td>\n",
              "      <td>[ive, see, doctor, year, anxiety, depression, like, doctor, nh, didnt, want, prescribe, drug, im, say, im, weve, try, everything, else, medication, take, ecg, anxious, im, pretty, self, conscious, go, back, week, see, feel, whether, need, change, medication, something, else, he, also, go, refer, one, one, counsel, doctor, truly, amaze, im, lucky, care, doctor, dont, know, id, without, nh, sometimes, thought, id, share, guy, take, medicine, anxiety, first, time]</td>\n",
              "      <td>ive see doctor year anxiety depression like doctor nh didnt want prescribe drug im say im weve try everything else medication take ecg anxious im pretty self conscious go back week see feel whether need change medication something else he also go refer one one counsel doctor truly amaze im lucky care doctor dont know id without nh sometimes thought id share guy take medicine anxiety first time</td>\n",
              "    </tr>\n",
              "    <tr>\n",
              "      <th>5438</th>\n",
              "      <td>Anxiety</td>\n",
              "      <td>[people, use, terms, interchangeably, gather, people, elsewhere, online, seem, think, anxiety, attack, triggered, outside, stressor, panic, attacks, happen, random, never, officially, diagnosed, see, counselor, understanding, able, diagnose, least, medicate, anything, sort, anxiety, disorder, although, recently, experiencing, symptoms, panic, attack, except, triggered, something, like, public, speaking, driving, would, anxiety, attack, accurate, description, truly, difference, overly, nervous, difference, anxiety, attack, panic, attack]</td>\n",
              "      <td>[people, use, term, interchangeably, gather, people, elsewhere, online, seem, think, anxiety, attack, trigger, outside, stressor, panic, attack, happen, random, never, officially, diagnose, see, counselor, understand, able, diagnose, least, medicate, anything, sort, anxiety, disorder, although, recently, experience, symptom, panic, attack, except, trigger, something, like, public, speak, drive, would, anxiety, attack, accurate, description, truly, difference, overly, nervous, difference, anxiety, attack, panic, attack]</td>\n",
              "      <td>people use term interchangeably gather people elsewhere online seem think anxiety attack trigger outside stressor panic attack happen random never officially diagnose see counselor understand able diagnose least medicate anything sort anxiety disorder although recently experience symptom panic attack except trigger something like public speak drive would anxiety attack accurate description truly difference overly nervous difference anxiety attack panic attack</td>\n",
              "    </tr>\n",
              "    <tr>\n",
              "      <th>271613</th>\n",
              "      <td>depression</td>\n",
              "      <td>[noticed, tend, inspired, people, know, depressed, died, young, age, personality, death, thought, lot, death, lil, peep, died, discovered, music, became, drawn, examples, wondering, normal, drawn, kind, people, also, drawn, peoples, death, normal, drawn, depressed, people]</td>\n",
              "      <td>[notice, tend, inspire, people, know, depressed, die, young, age, personality, death, thought, lot, death, lil, peep, die, discover, music, become, drawn, example, wonder, normal, drawn, kind, people, also, drawn, people, death, normal, drawn, depressed, people]</td>\n",
              "      <td>notice tend inspire people know depressed die young age personality death thought lot death lil peep die discover music become drawn example wonder normal drawn kind people also drawn people death normal drawn depressed people</td>\n",
              "    </tr>\n",
              "    <tr>\n",
              "      <th>202698</th>\n",
              "      <td>depression</td>\n",
              "      <td>[even, though, lots, people, offered, help, never, able, exchange, messages, without, ghosted, new, kind, low, connect, even, people, depression, forum, really, feels, like, truly, alone, entire, world, subreddit, helpful]</td>\n",
              "      <td>[even, though, lot, people, offer, help, never, able, exchange, message, without, ghost, new, kind, low, connect, even, people, depression, forum, really, feel, like, truly, alone, entire, world, subreddit, helpful]</td>\n",
              "      <td>even though lot people offer help never able exchange message without ghost new kind low connect even people depression forum really feel like truly alone entire world subreddit helpful</td>\n",
              "    </tr>\n",
              "  </tbody>\n",
              "</table>\n",
              "</div>"
            ],
            "text/plain": [
              "             label  ...                                                                                                                                                                                                                                                                                                                                                                                                                                                                                                                                                                           tokens_back_to_text\n",
              "266509  depression  ...  boyfriend argue pointlessly get depressed decide withdraw come drew back awesome played hair awesome give message nice ask wrong idk go feel like talk take much energy decides since want talk leave alone get piss like fault take depression personally told numerous time honestly like people next depressed like talk sometimes nothing wrong even tho feel like everything wrong like well try would talk like try hard anyway whatever want vent one talk know run end get depression maybe meant together tell go away guess cant expect others act way bc wish could run away vent\n",
              "82997      Anxiety  ...                                                                                                                                                                                                                                                               year old cousin ask sexual thing consent deep regret anxiety attack almost daily nearly year hate say yes hate let happen dont even know id say yes something like struggle family event miss many seem issue remorse regard ive severe depression well keep ask would agree let happen fault say yes want move past fear never\n",
              "242532  depression  ...                                                              fuck hate life nobody ever talk outside school let alone invite anything time ever told anyone depression told stop unappreciative look attention physically emotionally abusive family treat like horse shit hate feel like gap void stomach never go away brink suicide get beat silly parent told call child protective service take away told world would well ran traffic tire feel alone tire paranoid everyone fake pretend like care tire alive probably go hang day gon na go cry sleep goodbye world even go hang soon\n",
              "46208      Anxiety  ...                                                                                                                                                                                  ive see doctor year anxiety depression like doctor nh didnt want prescribe drug im say im weve try everything else medication take ecg anxious im pretty self conscious go back week see feel whether need change medication something else he also go refer one one counsel doctor truly amaze im lucky care doctor dont know id without nh sometimes thought id share guy take medicine anxiety first time\n",
              "5438       Anxiety  ...                                                                                                               people use term interchangeably gather people elsewhere online seem think anxiety attack trigger outside stressor panic attack happen random never officially diagnose see counselor understand able diagnose least medicate anything sort anxiety disorder although recently experience symptom panic attack except trigger something like public speak drive would anxiety attack accurate description truly difference overly nervous difference anxiety attack panic attack\n",
              "271613  depression  ...                                                                                                                                                                                                                                                                                                                                                            notice tend inspire people know depressed die young age personality death thought lot death lil peep die discover music become drawn example wonder normal drawn kind people also drawn people death normal drawn depressed people\n",
              "202698  depression  ...                                                                                                                                                                                                                                                                                                                                                                                                     even though lot people offer help never able exchange message without ghost new kind low connect even people depression forum really feel like truly alone entire world subreddit helpful\n",
              "\n",
              "[7 rows x 4 columns]"
            ]
          },
          "metadata": {},
          "execution_count": 7
        }
      ]
    },
    {
      "cell_type": "code",
      "metadata": {
        "colab": {
          "base_uri": "https://localhost:8080/"
        },
        "id": "nDdzvsHcMTMl",
        "outputId": "b7c67e9f-0615-49e4-b547-1d5aace351ba"
      },
      "source": [
        "df.isna().sum()"
      ],
      "execution_count": 8,
      "outputs": [
        {
          "output_type": "execute_result",
          "data": {
            "text/plain": [
              "label                  0\n",
              "text                   0\n",
              "lemmatized             0\n",
              "tokens_back_to_text    0\n",
              "dtype: int64"
            ]
          },
          "metadata": {},
          "execution_count": 8
        }
      ]
    },
    {
      "cell_type": "code",
      "metadata": {
        "colab": {
          "base_uri": "https://localhost:8080/"
        },
        "id": "0MsfZsxGZZsr",
        "outputId": "a3f8ad56-7c0b-4333-d87b-2be44c2181f0"
      },
      "source": [
        "reddits = list(df['tokens_back_to_text'])\n",
        "type(reddits)"
      ],
      "execution_count": 9,
      "outputs": [
        {
          "output_type": "execute_result",
          "data": {
            "text/plain": [
              "list"
            ]
          },
          "metadata": {},
          "execution_count": 9
        }
      ]
    },
    {
      "cell_type": "code",
      "metadata": {
        "colab": {
          "base_uri": "https://localhost:8080/"
        },
        "id": "orF09VH4Zg9Y",
        "outputId": "2402f6f5-b1d4-42b4-bd58-98612e1bea80"
      },
      "source": [
        "len(reddits)"
      ],
      "execution_count": 10,
      "outputs": [
        {
          "output_type": "execute_result",
          "data": {
            "text/plain": [
              "301746"
            ]
          },
          "metadata": {},
          "execution_count": 10
        }
      ]
    },
    {
      "cell_type": "code",
      "metadata": {
        "colab": {
          "base_uri": "https://localhost:8080/"
        },
        "id": "vpwv6by5n27I",
        "outputId": "edff98a2-b2c2-4059-8beb-097471caef63"
      },
      "source": [
        "df['label'].value_counts()"
      ],
      "execution_count": 11,
      "outputs": [
        {
          "output_type": "execute_result",
          "data": {
            "text/plain": [
              "depression    178453\n",
              "Anxiety        84001\n",
              "bipolar        39292\n",
              "Name: label, dtype: int64"
            ]
          },
          "metadata": {},
          "execution_count": 11
        }
      ]
    },
    {
      "cell_type": "code",
      "metadata": {
        "id": "yO9yxGL5FIop"
      },
      "source": [
        "df['label'] = np.where(df['label']=='bipolar',1,0)"
      ],
      "execution_count": 12,
      "outputs": []
    },
    {
      "cell_type": "code",
      "metadata": {
        "colab": {
          "base_uri": "https://localhost:8080/",
          "height": 958
        },
        "id": "k_xvvIBwn57v",
        "outputId": "e504ca55-2b20-48ec-8b45-6925e1185614"
      },
      "source": [
        "df.head(3)"
      ],
      "execution_count": 13,
      "outputs": [
        {
          "output_type": "execute_result",
          "data": {
            "text/html": [
              "<div>\n",
              "<style scoped>\n",
              "    .dataframe tbody tr th:only-of-type {\n",
              "        vertical-align: middle;\n",
              "    }\n",
              "\n",
              "    .dataframe tbody tr th {\n",
              "        vertical-align: top;\n",
              "    }\n",
              "\n",
              "    .dataframe thead th {\n",
              "        text-align: right;\n",
              "    }\n",
              "</style>\n",
              "<table border=\"1\" class=\"dataframe\">\n",
              "  <thead>\n",
              "    <tr style=\"text-align: right;\">\n",
              "      <th></th>\n",
              "      <th>label</th>\n",
              "      <th>text</th>\n",
              "      <th>lemmatized</th>\n",
              "      <th>tokens_back_to_text</th>\n",
              "    </tr>\n",
              "  </thead>\n",
              "  <tbody>\n",
              "    <tr>\n",
              "      <th>0</th>\n",
              "      <td>0</td>\n",
              "      <td>[struggled, social, anxiety, childhood, main, advice, friends, books, professionals, expose, environments, better, example, get, anxious, every, single, time, go, shop, even, though, shopping, weekly, since, get, nervous, sweaty, heart, pounding, every, time, go, gym, yet, working, gym, years, exposure, worked, anyone, else, exposure, work]</td>\n",
              "      <td>[struggle, social, anxiety, childhood, main, advice, friend, book, professional, expose, environment, well, example, get, anxious, every, single, time, go, shop, even, though, shopping, weekly, since, get, nervous, sweaty, heart, pound, every, time, go, gym, yet, work, gym, year, exposure, work, anyone, else, exposure, work]</td>\n",
              "      <td>struggle social anxiety childhood main advice friend book professional expose environment well example get anxious every single time go shop even though shopping weekly since get nervous sweaty heart pound every time go gym yet work gym year exposure work anyone else exposure work</td>\n",
              "    </tr>\n",
              "    <tr>\n",
              "      <th>1</th>\n",
              "      <td>0</td>\n",
              "      <td>[back, march, know, ago, woke, day, go, school, feeling, kind, felt, depressed, really, feel, like, getting, even, seeing, anyone, history, p, really, mainly, happens, winter, time, get, highly, anxious, also, going, anywhere, periods, time, get, suspicious, paranoid, everyone, anything, usually, end, isolating, room, eat, way, less, also, get, highly, irritable, emotional, like, one, time, mom, sent, store, milk, started, crying, store, thought, going, killed, watched, believe, periods, government, something, higher, power, gerbil, studies, something, like, thought, news, real, used, put, fear, people, also, sort, figures, imagination, trying, manipulate, usually, happens, anywhere, day, weekish, also, insomniac, means, anything, p, anyways, yes, ...]</td>\n",
              "      <td>[back, march, know, ago, woke, day, go, school, feel, kind, felt, depressed, really, feel, like, get, even, see, anyone, history, p, really, mainly, happens, winter, time, get, highly, anxious, also, go, anywhere, period, time, get, suspicious, paranoid, everyone, anything, usually, end, isolate, room, eat, way, less, also, get, highly, irritable, emotional, like, one, time, mom, sent, store, milk, start, cry, store, thought, go, kill, watch, believe, period, government, something, high, power, gerbil, study, something, like, thought, news, real, use, put, fear, people, also, sort, figure, imagination, try, manipulate, usually, happens, anywhere, day, weekish, also, insomniac, mean, anything, p, anyways, yes, ...]</td>\n",
              "      <td>back march know ago woke day go school feel kind felt depressed really feel like get even see anyone history p really mainly happens winter time get highly anxious also go anywhere period time get suspicious paranoid everyone anything usually end isolate room eat way less also get highly irritable emotional like one time mom sent store milk start cry store thought go kill watch believe period government something high power gerbil study something like thought news real use put fear people also sort figure imagination try manipulate usually happens anywhere day weekish also insomniac mean anything p anyways yes thats background sit class feel highly anxious everything everyone guess get break point math class second block talk friend remember lot bit blurry happen explain real knew everything figure plan subject everything told thing life matter go die might die right extremely loud talk confuse unaware behaving teacher sat back class like nothing happen kid kind confuse kind explain understand alive point die one remember u really odd recap event suicidal really character end skip rest afternoon day friend request go home sleep bit talk friend happen tell scar go kill confuse despite talk loud much emotion besides try talk parent talk mom feeling nothing real say kid feel like time discus amongst friend ca relate couple month later mom take family doctor ask question kept say everyone felt really awkward find insomniac try go doctor grandma month two ask say felt paranoid sometimes call crazy ask eczema instead say talk know awkward go doctor discus really start affect personal school life thing happen never point school affect go store know sorry wall text start happen maybe year ago year first start year old advice appreciate panic attack derealization ca go doctor advice appreciate</td>\n",
              "    </tr>\n",
              "    <tr>\n",
              "      <th>2</th>\n",
              "      <td>0</td>\n",
              "      <td>[withdrawing, medicines, lately, effexor, zyprexa, cymbalta, time, mind, close, together, withdraw, thursday, major, panic, attack, bad, needed, take, extra, kolonopin, skip, work, friday, lasted, shaky, felt, sick, rest, night, saturday, quite, two, full, days, panic, attack, started, still, feel, like, describe, chihuahua, like, much, caffeine, except, small, amount, chocolate, yesterday, feels, like, edge, panic, attack, since, initial, one, sure, long, panic, attack, last]</td>\n",
              "      <td>[withdraw, medicine, lately, effexor, zyprexa, cymbalta, time, mind, close, together, withdraw, thursday, major, panic, attack, bad, need, take, extra, kolonopin, skip, work, friday, last, shaky, felt, sick, rest, night, saturday, quite, two, full, day, panic, attack, start, still, feel, like, describe, chihuahua, like, much, caffeine, except, small, amount, chocolate, yesterday, feel, like, edge, panic, attack, since, initial, one, sure, long, panic, attack, last]</td>\n",
              "      <td>withdraw medicine lately effexor zyprexa cymbalta time mind close together withdraw thursday major panic attack bad need take extra kolonopin skip work friday last shaky felt sick rest night saturday quite two full day panic attack start still feel like describe chihuahua like much caffeine except small amount chocolate yesterday feel like edge panic attack since initial one sure long panic attack last</td>\n",
              "    </tr>\n",
              "  </tbody>\n",
              "</table>\n",
              "</div>"
            ],
            "text/plain": [
              "   label  ...                                                                                                                                                                                                                                                                                                                                                                                                                                                                                                                                                                                                                                                                                                                                                                                                                                                                                                                                                                                                                                                                                                                                                                                                                                                                                                                                                                                                                                                                                                                                                                                                                                                                                                                                                                                                                                                                      tokens_back_to_text\n",
              "0      0  ...                                                                                                                                                                                                                                                                                                                                                                                                                                                                                                                                                                                                                                                                                                                                                                                                                                                                                                                                                                                                                                                                                                                                                                                                                                                                                                                                                                                                                                                                                                                                                                                                struggle social anxiety childhood main advice friend book professional expose environment well example get anxious every single time go shop even though shopping weekly since get nervous sweaty heart pound every time go gym yet work gym year exposure work anyone else exposure work\n",
              "1      0  ...  back march know ago woke day go school feel kind felt depressed really feel like get even see anyone history p really mainly happens winter time get highly anxious also go anywhere period time get suspicious paranoid everyone anything usually end isolate room eat way less also get highly irritable emotional like one time mom sent store milk start cry store thought go kill watch believe period government something high power gerbil study something like thought news real use put fear people also sort figure imagination try manipulate usually happens anywhere day weekish also insomniac mean anything p anyways yes thats background sit class feel highly anxious everything everyone guess get break point math class second block talk friend remember lot bit blurry happen explain real knew everything figure plan subject everything told thing life matter go die might die right extremely loud talk confuse unaware behaving teacher sat back class like nothing happen kid kind confuse kind explain understand alive point die one remember u really odd recap event suicidal really character end skip rest afternoon day friend request go home sleep bit talk friend happen tell scar go kill confuse despite talk loud much emotion besides try talk parent talk mom feeling nothing real say kid feel like time discus amongst friend ca relate couple month later mom take family doctor ask question kept say everyone felt really awkward find insomniac try go doctor grandma month two ask say felt paranoid sometimes call crazy ask eczema instead say talk know awkward go doctor discus really start affect personal school life thing happen never point school affect go store know sorry wall text start happen maybe year ago year first start year old advice appreciate panic attack derealization ca go doctor advice appreciate\n",
              "2      0  ...                                                                                                                                                                                                                                                                                                                                                                                                                                                                                                                                                                                                                                                                                                                                                                                                                                                                                                                                                                                                                                                                                                                                                                                                                                                                                                                                                                                                                                                                    withdraw medicine lately effexor zyprexa cymbalta time mind close together withdraw thursday major panic attack bad need take extra kolonopin skip work friday last shaky felt sick rest night saturday quite two full day panic attack start still feel like describe chihuahua like much caffeine except small amount chocolate yesterday feel like edge panic attack since initial one sure long panic attack last\n",
              "\n",
              "[3 rows x 4 columns]"
            ]
          },
          "metadata": {},
          "execution_count": 13
        }
      ]
    },
    {
      "cell_type": "code",
      "metadata": {
        "colab": {
          "base_uri": "https://localhost:8080/"
        },
        "id": "dNAB_rTNY58t",
        "outputId": "b284af5e-6cf0-4ea6-c67d-41bd50939879"
      },
      "source": [
        "df['label'].value_counts()"
      ],
      "execution_count": 14,
      "outputs": [
        {
          "output_type": "execute_result",
          "data": {
            "text/plain": [
              "0    262454\n",
              "1     39292\n",
              "Name: label, dtype: int64"
            ]
          },
          "metadata": {},
          "execution_count": 14
        }
      ]
    },
    {
      "cell_type": "markdown",
      "metadata": {
        "id": "fPwPfWWnprr0"
      },
      "source": [
        "## **Feature extraction**"
      ]
    },
    {
      "cell_type": "code",
      "metadata": {
        "id": "YZpKi4zjptza"
      },
      "source": [
        "# prepare tokenizer\n",
        "tokenizer = Tokenizer()\n",
        "tokenizer.fit_on_texts(reddits)"
      ],
      "execution_count": 15,
      "outputs": []
    },
    {
      "cell_type": "code",
      "metadata": {
        "colab": {
          "base_uri": "https://localhost:8080/"
        },
        "id": "1AIhZA8pp0wY",
        "outputId": "01cdf9d2-468f-4b5c-98c4-358df758db69"
      },
      "source": [
        "word_index = tokenizer.word_index\n",
        "print('WE HAVE %s UNIQUE TOKENS.' % len(word_index))"
      ],
      "execution_count": 16,
      "outputs": [
        {
          "output_type": "stream",
          "name": "stdout",
          "text": [
            "WE HAVE 95809 UNIQUE TOKENS.\n"
          ]
        }
      ]
    },
    {
      "cell_type": "code",
      "metadata": {
        "id": "2cXJjNzyp426"
      },
      "source": [
        "sequences = tokenizer.texts_to_sequences(reddits)"
      ],
      "execution_count": 17,
      "outputs": []
    },
    {
      "cell_type": "code",
      "metadata": {
        "colab": {
          "base_uri": "https://localhost:8080/"
        },
        "id": "Juj92C51p7zA",
        "outputId": "437cb650-9a5e-4d73-8c57-894b468b6751"
      },
      "source": [
        "# pad redddits to a max length of 150 words\n",
        "maxlen = 150\n",
        "X = pad_sequences(sequences, maxlen = maxlen)\n",
        "X.shape"
      ],
      "execution_count": 18,
      "outputs": [
        {
          "output_type": "execute_result",
          "data": {
            "text/plain": [
              "(301746, 150)"
            ]
          },
          "metadata": {},
          "execution_count": 18
        }
      ]
    },
    {
      "cell_type": "code",
      "metadata": {
        "id": "Q2Oc3_xbDwWk"
      },
      "source": [
        "y = df['label']"
      ],
      "execution_count": 19,
      "outputs": []
    },
    {
      "cell_type": "markdown",
      "metadata": {
        "id": "tZo2Np9bo696"
      },
      "source": [
        "##Split the dataset into **training** and **test** sets"
      ]
    },
    {
      "cell_type": "code",
      "metadata": {
        "id": "17gtbAQvom9z"
      },
      "source": [
        "X_train, X_test, y_train, y_test = train_test_split(X, y, test_size=0.2, random_state=43)"
      ],
      "execution_count": 20,
      "outputs": []
    },
    {
      "cell_type": "code",
      "metadata": {
        "colab": {
          "base_uri": "https://localhost:8080/"
        },
        "id": "q0iVVvCVo-H4",
        "outputId": "bd8e9213-2886-4e36-98c4-2a6672a63619"
      },
      "source": [
        "X_train.shape, X_test.shape, y_train.shape, y_test.shape"
      ],
      "execution_count": 21,
      "outputs": [
        {
          "output_type": "execute_result",
          "data": {
            "text/plain": [
              "((241396, 150), (60350, 150), (241396,), (60350,))"
            ]
          },
          "metadata": {},
          "execution_count": 21
        }
      ]
    },
    {
      "cell_type": "code",
      "metadata": {
        "id": "t5DtzExcrPuV"
      },
      "source": [
        "y_train = np.asarray(y_train).astype('float32').reshape((-1,1))\n",
        "y_test = np.asarray(y_test).astype('float32').reshape((-1,1))"
      ],
      "execution_count": 22,
      "outputs": []
    },
    {
      "cell_type": "markdown",
      "metadata": {
        "id": "24wLyGZApa_B"
      },
      "source": [
        "# Defining the **Convolutional Neural Network Model**"
      ]
    },
    {
      "cell_type": "code",
      "metadata": {
        "id": "lO9o6yzwpUIi"
      },
      "source": [
        "# Prepare hyperparameters of CNN\n",
        "vocab_size = len(word_index) + 1\n",
        "# output_dim = 32"
      ],
      "execution_count": 23,
      "outputs": []
    },
    {
      "cell_type": "code",
      "metadata": {
        "id": "zrk1T7vWpium"
      },
      "source": [
        "# Building the CNN Model\n",
        "model = Sequential()\n",
        "\n",
        "model.add(Embedding(vocab_size, 128, input_length=maxlen))\n",
        "model.add(Conv1D(128, 3, padding='same', activation='relu'))\n",
        "model.add(Conv1D(64, 3, padding='same', activation='relu'))\n",
        "model.add(MaxPooling1D())\n",
        "model.add(Flatten())\n",
        "\n",
        "model.add(Dense(250, activation='relu'))\n",
        "\n",
        "model.add(Dense(1, activation='sigmoid'))"
      ],
      "execution_count": 24,
      "outputs": []
    },
    {
      "cell_type": "markdown",
      "metadata": {
        "id": "sDQVHW1pEPm4"
      },
      "source": [
        "### Visualizing the CNN Model"
      ]
    },
    {
      "cell_type": "code",
      "metadata": {
        "colab": {
          "base_uri": "https://localhost:8080/",
          "height": 758
        },
        "id": "bbF56xATLULt",
        "outputId": "6e116d27-ef85-40da-cd76-1ac939519e8f"
      },
      "source": [
        "plot_model(model)"
      ],
      "execution_count": 25,
      "outputs": [
        {
          "output_type": "execute_result",
          "data": {
            "image/png": "[encoded data removed]",
            "text/plain": [
              "<IPython.core.display.Image object>"
            ]
          },
          "metadata": {},
          "execution_count": 25
        }
      ]
    },
    {
      "cell_type": "code",
      "metadata": {
        "colab": {
          "base_uri": "https://localhost:8080/"
        },
        "id": "2AXhVEpKqLsg",
        "outputId": "5cc9347c-3aca-4ce8-874c-6732da864290"
      },
      "source": [
        "model.summary()"
      ],
      "execution_count": 26,
      "outputs": [
        {
          "output_type": "stream",
          "name": "stdout",
          "text": [
            "Model: \"sequential\"\n",
            "_________________________________________________________________\n",
            "Layer (type)                 Output Shape              Param #   \n",
            "=================================================================\n",
            "embedding (Embedding)        (None, 150, 128)          12263680  \n",
            "_________________________________________________________________\n",
            "conv1d (Conv1D)              (None, 150, 128)          49280     \n",
            "_________________________________________________________________\n",
            "conv1d_1 (Conv1D)            (None, 150, 64)           24640     \n",
            "_________________________________________________________________\n",
            "max_pooling1d (MaxPooling1D) (None, 75, 64)            0         \n",
            "_________________________________________________________________\n",
            "flatten (Flatten)            (None, 4800)              0         \n",
            "_________________________________________________________________\n",
            "dense (Dense)                (None, 250)               1200250   \n",
            "_________________________________________________________________\n",
            "dense_1 (Dense)              (None, 1)                 251       \n",
            "=================================================================\n",
            "Total params: 13,538,101\n",
            "Trainable params: 13,538,101\n",
            "Non-trainable params: 0\n",
            "_________________________________________________________________\n"
          ]
        }
      ]
    },
    {
      "cell_type": "markdown",
      "metadata": {
        "id": "MtvNxeoiEiTH"
      },
      "source": [
        "### Using the **Adam optimizer** for the optimization and **Binary cross entropy** to calculate the Loss Function"
      ]
    },
    {
      "cell_type": "code",
      "metadata": {
        "id": "Z1pXLbl_LzV-"
      },
      "source": [
        "model.compile(loss='binary_crossentropy', optimizer='adam', metrics=['accuracy'])"
      ],
      "execution_count": 27,
      "outputs": []
    },
    {
      "cell_type": "code",
      "metadata": {
        "colab": {
          "base_uri": "https://localhost:8080/"
        },
        "id": "o7ZoCd_Qq0Vp",
        "outputId": "339af594-5c4e-4134-a536-df78e4ceae71"
      },
      "source": [
        "start = time.time()\n",
        "\n",
        "# fit the model to the training set\n",
        "cnn_hist = model.fit(X_train, y_train, epochs = 5, validation_split = 0.2)\n",
        "\n",
        "# evaluation of the model on the test set\n",
        "scores = model.evaluate(X_test, y_test, verbose = 0)\n",
        "print(\"Accuracy: %.2f%%\" % (scores[1]*100))\n",
        "warnings.filterwarnings(\"ignore\")\n",
        "\n",
        "end = time.time()\n",
        "total = (end-start) // 60\n",
        "print('Training duration : {} minutes'.format(total))"
      ],
      "execution_count": 28,
      "outputs": [
        {
          "output_type": "stream",
          "name": "stdout",
          "text": [
            "Epoch 1/5\n",
            "6035/6035 [==============================] - 1180s 195ms/step - loss: 0.1786 - accuracy: 0.9423 - val_loss: 0.1593 - val_accuracy: 0.9479\n",
            "Epoch 2/5\n",
            "6035/6035 [==============================] - 1242s 206ms/step - loss: 0.1417 - accuracy: 0.9530 - val_loss: 0.1629 - val_accuracy: 0.9460\n",
            "Epoch 3/5\n",
            "6035/6035 [==============================] - 1256s 208ms/step - loss: 0.1109 - accuracy: 0.9631 - val_loss: 0.1784 - val_accuracy: 0.9439\n",
            "Epoch 4/5\n",
            "6035/6035 [==============================] - 1204s 200ms/step - loss: 0.0794 - accuracy: 0.9736 - val_loss: 0.2320 - val_accuracy: 0.9356\n",
            "Epoch 5/5\n",
            "6035/6035 [==============================] - 1183s 196ms/step - loss: 0.0546 - accuracy: 0.9817 - val_loss: 0.2976 - val_accuracy: 0.9315\n",
            "Accuracy: 93.25%\n",
            "Training duration : 101.0 minutes\n"
          ]
        }
      ]
    },
    {
      "cell_type": "code",
      "metadata": {
        "id": "a7vGAf6PvSKz"
      },
      "source": [
        ""
      ],
      "execution_count": null,
      "outputs": []
    },
    {
      "cell_type": "code",
      "metadata": {
        "id": "lSaqQfwCCMql"
      },
      "source": [
        ""
      ],
      "execution_count": null,
      "outputs": []
    },
    {
      "cell_type": "code",
      "metadata": {
        "id": "b9UZy78yEK_U"
      },
      "source": [
        "history_dict = cnn_hist.history"
      ],
      "execution_count": 29,
      "outputs": []
    },
    {
      "cell_type": "markdown",
      "metadata": {
        "id": "gutqv5GsKG0W"
      },
      "source": [
        "## **Plotting the loss and the accuracy of both training and validation sets using the model history**"
      ]
    },
    {
      "cell_type": "code",
      "metadata": {
        "id": "u0R9WAp63esX",
        "colab": {
          "base_uri": "https://localhost:8080/",
          "height": 513
        },
        "outputId": "f51960fd-29c9-4950-fd32-80e6f4cbf0c4"
      },
      "source": [
        "# loss\n",
        "loss_values = history_dict['loss']\n",
        "val_loss_values = history_dict['val_loss']\n",
        "\n",
        "epochs = range(1, len(loss_values) + 1) \n",
        "\n",
        "# plot\n",
        "plt.figure(figsize=(12, 8))\n",
        "plt.plot(epochs, loss_values, 'green',label='Training loss')\n",
        "plt.plot(epochs, val_loss_values, 'red', label='Validation loss')\n",
        "plt.title('Training and validation loss')\n",
        "plt.xlabel('Epochs')\n",
        "plt.ylabel('Loss')\n",
        "plt.legend()\n",
        "plt.show()"
      ],
      "execution_count": 34,
      "outputs": [
        {
          "output_type": "display_data",
          "data": {
            "image/png": "[encoded data removed]",
            "text/plain": [
              "<Figure size 864x576 with 1 Axes>"
            ]
          },
          "metadata": {
            "needs_background": "light"
          }
        }
      ]
    },
    {
      "cell_type": "code",
      "metadata": {
        "id": "c26VWaqPFfQ7",
        "colab": {
          "base_uri": "https://localhost:8080/",
          "height": 513
        },
        "outputId": "3456ead8-cf20-4f1c-e364-0173f6718283"
      },
      "source": [
        "# accuracy\n",
        "acc = history_dict['accuracy']\n",
        "val_acc = history_dict['val_accuracy']\n",
        "\n",
        "# range of X (no. of epochs)\n",
        "epochs = range(1, len(acc) + 1)\n",
        "\n",
        "plt.figure(figsize=(12, 8))\n",
        "plt.plot(epochs, acc, 'green',label='Training accuracy')\n",
        "# orange is for \"orange\"\n",
        "plt.plot(epochs, val_acc, 'red', label='Validation accuracy')\n",
        "plt.title('Training and validation accuracy')\n",
        "plt.xlabel('Epochs')\n",
        "plt.ylabel('Accuracy')\n",
        "plt.legend()\n",
        "plt.show()"
      ],
      "execution_count": 35,
      "outputs": [
        {
          "output_type": "display_data",
          "data": {
            "image/png": "[encoded data removed]",
            "text/plain": [
              "<Figure size 864x576 with 1 Axes>"
            ]
          },
          "metadata": {
            "needs_background": "light"
          }
        }
      ]
    },
    {
      "cell_type": "code",
      "metadata": {
        "id": "2s3t72ySCiSJ"
      },
      "source": [
        ""
      ],
      "execution_count": null,
      "outputs": []
    },
    {
      "cell_type": "markdown",
      "metadata": {
        "id": "gpQDITnpJy7X"
      },
      "source": [
        "## **Confusion matrix**"
      ]
    },
    {
      "cell_type": "code",
      "metadata": {
        "id": "fdm2im9sFFd4"
      },
      "source": [
        "preds = np.round(model.predict(X_test), 0)"
      ],
      "execution_count": 36,
      "outputs": []
    },
    {
      "cell_type": "code",
      "metadata": {
        "id": "eoDqL9Xj9FMj"
      },
      "source": [
        "cm = confusion_matrix(y_test, preds)"
      ],
      "execution_count": 37,
      "outputs": []
    },
    {
      "cell_type": "code",
      "metadata": {
        "id": "yZxhKaOV_aAa"
      },
      "source": [
        "df_cm = pd.DataFrame(cm, index = [\"depression\", \"non-depression\"], columns = [\"depression\", \"non-depression\"])"
      ],
      "execution_count": 38,
      "outputs": []
    },
    {
      "cell_type": "code",
      "metadata": {
        "colab": {
          "base_uri": "https://localhost:8080/",
          "height": 303
        },
        "id": "uAfhW45D8sQI",
        "outputId": "d78ce137-476e-4096-a20e-675dc4bebb6c"
      },
      "source": [
        "plt.figure(figsize=(6, 4))\n",
        "sb.set_theme()\n",
        "sb.heatmap(df_cm, annot=True, fmt='d', cmap='Blues')\n",
        "plt.xlabel('True Class')\n",
        "plt.ylabel('Predicted Class')"
      ],
      "execution_count": 45,
      "outputs": [
        {
          "output_type": "execute_result",
          "data": {
            "text/plain": [
              "Text(30.499999999999993, 0.5, 'Predicted Class')"
            ]
          },
          "metadata": {},
          "execution_count": 45
        },
        {
          "output_type": "display_data",
          "data": {
            "image/png": "[encoded data removed]",
            "text/plain": [
              "<Figure size 432x288 with 2 Axes>"
            ]
          },
          "metadata": {}
        }
      ]
    },
    {
      "cell_type": "code",
      "metadata": {
        "id": "agK2MmJ7CkJ7"
      },
      "source": [
        ""
      ],
      "execution_count": null,
      "outputs": []
    }
  ]
}