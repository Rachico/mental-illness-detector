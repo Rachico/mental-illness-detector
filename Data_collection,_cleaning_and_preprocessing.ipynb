{
  "nbformat": 4,
  "nbformat_minor": 0,
  "metadata": {
    "colab": {
      "name": "Data collection, cleaning and preprocessing",
      "provenance": [],
      "collapsed_sections": []
    },
    "kernelspec": {
      "name": "python3",
      "display_name": "Python 3"
    },
    "language_info": {
      "name": "python"
    }
  },
  "cells": [
    {
      "cell_type": "code",
      "metadata": {
        "id": "1g2BB1I6zvxU"
      },
      "source": [
        ""
      ],
      "execution_count": null,
      "outputs": []
    },
    {
      "cell_type": "markdown",
      "metadata": {
        "id": "cqmYE3673V16"
      },
      "source": [
        "# **First part : Data Collection and Data Cleaning**"
      ]
    },
    {
      "cell_type": "markdown",
      "metadata": {
        "id": "KK4_39un-H6x"
      },
      "source": [
        "## *Importing packages*"
      ]
    },
    {
      "cell_type": "code",
      "metadata": {
        "colab": {
          "base_uri": "https://localhost:8080/"
        },
        "id": "otvhl7tN32L3",
        "outputId": "5cbce39f-55d8-4f03-d6f7-7e999738d435"
      },
      "source": [
        "!pip install psaw\n",
        "!pip install contractions\n",
        "!pip install redditcleaner\n",
        "!pip install nltk==3.4"
      ],
      "execution_count": 2,
      "outputs": [
        {
          "output_type": "stream",
          "name": "stdout",
          "text": [
            "Collecting psaw\n",
            "  Downloading psaw-0.1.0-py3-none-any.whl (15 kB)\n",
            "Requirement already satisfied: Click in /usr/local/lib/python3.7/dist-packages (from psaw) (7.1.2)\n",
            "Requirement already satisfied: requests in /usr/local/lib/python3.7/dist-packages (from psaw) (2.23.0)\n",
            "Requirement already satisfied: chardet<4,>=3.0.2 in /usr/local/lib/python3.7/dist-packages (from requests->psaw) (3.0.4)\n",
            "Requirement already satisfied: certifi>=2017.4.17 in /usr/local/lib/python3.7/dist-packages (from requests->psaw) (2021.5.30)\n",
            "Requirement already satisfied: urllib3!=1.25.0,!=1.25.1,<1.26,>=1.21.1 in /usr/local/lib/python3.7/dist-packages (from requests->psaw) (1.24.3)\n",
            "Requirement already satisfied: idna<3,>=2.5 in /usr/local/lib/python3.7/dist-packages (from requests->psaw) (2.10)\n",
            "Installing collected packages: psaw\n",
            "Successfully installed psaw-0.1.0\n",
            "Collecting contractions\n",
            "  Downloading contractions-0.0.55-py2.py3-none-any.whl (7.9 kB)\n",
            "Collecting textsearch>=0.0.21\n",
            "  Downloading textsearch-0.0.21-py2.py3-none-any.whl (7.5 kB)\n",
            "Collecting anyascii\n",
            "  Downloading anyascii-0.3.0-py3-none-any.whl (284 kB)\n",
            "\u001b[K     |████████████████████████████████| 284 kB 5.2 MB/s \n",
            "\u001b[?25hCollecting pyahocorasick\n",
            "  Downloading pyahocorasick-1.4.2.tar.gz (321 kB)\n",
            "\u001b[K     |████████████████████████████████| 321 kB 43.1 MB/s \n",
            "\u001b[?25hBuilding wheels for collected packages: pyahocorasick\n",
            "  Building wheel for pyahocorasick (setup.py) ... \u001b[?25l\u001b[?25hdone\n",
            "  Created wheel for pyahocorasick: filename=pyahocorasick-1.4.2-cp37-cp37m-linux_x86_64.whl size=85442 sha256=3dae0a33af7550a609f0591ebbe477830164a245e1618d8270fe215e813b7763\n",
            "  Stored in directory: /root/.cache/pip/wheels/25/19/a6/8f363d9939162782bb8439d886469756271abc01f76fbd790f\n",
            "Successfully built pyahocorasick\n",
            "Installing collected packages: pyahocorasick, anyascii, textsearch, contractions\n",
            "Successfully installed anyascii-0.3.0 contractions-0.0.55 pyahocorasick-1.4.2 textsearch-0.0.21\n",
            "Collecting redditcleaner\n",
            "  Downloading redditcleaner-1.1.2-py3-none-any.whl (4.7 kB)\n",
            "Installing collected packages: redditcleaner\n",
            "Successfully installed redditcleaner-1.1.2\n",
            "Collecting nltk==3.4\n",
            "  Downloading nltk-3.4.zip (1.4 MB)\n",
            "\u001b[K     |████████████████████████████████| 1.4 MB 5.1 MB/s \n",
            "\u001b[?25hRequirement already satisfied: six in /usr/local/lib/python3.7/dist-packages (from nltk==3.4) (1.15.0)\n",
            "Collecting singledispatch\n",
            "  Downloading singledispatch-3.7.0-py2.py3-none-any.whl (9.2 kB)\n",
            "Building wheels for collected packages: nltk\n",
            "  Building wheel for nltk (setup.py) ... \u001b[?25l\u001b[?25hdone\n",
            "  Created wheel for nltk: filename=nltk-3.4-py3-none-any.whl size=1436397 sha256=5d637304bcab405fed1e6e50c5e7eec3d567244674908a6cf5d61c502a07437b\n",
            "  Stored in directory: /root/.cache/pip/wheels/13/b8/81/2349be11dd144dc7b68ab983b58cd2fae353cdc50bbdeb09d0\n",
            "Successfully built nltk\n",
            "Installing collected packages: singledispatch, nltk\n",
            "  Attempting uninstall: nltk\n",
            "    Found existing installation: nltk 3.2.5\n",
            "    Uninstalling nltk-3.2.5:\n",
            "      Successfully uninstalled nltk-3.2.5\n",
            "Successfully installed nltk-3.4 singledispatch-3.7.0\n"
          ]
        }
      ]
    },
    {
      "cell_type": "code",
      "metadata": {
        "colab": {
          "base_uri": "https://localhost:8080/"
        },
        "id": "JyxsKado8P8V",
        "outputId": "8a009c23-2300-44c7-fcd5-42c6abc2f3ce"
      },
      "source": [
        "import nltk\n",
        "nltk.download('punkt')\n",
        "nltk.download('stopwords')\n",
        "nltk.download('averaged_perceptron_tagger')\n",
        "nltk.download('maxent_ne_chunker')\n",
        "nltk.download('words')\n",
        "nltk.download('wordnet')"
      ],
      "execution_count": 3,
      "outputs": [
        {
          "output_type": "stream",
          "name": "stderr",
          "text": [
            "[nltk_data] Downloading package punkt to /root/nltk_data...\n",
            "[nltk_data]   Unzipping tokenizers/punkt.zip.\n",
            "[nltk_data] Downloading package stopwords to /root/nltk_data...\n",
            "[nltk_data]   Unzipping corpora/stopwords.zip.\n",
            "[nltk_data] Downloading package averaged_perceptron_tagger to\n",
            "[nltk_data]     /root/nltk_data...\n",
            "[nltk_data]   Unzipping taggers/averaged_perceptron_tagger.zip.\n",
            "[nltk_data] Downloading package maxent_ne_chunker to\n",
            "[nltk_data]     /root/nltk_data...\n",
            "[nltk_data]   Unzipping chunkers/maxent_ne_chunker.zip.\n",
            "[nltk_data] Downloading package words to /root/nltk_data...\n",
            "[nltk_data]   Unzipping corpora/words.zip.\n",
            "[nltk_data] Downloading package wordnet to /root/nltk_data...\n",
            "[nltk_data]   Unzipping corpora/wordnet.zip.\n"
          ]
        },
        {
          "output_type": "execute_result",
          "data": {
            "text/plain": [
              "True"
            ]
          },
          "metadata": {},
          "execution_count": 3
        }
      ]
    },
    {
      "cell_type": "code",
      "metadata": {
        "id": "gjjTBkQU3V2B"
      },
      "source": [
        "from psaw import PushshiftAPI\n",
        "import datetime\n",
        "import pandas as pd\n",
        "import contractions\n",
        "import redditcleaner\n",
        "from nltk.tokenize import word_tokenize\n",
        "import numpy as np\n",
        "import matplotlib.pyplot as plt\n",
        "import seaborn as sns\n",
        "import warnings\n",
        "import nltk, time\n",
        "from nltk.tokenize import word_tokenize\n",
        "from nltk.corpus import stopwords\n",
        "from collections import Counter\n",
        "from nltk.stem import WordNetLemmatizer\n",
        "import collections, itertools"
      ],
      "execution_count": 1,
      "outputs": []
    },
    {
      "cell_type": "markdown",
      "metadata": {
        "id": "To9khNj33V2F"
      },
      "source": [
        "## *Data Collection Function*"
      ]
    },
    {
      "cell_type": "code",
      "metadata": {
        "id": "7wL8sG6BPQFK"
      },
      "source": [
        "def get_reddit_posts(posted_before, posted_after, limit):\n",
        "  api = PushshiftAPI()\n",
        "\n",
        "  query = api.search_submissions(subreddit=['depression','Anxiety', 'bipolar'], filter=['selftext', 'title', 'subreddit'], before=posted_before, after=posted_after, limit=limit ) #add limit to test\n",
        "  \n",
        "  # Initiate empty list\n",
        "  submissions = []\n",
        "\n",
        "  # Write a for loop to fetch posts and append to our list\n",
        "  print(\"\\rFetching posts... fetched 0 posts.\", end=\"\")\n",
        "  count = 0\n",
        "  for ele in query:\n",
        "      submissions.append(ele.d_)\n",
        "      count += 1\n",
        "      print(f\"\\rFetching posts... fetched {count} posts.\", end=\"\")\n",
        "\n",
        "  # Print number of posts collected \n",
        "  print(len(submissions))\n",
        "\n",
        "  df = pd.DataFrame(submissions)\n",
        "  df['created_utc'] = df['created_utc'].apply(lambda x : datetime.datetime.fromtimestamp(x))\n",
        "  \n",
        "  return df"
      ],
      "execution_count": null,
      "outputs": []
    },
    {
      "cell_type": "markdown",
      "metadata": {
        "id": "BZKYZVeDcb3I"
      },
      "source": [
        "### From January 01 to Feb 28"
      ]
    },
    {
      "cell_type": "code",
      "metadata": {
        "id": "OPFPaI03cW3l"
      },
      "source": [
        "# posted_before = int(datetime.datetime(2021, 2, 28).timestamp())\n",
        "# posted_after = int(datetime.datetime(2021, 1, 1).timestamp())\n",
        "# df0 = get_reddit_posts(posted_before, posted_after, 90000)"
      ],
      "execution_count": null,
      "outputs": []
    },
    {
      "cell_type": "markdown",
      "metadata": {
        "id": "jXpand4VNj6A"
      },
      "source": [
        "### From Feb 01 to March 31"
      ]
    },
    {
      "cell_type": "code",
      "metadata": {
        "id": "U2toaajLQdHV"
      },
      "source": [
        "# posted_before = int(datetime.datetime(2021, 3, 31).timestamp())\n",
        "# posted_after = int(datetime.datetime(2021, 2, 1).timestamp())\n",
        "# df1 = get_reddit_posts(posted_before, posted_after, 80000)"
      ],
      "execution_count": null,
      "outputs": []
    },
    {
      "cell_type": "markdown",
      "metadata": {
        "id": "-jFG7ALuQ4gn"
      },
      "source": [
        "### From Apr 01 to May 31"
      ]
    },
    {
      "cell_type": "code",
      "metadata": {
        "id": "-le8tO7XQ5qG"
      },
      "source": [
        "# posted_before = int(datetime.datetime(2021, 5, 31).timestamp())\n",
        "# posted_after = int(datetime.datetime(2021, 4, 1).timestamp())\n",
        "# df2 = get_reddit_posts(posted_before, posted_after, 75000)"
      ],
      "execution_count": null,
      "outputs": []
    },
    {
      "cell_type": "markdown",
      "metadata": {
        "id": "aouInafsQ6Ee"
      },
      "source": [
        "### From Jun 01 to August 31"
      ]
    },
    {
      "cell_type": "code",
      "metadata": {
        "id": "qQQcBCGMRRmO"
      },
      "source": [
        "# posted_before = int(datetime.datetime(2021, 8, 31).timestamp())\n",
        "# posted_after = int(datetime.datetime(2021, 6, 1).timestamp())\n",
        "# df3 = get_reddit_posts(posted_before, posted_after, 60000)"
      ],
      "execution_count": null,
      "outputs": []
    },
    {
      "cell_type": "code",
      "metadata": {
        "id": "BA6oU_JFR90E"
      },
      "source": [
        "df = pd.concat([df0, df1, df2, df3])"
      ],
      "execution_count": null,
      "outputs": []
    },
    {
      "cell_type": "code",
      "metadata": {
        "id": "NSAHuybf7cf4"
      },
      "source": [
        "# df = pd.read_csv('/content/drive/MyDrive/Reddit Datasets/Mental-health-related-subreddits.csv')"
      ],
      "execution_count": 29,
      "outputs": []
    },
    {
      "cell_type": "code",
      "metadata": {
        "colab": {
          "base_uri": "https://localhost:8080/",
          "height": 234
        },
        "id": "L_9-jISJwFWK",
        "outputId": "f9185882-d2d2-4da9-d4ac-c55017e9aa3a"
      },
      "source": [
        "df.sample(6)"
      ],
      "execution_count": 49,
      "outputs": [
        {
          "output_type": "execute_result",
          "data": {
            "text/html": [
              "<div>\n",
              "<style scoped>\n",
              "    .dataframe tbody tr th:only-of-type {\n",
              "        vertical-align: middle;\n",
              "    }\n",
              "\n",
              "    .dataframe tbody tr th {\n",
              "        vertical-align: top;\n",
              "    }\n",
              "\n",
              "    .dataframe thead th {\n",
              "        text-align: right;\n",
              "    }\n",
              "</style>\n",
              "<table border=\"1\" class=\"dataframe\">\n",
              "  <thead>\n",
              "    <tr style=\"text-align: right;\">\n",
              "      <th></th>\n",
              "      <th>Title</th>\n",
              "      <th>Text</th>\n",
              "      <th>Subreddit</th>\n",
              "    </tr>\n",
              "  </thead>\n",
              "  <tbody>\n",
              "    <tr>\n",
              "      <th>219470</th>\n",
              "      <td>I’m defeated</td>\n",
              "      <td>I’m angry. I’m angry at myself, I’m angry at o...</td>\n",
              "      <td>depression</td>\n",
              "    </tr>\n",
              "    <tr>\n",
              "      <th>135901</th>\n",
              "      <td>I need somebody to talk to. Please.</td>\n",
              "      <td>I don't know where else to turn.\\n\\nI recently...</td>\n",
              "      <td>depression</td>\n",
              "    </tr>\n",
              "    <tr>\n",
              "      <th>189065</th>\n",
              "      <td>Breakup</td>\n",
              "      <td>Just wanted to check in. I've been struggling ...</td>\n",
              "      <td>depression</td>\n",
              "    </tr>\n",
              "    <tr>\n",
              "      <th>12980</th>\n",
              "      <td>Tips for talking to boyfriend about my anxiety?</td>\n",
              "      <td>Hi everyone!\\nSo I had a bit of a anxiety atta...</td>\n",
              "      <td>Anxiety</td>\n",
              "    </tr>\n",
              "    <tr>\n",
              "      <th>443098</th>\n",
              "      <td>Just about to take my first dose of lamotrigen</td>\n",
              "      <td>I've had what was thought to be depression sin...</td>\n",
              "      <td>bipolar</td>\n",
              "    </tr>\n",
              "    <tr>\n",
              "      <th>77872</th>\n",
              "      <td>I don’t know what’s wrong with me</td>\n",
              "      <td>Hi I’m a 15 year old girl and for the last 2 y...</td>\n",
              "      <td>Anxiety</td>\n",
              "    </tr>\n",
              "  </tbody>\n",
              "</table>\n",
              "</div>"
            ],
            "text/plain": [
              "                                                  Title  ...   Subreddit\n",
              "219470                                     I’m defeated  ...  depression\n",
              "135901              I need somebody to talk to. Please.  ...  depression\n",
              "189065                                          Breakup  ...  depression\n",
              "12980   Tips for talking to boyfriend about my anxiety?  ...     Anxiety\n",
              "443098   Just about to take my first dose of lamotrigen  ...     bipolar\n",
              "77872                 I don’t know what’s wrong with me  ...     Anxiety\n",
              "\n",
              "[6 rows x 3 columns]"
            ]
          },
          "metadata": {},
          "execution_count": 49
        }
      ]
    },
    {
      "cell_type": "code",
      "metadata": {
        "colab": {
          "base_uri": "https://localhost:8080/"
        },
        "id": "zz4d9vLU-cmD",
        "outputId": "28b2eb89-9c7d-4ab3-def7-a15a3996e345"
      },
      "source": [
        "df.Subreddit.value_counts()"
      ],
      "execution_count": 48,
      "outputs": [
        {
          "output_type": "execute_result",
          "data": {
            "text/plain": [
              "depression    180000\n",
              "Anxiety        85000\n",
              "bipolar        40000\n",
              "Name: Subreddit, dtype: int64"
            ]
          },
          "metadata": {},
          "execution_count": 48
        }
      ]
    },
    {
      "cell_type": "code",
      "metadata": {
        "colab": {
          "base_uri": "https://localhost:8080/"
        },
        "id": "1zSq3jwk-155",
        "outputId": "ef9f0469-3fa4-4942-e676-6ee6db3fb2dc"
      },
      "source": [
        "df.shape"
      ],
      "execution_count": 50,
      "outputs": [
        {
          "output_type": "execute_result",
          "data": {
            "text/plain": [
              "(305000, 3)"
            ]
          },
          "metadata": {},
          "execution_count": 50
        }
      ]
    },
    {
      "cell_type": "markdown",
      "metadata": {
        "id": "ffbQHwI03V2R"
      },
      "source": [
        "## *Basic Data Cleaning*"
      ]
    },
    {
      "cell_type": "code",
      "metadata": {
        "id": "QlNuzt4PDBA3"
      },
      "source": [
        "df.dropna(inplace = True)"
      ],
      "execution_count": 62,
      "outputs": []
    },
    {
      "cell_type": "code",
      "metadata": {
        "id": "kPqwqboi3V2V"
      },
      "source": [
        "# Rename selftext as text and subreddit as label \n",
        "# Create a dictionary with new column names\n",
        "new_columns = {'Text': 'text', 'Title': 'title', 'Subreddit': 'label'} \n",
        "\n",
        "# Call rename () method\n",
        "df.rename(columns=new_columns, inplace=True)"
      ],
      "execution_count": 52,
      "outputs": []
    },
    {
      "cell_type": "code",
      "metadata": {
        "id": "e74jDjqP3V2R",
        "colab": {
          "base_uri": "https://localhost:8080/"
        },
        "outputId": "2d2a6e50-0ca8-45b4-a56c-a3686003a786"
      },
      "source": [
        "# Check number of duplicated rows\n",
        "df.duplicated(subset=['text']).sum()"
      ],
      "execution_count": 53,
      "outputs": [
        {
          "output_type": "execute_result",
          "data": {
            "text/plain": [
              "2043"
            ]
          },
          "metadata": {},
          "execution_count": 53
        }
      ]
    },
    {
      "cell_type": "code",
      "metadata": {
        "id": "_7t9Rm2f3V2S"
      },
      "source": [
        "# Duplicates removal\n",
        "df.drop_duplicates(subset =\"text\",\n",
        "                     keep = False, inplace = True)"
      ],
      "execution_count": 54,
      "outputs": []
    },
    {
      "cell_type": "code",
      "metadata": {
        "id": "lrXgLPgK3V2T",
        "colab": {
          "base_uri": "https://localhost:8080/"
        },
        "outputId": "d05af803-8633-4435-d6f7-695c89183b7d"
      },
      "source": [
        "# Our dataset has now 20363 posts\n",
        "df.shape"
      ],
      "execution_count": 55,
      "outputs": [
        {
          "output_type": "execute_result",
          "data": {
            "text/plain": [
              "(301747, 3)"
            ]
          },
          "metadata": {},
          "execution_count": 55
        }
      ]
    },
    {
      "cell_type": "code",
      "metadata": {
        "id": "4UV_BdjR3V2U"
      },
      "source": [
        "# Drop created_utc and created timestamps. \n",
        "# df.drop(['created_utc', 'created'], axis = 1, inplace=True)"
      ],
      "execution_count": null,
      "outputs": []
    },
    {
      "cell_type": "code",
      "metadata": {
        "id": "NbLba_fB3V2U",
        "colab": {
          "base_uri": "https://localhost:8080/",
          "height": 172
        },
        "outputId": "e4d745ad-2501-4323-ca9a-fab68aa90fef"
      },
      "source": [
        "# Number of submissions per subreddit \n",
        "df.groupby('label').count()"
      ],
      "execution_count": 56,
      "outputs": [
        {
          "output_type": "execute_result",
          "data": {
            "text/html": [
              "<div>\n",
              "<style scoped>\n",
              "    .dataframe tbody tr th:only-of-type {\n",
              "        vertical-align: middle;\n",
              "    }\n",
              "\n",
              "    .dataframe tbody tr th {\n",
              "        vertical-align: top;\n",
              "    }\n",
              "\n",
              "    .dataframe thead th {\n",
              "        text-align: right;\n",
              "    }\n",
              "</style>\n",
              "<table border=\"1\" class=\"dataframe\">\n",
              "  <thead>\n",
              "    <tr style=\"text-align: right;\">\n",
              "      <th></th>\n",
              "      <th>title</th>\n",
              "      <th>text</th>\n",
              "    </tr>\n",
              "    <tr>\n",
              "      <th>label</th>\n",
              "      <th></th>\n",
              "      <th></th>\n",
              "    </tr>\n",
              "  </thead>\n",
              "  <tbody>\n",
              "    <tr>\n",
              "      <th>Anxiety</th>\n",
              "      <td>84001</td>\n",
              "      <td>84001</td>\n",
              "    </tr>\n",
              "    <tr>\n",
              "      <th>bipolar</th>\n",
              "      <td>39292</td>\n",
              "      <td>39292</td>\n",
              "    </tr>\n",
              "    <tr>\n",
              "      <th>depression</th>\n",
              "      <td>178453</td>\n",
              "      <td>178454</td>\n",
              "    </tr>\n",
              "  </tbody>\n",
              "</table>\n",
              "</div>"
            ],
            "text/plain": [
              "             title    text\n",
              "label                     \n",
              "Anxiety      84001   84001\n",
              "bipolar      39292   39292\n",
              "depression  178453  178454"
            ]
          },
          "metadata": {},
          "execution_count": 56
        }
      ]
    },
    {
      "cell_type": "code",
      "metadata": {
        "id": "hGKouq-Q3V2W"
      },
      "source": [
        "# Merge selftext + title\n",
        "df['text'] = df['text'] + ' ' + df['title']"
      ],
      "execution_count": 57,
      "outputs": []
    },
    {
      "cell_type": "code",
      "metadata": {
        "id": "TsBB4Ghu3V2X",
        "scrolled": false,
        "colab": {
          "base_uri": "https://localhost:8080/",
          "height": 203
        },
        "outputId": "1a3297a0-eff9-49b0-ed0c-9b214b268b31"
      },
      "source": [
        "# Title has been appended at the end of the post. \n",
        "df.head()"
      ],
      "execution_count": 58,
      "outputs": [
        {
          "output_type": "execute_result",
          "data": {
            "text/html": [
              "<div>\n",
              "<style scoped>\n",
              "    .dataframe tbody tr th:only-of-type {\n",
              "        vertical-align: middle;\n",
              "    }\n",
              "\n",
              "    .dataframe tbody tr th {\n",
              "        vertical-align: top;\n",
              "    }\n",
              "\n",
              "    .dataframe thead th {\n",
              "        text-align: right;\n",
              "    }\n",
              "</style>\n",
              "<table border=\"1\" class=\"dataframe\">\n",
              "  <thead>\n",
              "    <tr style=\"text-align: right;\">\n",
              "      <th></th>\n",
              "      <th>title</th>\n",
              "      <th>text</th>\n",
              "      <th>label</th>\n",
              "    </tr>\n",
              "  </thead>\n",
              "  <tbody>\n",
              "    <tr>\n",
              "      <th>124459</th>\n",
              "      <td>My thoughts</td>\n",
              "      <td>in the end we all die, nothing we do means any...</td>\n",
              "      <td>depression</td>\n",
              "    </tr>\n",
              "    <tr>\n",
              "      <th>124460</th>\n",
              "      <td>When you're alone on New Years cause being wit...</td>\n",
              "      <td>Happy New Years guys When you're alone on New ...</td>\n",
              "      <td>depression</td>\n",
              "    </tr>\n",
              "    <tr>\n",
              "      <th>124461</th>\n",
              "      <td>It was never supposed to be like this</td>\n",
              "      <td>Today would have been my best friend's 18th bi...</td>\n",
              "      <td>depression</td>\n",
              "    </tr>\n",
              "    <tr>\n",
              "      <th>124462</th>\n",
              "      <td>Surge of confidence...but am I being delusiona...</td>\n",
              "      <td>So I couldn't feel any worse, and I've had eno...</td>\n",
              "      <td>depression</td>\n",
              "    </tr>\n",
              "    <tr>\n",
              "      <th>124463</th>\n",
              "      <td>Help with rejection, depression, suicide issues</td>\n",
              "      <td>I am 22 and have never had a girlfriend and ha...</td>\n",
              "      <td>depression</td>\n",
              "    </tr>\n",
              "  </tbody>\n",
              "</table>\n",
              "</div>"
            ],
            "text/plain": [
              "                                                    title  ...       label\n",
              "124459                                        My thoughts  ...  depression\n",
              "124460  When you're alone on New Years cause being wit...  ...  depression\n",
              "124461              It was never supposed to be like this  ...  depression\n",
              "124462  Surge of confidence...but am I being delusiona...  ...  depression\n",
              "124463    Help with rejection, depression, suicide issues  ...  depression\n",
              "\n",
              "[5 rows x 3 columns]"
            ]
          },
          "metadata": {},
          "execution_count": 58
        }
      ]
    },
    {
      "cell_type": "code",
      "metadata": {
        "id": "ayVtG8IS3V2X"
      },
      "source": [
        "# Drop title column \n",
        "df.drop(['title'], axis = 1, inplace=True)\n",
        "# df.drop(['Unnamed: 0'], axis = 1, inplace=True)"
      ],
      "execution_count": 59,
      "outputs": []
    },
    {
      "cell_type": "code",
      "metadata": {
        "id": "Dk26b-O03V2Y",
        "colab": {
          "base_uri": "https://localhost:8080/",
          "height": 203
        },
        "outputId": "86985fde-44c8-4b56-8683-1d5922187437"
      },
      "source": [
        "df.head()"
      ],
      "execution_count": 60,
      "outputs": [
        {
          "output_type": "execute_result",
          "data": {
            "text/html": [
              "<div>\n",
              "<style scoped>\n",
              "    .dataframe tbody tr th:only-of-type {\n",
              "        vertical-align: middle;\n",
              "    }\n",
              "\n",
              "    .dataframe tbody tr th {\n",
              "        vertical-align: top;\n",
              "    }\n",
              "\n",
              "    .dataframe thead th {\n",
              "        text-align: right;\n",
              "    }\n",
              "</style>\n",
              "<table border=\"1\" class=\"dataframe\">\n",
              "  <thead>\n",
              "    <tr style=\"text-align: right;\">\n",
              "      <th></th>\n",
              "      <th>text</th>\n",
              "      <th>label</th>\n",
              "    </tr>\n",
              "  </thead>\n",
              "  <tbody>\n",
              "    <tr>\n",
              "      <th>124459</th>\n",
              "      <td>in the end we all die, nothing we do means any...</td>\n",
              "      <td>depression</td>\n",
              "    </tr>\n",
              "    <tr>\n",
              "      <th>124460</th>\n",
              "      <td>Happy New Years guys When you're alone on New ...</td>\n",
              "      <td>depression</td>\n",
              "    </tr>\n",
              "    <tr>\n",
              "      <th>124461</th>\n",
              "      <td>Today would have been my best friend's 18th bi...</td>\n",
              "      <td>depression</td>\n",
              "    </tr>\n",
              "    <tr>\n",
              "      <th>124462</th>\n",
              "      <td>So I couldn't feel any worse, and I've had eno...</td>\n",
              "      <td>depression</td>\n",
              "    </tr>\n",
              "    <tr>\n",
              "      <th>124463</th>\n",
              "      <td>I am 22 and have never had a girlfriend and ha...</td>\n",
              "      <td>depression</td>\n",
              "    </tr>\n",
              "  </tbody>\n",
              "</table>\n",
              "</div>"
            ],
            "text/plain": [
              "                                                     text       label\n",
              "124459  in the end we all die, nothing we do means any...  depression\n",
              "124460  Happy New Years guys When you're alone on New ...  depression\n",
              "124461  Today would have been my best friend's 18th bi...  depression\n",
              "124462  So I couldn't feel any worse, and I've had eno...  depression\n",
              "124463  I am 22 and have never had a girlfriend and ha...  depression"
            ]
          },
          "metadata": {},
          "execution_count": 60
        }
      ]
    },
    {
      "cell_type": "code",
      "metadata": {
        "id": "Ie4_FXV43V2Z",
        "colab": {
          "base_uri": "https://localhost:8080/"
        },
        "outputId": "ae675ed1-5c12-4e09-f7f5-855996ac4cc1"
      },
      "source": [
        "# Check if there are any missing values \n",
        "# Output: False = No missing values\n",
        "df.isnull().any()"
      ],
      "execution_count": 63,
      "outputs": [
        {
          "output_type": "execute_result",
          "data": {
            "text/plain": [
              "text     False\n",
              "label    False\n",
              "dtype: bool"
            ]
          },
          "metadata": {},
          "execution_count": 63
        }
      ]
    },
    {
      "cell_type": "code",
      "metadata": {
        "colab": {
          "base_uri": "https://localhost:8080/"
        },
        "id": "C2y4syOQEL8X",
        "outputId": "e4efa58e-81b3-4d3c-d45a-ea504da84251"
      },
      "source": [
        "df.isna().any()"
      ],
      "execution_count": 64,
      "outputs": [
        {
          "output_type": "execute_result",
          "data": {
            "text/plain": [
              "text     False\n",
              "label    False\n",
              "dtype: bool"
            ]
          },
          "metadata": {},
          "execution_count": 64
        }
      ]
    },
    {
      "cell_type": "code",
      "metadata": {
        "id": "1x0lBfRP3V2a",
        "colab": {
          "base_uri": "https://localhost:8080/"
        },
        "outputId": "1413ffc5-a113-4509-bef1-41159dc02f06"
      },
      "source": [
        "df.shape"
      ],
      "execution_count": 65,
      "outputs": [
        {
          "output_type": "execute_result",
          "data": {
            "text/plain": [
              "(301746, 2)"
            ]
          },
          "metadata": {},
          "execution_count": 65
        }
      ]
    },
    {
      "cell_type": "code",
      "metadata": {
        "id": "QGKY62kA3V2b"
      },
      "source": [
        "# Remove extra spaces \n",
        "df['text'] = df['text'].str.strip()"
      ],
      "execution_count": 66,
      "outputs": []
    },
    {
      "cell_type": "code",
      "metadata": {
        "id": "ixTW51EN3V2b",
        "scrolled": true
      },
      "source": [
        "# Remove specific characters from Reddit markdown formatting with reddit cleaner \n",
        "df['text'] = df['text'].map(redditcleaner.clean)"
      ],
      "execution_count": 67,
      "outputs": []
    },
    {
      "cell_type": "code",
      "metadata": {
        "id": "RSuPI5Vq3V2c"
      },
      "source": [
        "# Remove emojis by encoding text as ascii while ignoring errors and decode as ascii.\n",
        "df = df.astype(str).apply(lambda x: x.str.encode('ascii', 'ignore').str.decode('ascii'))"
      ],
      "execution_count": 68,
      "outputs": []
    },
    {
      "cell_type": "code",
      "metadata": {
        "colab": {
          "base_uri": "https://localhost:8080/",
          "height": 203
        },
        "id": "uAyCWdHuEswY",
        "outputId": "2dfde38b-4a01-4340-f44a-06867c0dfe75"
      },
      "source": [
        "df.head()"
      ],
      "execution_count": 69,
      "outputs": [
        {
          "output_type": "execute_result",
          "data": {
            "text/html": [
              "<div>\n",
              "<style scoped>\n",
              "    .dataframe tbody tr th:only-of-type {\n",
              "        vertical-align: middle;\n",
              "    }\n",
              "\n",
              "    .dataframe tbody tr th {\n",
              "        vertical-align: top;\n",
              "    }\n",
              "\n",
              "    .dataframe thead th {\n",
              "        text-align: right;\n",
              "    }\n",
              "</style>\n",
              "<table border=\"1\" class=\"dataframe\">\n",
              "  <thead>\n",
              "    <tr style=\"text-align: right;\">\n",
              "      <th></th>\n",
              "      <th>text</th>\n",
              "      <th>label</th>\n",
              "    </tr>\n",
              "  </thead>\n",
              "  <tbody>\n",
              "    <tr>\n",
              "      <th>124459</th>\n",
              "      <td>in the end we all die, nothing we do means any...</td>\n",
              "      <td>depression</td>\n",
              "    </tr>\n",
              "    <tr>\n",
              "      <th>124460</th>\n",
              "      <td>Happy New Years guys When you're alone on New ...</td>\n",
              "      <td>depression</td>\n",
              "    </tr>\n",
              "    <tr>\n",
              "      <th>124461</th>\n",
              "      <td>Today would have been my best friend's 18th bi...</td>\n",
              "      <td>depression</td>\n",
              "    </tr>\n",
              "    <tr>\n",
              "      <th>124462</th>\n",
              "      <td>So I couldn't feel any worse, and I've had eno...</td>\n",
              "      <td>depression</td>\n",
              "    </tr>\n",
              "    <tr>\n",
              "      <th>124463</th>\n",
              "      <td>I am 22 and have never had a girlfriend and ha...</td>\n",
              "      <td>depression</td>\n",
              "    </tr>\n",
              "  </tbody>\n",
              "</table>\n",
              "</div>"
            ],
            "text/plain": [
              "                                                     text       label\n",
              "124459  in the end we all die, nothing we do means any...  depression\n",
              "124460  Happy New Years guys When you're alone on New ...  depression\n",
              "124461  Today would have been my best friend's 18th bi...  depression\n",
              "124462  So I couldn't feel any worse, and I've had eno...  depression\n",
              "124463  I am 22 and have never had a girlfriend and ha...  depression"
            ]
          },
          "metadata": {},
          "execution_count": 69
        }
      ]
    },
    {
      "cell_type": "code",
      "metadata": {
        "id": "JvJoQjj63V2d",
        "scrolled": true
      },
      "source": [
        "# Remove urls \n",
        "df['text'] = df['text'].str.replace('http\\S+|www.\\S+', '', case=False)"
      ],
      "execution_count": 70,
      "outputs": []
    },
    {
      "cell_type": "code",
      "metadata": {
        "colab": {
          "base_uri": "https://localhost:8080/"
        },
        "id": "nUZLeh8Lk81s",
        "outputId": "956948f1-ffee-46c2-a077-b5be2548fe30"
      },
      "source": [
        "df.iloc[7]"
      ],
      "execution_count": 71,
      "outputs": [
        {
          "output_type": "execute_result",
          "data": {
            "text/plain": [
              "text     EDIT: Wow that many upvotes and support, thank...\n",
              "label                                           depression\n",
              "Name: 124466, dtype: object"
            ]
          },
          "metadata": {},
          "execution_count": 71
        }
      ]
    },
    {
      "cell_type": "markdown",
      "metadata": {
        "id": "YISe1kQWFUYL"
      },
      "source": [
        "## *More Data Cleaning and preprocessing*"
      ]
    },
    {
      "cell_type": "code",
      "metadata": {
        "id": "kcZKe24Fhsdu"
      },
      "source": [
        "# Function to tokenize the Reddits\n",
        "def custom_tokenize(text):\n",
        "  \"\"\"Function that tokenizes text\"\"\"\n",
        "  if not text:\n",
        "      print('The text to be tokenized is a None type. Defaulting to blank string.')\n",
        "      text = ''\n",
        "  return word_tokenize(str(text))"
      ],
      "execution_count": 78,
      "outputs": []
    },
    {
      "cell_type": "code",
      "metadata": {
        "id": "HdKdF62C6sAz"
      },
      "source": [
        "# Function that applies the cleaning steps\n",
        "def clean_up(data):\n",
        "  \"\"\"Function that cleans up the data into a shape that can be further used for modeling\"\"\"\n",
        "  # data.drop_duplicates() # drop duplicate reddits\n",
        "  # data['text'].dropna(inplace=True) # drop any rows with missing reddits\n",
        "  tokenized = data['text'].apply(custom_tokenize) # Tokenize reddits\n",
        "  lower_tokens = tokenized.apply(lambda x: [t.lower() for t in x]) # Convert tokens into lower case\n",
        "  alpha_only = lower_tokens.apply(lambda x: [t for t in x if t.isalpha()]) # Remove punctuations\n",
        "  no_stops = alpha_only.apply(lambda x: [t for t in x if t not in stopwords.words('english')]) # remove stop words\n",
        "  del data['text']\n",
        "  data['text'] = no_stops\n",
        "  return data"
      ],
      "execution_count": 79,
      "outputs": []
    },
    {
      "cell_type": "code",
      "metadata": {
        "id": "R4zF8A4bCaIu"
      },
      "source": [
        "df_1 = df[df['label']=='Anxiety']\n",
        "df_2 = df[df['label']=='bipolar']\n",
        "df_3 = df[df['label']=='depression']"
      ],
      "execution_count": 73,
      "outputs": []
    },
    {
      "cell_type": "code",
      "metadata": {
        "colab": {
          "base_uri": "https://localhost:8080/"
        },
        "id": "jRfyseuFJ5cK",
        "outputId": "e6c8b414-4e66-4917-8430-1f9b0687a123"
      },
      "source": [
        "start = time.time()\n",
        "# Read and clean the data\n",
        "warnings.filterwarnings(\"ignore\")\n",
        "tidy_data_1 = clean_up(df_1)\n",
        "tidy_data_2 = clean_up(df_2)\n",
        "tidy_data_3 = clean_up(df_3)\n",
        "end = time.time()\n",
        "total = end-start\n",
        "total"
      ],
      "execution_count": 80,
      "outputs": [
        {
          "output_type": "execute_result",
          "data": {
            "text/plain": [
              "6951.411418914795"
            ]
          },
          "metadata": {},
          "execution_count": 80
        }
      ]
    },
    {
      "cell_type": "code",
      "metadata": {
        "colab": {
          "base_uri": "https://localhost:8080/"
        },
        "id": "AoQGAuQ_MEh8",
        "outputId": "7430dff7-998c-48bc-cd76-c5592a2ddbd8"
      },
      "source": [
        "tidy_data = pd.concat([tidy_data_1, tidy_data_2, tidy_data_3,])\n",
        "tidy_data.shape"
      ],
      "execution_count": 81,
      "outputs": [
        {
          "output_type": "execute_result",
          "data": {
            "text/plain": [
              "(301746, 2)"
            ]
          },
          "metadata": {},
          "execution_count": 81
        }
      ]
    },
    {
      "cell_type": "code",
      "metadata": {
        "colab": {
          "base_uri": "https://localhost:8080/",
          "height": 203
        },
        "id": "KRWHJ7C4CULu",
        "outputId": "14053938-c506-4043-a1b2-bcb02caf6b0f"
      },
      "source": [
        "tidy_data.head()"
      ],
      "execution_count": 83,
      "outputs": [
        {
          "output_type": "execute_result",
          "data": {
            "text/html": [
              "<div>\n",
              "<style scoped>\n",
              "    .dataframe tbody tr th:only-of-type {\n",
              "        vertical-align: middle;\n",
              "    }\n",
              "\n",
              "    .dataframe tbody tr th {\n",
              "        vertical-align: top;\n",
              "    }\n",
              "\n",
              "    .dataframe thead th {\n",
              "        text-align: right;\n",
              "    }\n",
              "</style>\n",
              "<table border=\"1\" class=\"dataframe\">\n",
              "  <thead>\n",
              "    <tr style=\"text-align: right;\">\n",
              "      <th></th>\n",
              "      <th>label</th>\n",
              "      <th>text</th>\n",
              "    </tr>\n",
              "  </thead>\n",
              "  <tbody>\n",
              "    <tr>\n",
              "      <th>0</th>\n",
              "      <td>Anxiety</td>\n",
              "      <td>[struggled, social, anxiety, childhood, main, ...</td>\n",
              "    </tr>\n",
              "    <tr>\n",
              "      <th>1</th>\n",
              "      <td>Anxiety</td>\n",
              "      <td>[back, march, know, ago, woke, day, go, school...</td>\n",
              "    </tr>\n",
              "    <tr>\n",
              "      <th>2</th>\n",
              "      <td>Anxiety</td>\n",
              "      <td>[withdrawing, medicines, lately, effexor, zypr...</td>\n",
              "    </tr>\n",
              "    <tr>\n",
              "      <th>3</th>\n",
              "      <td>Anxiety</td>\n",
              "      <td>[first, time, poster, long, time, lurker, anxi...</td>\n",
              "    </tr>\n",
              "    <tr>\n",
              "      <th>4</th>\n",
              "      <td>Anxiety</td>\n",
              "      <td>[hi, made, throwaway, account, main, account, ...</td>\n",
              "    </tr>\n",
              "  </tbody>\n",
              "</table>\n",
              "</div>"
            ],
            "text/plain": [
              "     label                                               text\n",
              "0  Anxiety  [struggled, social, anxiety, childhood, main, ...\n",
              "1  Anxiety  [back, march, know, ago, woke, day, go, school...\n",
              "2  Anxiety  [withdrawing, medicines, lately, effexor, zypr...\n",
              "3  Anxiety  [first, time, poster, long, time, lurker, anxi...\n",
              "4  Anxiety  [hi, made, throwaway, account, main, account, ..."
            ]
          },
          "metadata": {},
          "execution_count": 83
        }
      ]
    },
    {
      "cell_type": "code",
      "metadata": {
        "id": "zrSo03fXpOmx"
      },
      "source": [
        "tidy_data.to_json('/content/drive/MyDrive/final_tidy_cleaned_data.json', orient='table')"
      ],
      "execution_count": 85,
      "outputs": []
    },
    {
      "cell_type": "markdown",
      "metadata": {
        "id": "2da6_qeEUUIT"
      },
      "source": [
        "## *Lemmatization*"
      ]
    },
    {
      "cell_type": "code",
      "metadata": {
        "id": "nXCFS0AOUT5D"
      },
      "source": [
        "path = '/content/drive/MyDrive/final_tidy_cleaned_data.json'\n",
        "tidy_reddits = pd.read_json(path, orient='table')"
      ],
      "execution_count": 2,
      "outputs": []
    },
    {
      "cell_type": "code",
      "metadata": {
        "colab": {
          "base_uri": "https://localhost:8080/"
        },
        "id": "92Lky888G2O1",
        "outputId": "93ec7985-f6ff-49be-a8cd-836d3a39c4e8"
      },
      "source": [
        "tidy_reddits.shape"
      ],
      "execution_count": 3,
      "outputs": [
        {
          "output_type": "execute_result",
          "data": {
            "text/plain": [
              "(301746, 2)"
            ]
          },
          "metadata": {},
          "execution_count": 3
        }
      ]
    },
    {
      "cell_type": "code",
      "metadata": {
        "colab": {
          "base_uri": "https://localhost:8080/",
          "height": 203
        },
        "id": "stMFgLLzkEXI",
        "outputId": "b99e0255-8ad7-4eaf-de78-fec2f4dbef7e"
      },
      "source": [
        "tidy_reddits.head()"
      ],
      "execution_count": 4,
      "outputs": [
        {
          "output_type": "execute_result",
          "data": {
            "text/html": [
              "<div>\n",
              "<style scoped>\n",
              "    .dataframe tbody tr th:only-of-type {\n",
              "        vertical-align: middle;\n",
              "    }\n",
              "\n",
              "    .dataframe tbody tr th {\n",
              "        vertical-align: top;\n",
              "    }\n",
              "\n",
              "    .dataframe thead th {\n",
              "        text-align: right;\n",
              "    }\n",
              "</style>\n",
              "<table border=\"1\" class=\"dataframe\">\n",
              "  <thead>\n",
              "    <tr style=\"text-align: right;\">\n",
              "      <th></th>\n",
              "      <th>label</th>\n",
              "      <th>text</th>\n",
              "    </tr>\n",
              "  </thead>\n",
              "  <tbody>\n",
              "    <tr>\n",
              "      <th>0</th>\n",
              "      <td>Anxiety</td>\n",
              "      <td>[struggled, social, anxiety, childhood, main, ...</td>\n",
              "    </tr>\n",
              "    <tr>\n",
              "      <th>1</th>\n",
              "      <td>Anxiety</td>\n",
              "      <td>[back, march, know, ago, woke, day, go, school...</td>\n",
              "    </tr>\n",
              "    <tr>\n",
              "      <th>2</th>\n",
              "      <td>Anxiety</td>\n",
              "      <td>[withdrawing, medicines, lately, effexor, zypr...</td>\n",
              "    </tr>\n",
              "    <tr>\n",
              "      <th>3</th>\n",
              "      <td>Anxiety</td>\n",
              "      <td>[first, time, poster, long, time, lurker, anxi...</td>\n",
              "    </tr>\n",
              "    <tr>\n",
              "      <th>4</th>\n",
              "      <td>Anxiety</td>\n",
              "      <td>[hi, made, throwaway, account, main, account, ...</td>\n",
              "    </tr>\n",
              "  </tbody>\n",
              "</table>\n",
              "</div>"
            ],
            "text/plain": [
              "     label                                               text\n",
              "0  Anxiety  [struggled, social, anxiety, childhood, main, ...\n",
              "1  Anxiety  [back, march, know, ago, woke, day, go, school...\n",
              "2  Anxiety  [withdrawing, medicines, lately, effexor, zypr...\n",
              "3  Anxiety  [first, time, poster, long, time, lurker, anxi...\n",
              "4  Anxiety  [hi, made, throwaway, account, main, account, ..."
            ]
          },
          "metadata": {},
          "execution_count": 4
        }
      ]
    },
    {
      "cell_type": "code",
      "metadata": {
        "id": "IOSjbn532VSn"
      },
      "source": [
        "from nltk.corpus import wordnet\n",
        "def get_wordnet_pos(word):\n",
        "    \"\"\"Map POS tag to first character lemmatize() accepts\"\"\"\n",
        "    tag = nltk.pos_tag([word])[0][1][0].upper()\n",
        "    tag_dict = {\"J\": wordnet.ADJ,\n",
        "                \"N\": wordnet.NOUN,\n",
        "                \"V\": wordnet.VERB,\n",
        "                \"R\": wordnet.ADV}\n",
        "\n",
        "    return tag_dict.get(tag, wordnet.NOUN)"
      ],
      "execution_count": 5,
      "outputs": []
    },
    {
      "cell_type": "code",
      "metadata": {
        "colab": {
          "base_uri": "https://localhost:8080/"
        },
        "id": "9ViVmDZCU48z",
        "outputId": "f3ea0848-550c-459d-c7f9-b5f5e6483059"
      },
      "source": [
        "# Lemmatize tokens\n",
        "start = time.time()\n",
        "\n",
        "lemmatizer = WordNetLemmatizer()\n",
        "tidy_reddits['lemmatized'] = tidy_reddits['text'].apply(lambda x: [lemmatizer.lemmatize(word, get_wordnet_pos(word)) for word in x])\n",
        "\n",
        "end = time.time()\n",
        "total = end-start\n",
        "total"
      ],
      "execution_count": 6,
      "outputs": [
        {
          "output_type": "execute_result",
          "data": {
            "text/plain": [
              "4293.25057721138"
            ]
          },
          "metadata": {},
          "execution_count": 6
        }
      ]
    },
    {
      "cell_type": "code",
      "metadata": {
        "id": "U1R4wMNAU-OP"
      },
      "source": [
        "tidy_reddits['tokens_back_to_text'] = [' '.join(map(str, l)) for l in tidy_reddits['lemmatized']]"
      ],
      "execution_count": 7,
      "outputs": []
    },
    {
      "cell_type": "code",
      "metadata": {
        "colab": {
          "base_uri": "https://localhost:8080/",
          "height": 124
        },
        "id": "ZKf3ytrMVISh",
        "outputId": "93faf071-a20c-4885-fe8a-47ff372ce7ac"
      },
      "source": [
        "tidy_reddits['tokens_back_to_text'][3]"
      ],
      "execution_count": 8,
      "outputs": [
        {
          "output_type": "execute_result",
          "data": {
            "application/vnd.google.colaboratory.intrinsic+json": {
              "type": "string"
            },
            "text/plain": [
              "'first time poster long time lurker anxiety year always cripple miserable experience feel like lose much life due scar pursue friendship past hello self conscious voice opinion still hard still ca fully around many many people struggle hold conversation without feel like burden recently make proud thought share finish school year month freedom uni say accomplish goal never thought would one big goal complete interview something really want usually would even attempt fear put fear aside hate phone call almost always ignore yet able one one twenty minute interview though felt uncomfortable talk stranger fact feel amaze hearing later accepted one best feeling ever felt like wall surround slowly chip away small scale push text people first even talk age felt like hat prove hard initially felt like idiot anxiety push million negative thought head regardless anxiety thought push wall anxiety proud talk so family anxiety make feel like absolutely despise result neglect talk time go felt disconnect recently attempt push wall begin talk ask question something still difficult hell reason feel good know long sorry proud still anxious mess still bad day feel like make change push thing anxiety tell realise anxiety define control manipulative may push past little little even small step feel good step stone'"
            ]
          },
          "metadata": {},
          "execution_count": 8
        }
      ]
    },
    {
      "cell_type": "code",
      "metadata": {
        "id": "b35Hu7HoVOX1"
      },
      "source": [
        "# Explort the lemmatized data to json file for ease of use in the next step\n",
        "path = '/content/drive/MyDrive/final_tidy_reddits_lemmetized.json'\n",
        "tidy_reddits.to_json(path, orient='table')"
      ],
      "execution_count": 9,
      "outputs": []
    },
    {
      "cell_type": "code",
      "metadata": {
        "colab": {
          "base_uri": "https://localhost:8080/"
        },
        "id": "SnOoFkVmVvJH",
        "outputId": "6cb88cfe-47d9-41be-8454-5c17ec975176"
      },
      "source": [
        "tidy_reddits.shape"
      ],
      "execution_count": 10,
      "outputs": [
        {
          "output_type": "execute_result",
          "data": {
            "text/plain": [
              "(301746, 4)"
            ]
          },
          "metadata": {},
          "execution_count": 10
        }
      ]
    },
    {
      "cell_type": "code",
      "metadata": {
        "id": "FQyJ9ReBvSii"
      },
      "source": [
        "pd.options.display.max_colwidth = None\n",
        "pd.options.display.max_rows = None"
      ],
      "execution_count": 14,
      "outputs": []
    },
    {
      "cell_type": "code",
      "metadata": {
        "id": "IjmwfS9XW3sR",
        "colab": {
          "base_uri": "https://localhost:8080/",
          "height": 1000
        },
        "outputId": "60a4ca95-dc8d-403f-d2ee-af2ae4d0b727"
      },
      "source": [
        "tidy_reddits.sample(20)"
      ],
      "execution_count": 15,
      "outputs": [
        {
          "output_type": "execute_result",
          "data": {
            "text/html": [
              "<div>\n",
              "<style scoped>\n",
              "    .dataframe tbody tr th:only-of-type {\n",
              "        vertical-align: middle;\n",
              "    }\n",
              "\n",
              "    .dataframe tbody tr th {\n",
              "        vertical-align: top;\n",
              "    }\n",
              "\n",
              "    .dataframe thead th {\n",
              "        text-align: right;\n",
              "    }\n",
              "</style>\n",
              "<table border=\"1\" class=\"dataframe\">\n",
              "  <thead>\n",
              "    <tr style=\"text-align: right;\">\n",
              "      <th></th>\n",
              "      <th>label</th>\n",
              "      <th>text</th>\n",
              "      <th>lemmatized</th>\n",
              "      <th>tokens_back_to_text</th>\n",
              "    </tr>\n",
              "  </thead>\n",
              "  <tbody>\n",
              "    <tr>\n",
              "      <th>439663</th>\n",
              "      <td>bipolar</td>\n",
              "      <td>[either, really, btchy, mood, mood, everything, fine, couple, years, increasing, fixated, house, fixates, self, worth, nice, house, moved, times, last, years, time, laments, sold, gets, moods, everything, horrible, starts, blaming, everyone, unhappiness, never, much, threatens, move, us, break, marriage, said, multiple, times, also, constantly, yell, yet, sometimes, fine, loving, normal, family, worried, puzzled, help, know, thyroid, wack, takes, naturopathic, pills, morning, never, excercises, except, work, nurse, shift, work, fix, would, really, appreciated, think, moms, bipolar, tearing, family, apart, advice]</td>\n",
              "      <td>[either, really, btchy, mood, mood, everything, fine, couple, year, increase, fixate, house, fixates, self, worth, nice, house, move, time, last, year, time, lament, sell, get, mood, everything, horrible, start, blame, everyone, unhappiness, never, much, threatens, move, u, break, marriage, say, multiple, time, also, constantly, yell, yet, sometimes, fine, love, normal, family, worried, puzzle, help, know, thyroid, wack, take, naturopathic, pill, morning, never, excercises, except, work, nurse, shift, work, fix, would, really, appreciate, think, mom, bipolar, tear, family, apart, advice]</td>\n",
              "      <td>either really btchy mood mood everything fine couple year increase fixate house fixates self worth nice house move time last year time lament sell get mood everything horrible start blame everyone unhappiness never much threatens move u break marriage say multiple time also constantly yell yet sometimes fine love normal family worried puzzle help know thyroid wack take naturopathic pill morning never excercises except work nurse shift work fix would really appreciate think mom bipolar tear family apart advice</td>\n",
              "    </tr>\n",
              "    <tr>\n",
              "      <th>268300</th>\n",
              "      <td>depression</td>\n",
              "      <td>[graduated, high, school, decided, take, year, worked, bit, end, december, decided, move, big, city, take, acting, courses, really, enjoyed, couple, months, decided, look, job, staying, little, bit, planning, staying, upon, looking, getting, job, immediately, hated, triggered, something, felt, sad, working, quit, shifts, thought, would, go, away, finished, courses, moved, back, home, process, looking, job, pay, university, think, depression, getting, worse, makes, fucking, sad, work, job, know, hate, makes, feel, worthless, unaccomplished, want, thing, enjoy, time, school, ca, friends, hardly, talk, anyone, besides, family, want, someone, hang, talk, life, fun, things, together, excited, university, second, chance, go, make, friends, join, clubs, ...]</td>\n",
              "      <td>[graduate, high, school, decide, take, year, work, bit, end, december, decide, move, big, city, take, act, course, really, enjoy, couple, month, decide, look, job, stay, little, bit, planning, stay, upon, look, get, job, immediately, hat, trigger, something, felt, sad, work, quit, shift, thought, would, go, away, finish, course, move, back, home, process, look, job, pay, university, think, depression, get, bad, make, fuck, sad, work, job, know, hate, make, feel, worthless, unaccomplished, want, thing, enjoy, time, school, ca, friend, hardly, talk, anyone, besides, family, want, someone, hang, talk, life, fun, thing, together, excite, university, second, chance, go, make, friend, join, club, ...]</td>\n",
              "      <td>graduate high school decide take year work bit end december decide move big city take act course really enjoy couple month decide look job stay little bit planning stay upon look get job immediately hat trigger something felt sad work quit shift thought would go away finish course move back home process look job pay university think depression get bad make fuck sad work job know hate make feel worthless unaccomplished want thing enjoy time school ca friend hardly talk anyone besides family want someone hang talk life fun thing together excite university second chance go make friend join club learn thing actually interested time till get finally accepted depressed</td>\n",
              "    </tr>\n",
              "    <tr>\n",
              "      <th>245123</th>\n",
              "      <td>depression</td>\n",
              "      <td>[basically, wan, na, know, people, keep, depression, want, people, treating, differently, cause, feel, right, want, family, friends, anyone, knowing, cause, want, nicer, feel, walk, eggshells, around, even, look, different, like, knew, cause, condition, time, wish, knew, feels, people, treating, different]</td>\n",
              "      <td>[basically, wan, na, know, people, keep, depression, want, people, treat, differently, cause, feel, right, want, family, friend, anyone, know, cause, want, nicer, feel, walk, eggshell, around, even, look, different, like, knew, cause, condition, time, wish, knew, feel, people, treat, different]</td>\n",
              "      <td>basically wan na know people keep depression want people treat differently cause feel right want family friend anyone know cause want nicer feel walk eggshell around even look different like knew cause condition time wish knew feel people treat different</td>\n",
              "    </tr>\n",
              "    <tr>\n",
              "      <th>70025</th>\n",
              "      <td>Anxiety</td>\n",
              "      <td>[hi, woud, like, share, experience, college, already, struggle, adhd, hardly, keep, focused, classes, today, supposed, study, replacement, test, got, really, bad, grade, however, got, anxious, start, procastinating, lost, track, time, almost, ways, cope, anxiety, worked, guys, would, love, hear, thoughts, issue, college, assignments, grades, tests, cope, much]</td>\n",
              "      <td>[hi, woud, like, share, experience, college, already, struggle, adhd, hardly, keep, focus, class, today, suppose, study, replacement, test, get, really, bad, grade, however, get, anxious, start, procastinating, lose, track, time, almost, way, cope, anxiety, work, guy, would, love, hear, thought, issue, college, assignment, grade, test, cope, much]</td>\n",
              "      <td>hi woud like share experience college already struggle adhd hardly keep focus class today suppose study replacement test get really bad grade however get anxious start procastinating lose track time almost way cope anxiety work guy would love hear thought issue college assignment grade test cope much</td>\n",
              "    </tr>\n",
              "    <tr>\n",
              "      <th>247191</th>\n",
              "      <td>depression</td>\n",
              "      <td>[sort, like, ahhhhh, stop, lol, please, ahhhh, little, voices, come, like, never, gon, na, feel, like, normal, like, stop, please, dude, start, panic, attack, like, like, seriously, wtf, try, go, sleep, instead, get, weird, trance, feels, long, like, fuck, lol, take, kind, like, ca, tell, going, confused, animal, killed, something, weird, feels, like, dream, something, staring, wall, puddle, sweat, fall, asleep, concerning, dreams, get, really, weird, ones, get, jump, scared, something, like, ahh, fuck, wake, go, back, sleep, keep, dream, getting, jerked, awake, yea, know, time, wake, go, backyard, sit, sun, mins, dare, actually, leave, house, months, well, psychiatrist, appointments, ...]</td>\n",
              "      <td>[sort, like, ahhhhh, stop, lol, please, ahhhh, little, voice, come, like, never, gon, na, feel, like, normal, like, stop, please, dude, start, panic, attack, like, like, seriously, wtf, try, go, sleep, instead, get, weird, trance, feel, long, like, fuck, lol, take, kind, like, ca, tell, go, confuse, animal, kill, something, weird, feel, like, dream, something, star, wall, puddle, sweat, fall, asleep, concern, dream, get, really, weird, one, get, jump, scar, something, like, ahh, fuck, wake, go, back, sleep, keep, dream, get, jerked, awake, yea, know, time, wake, go, backyard, sit, sun, min, dare, actually, leave, house, month, well, psychiatrist, appointment, ...]</td>\n",
              "      <td>sort like ahhhhh stop lol please ahhhh little voice come like never gon na feel like normal like stop please dude start panic attack like like seriously wtf try go sleep instead get weird trance feel long like fuck lol take kind like ca tell go confuse animal kill something weird feel like dream something star wall puddle sweat fall asleep concern dream get really weird one get jump scar something like ahh fuck wake go back sleep keep dream get jerked awake yea know time wake go backyard sit sun min dare actually leave house month well psychiatrist appointment get evict mom house pretty much want enjoy outside feel like wall everywhere trap matter go anyone else stuck feel like microwave</td>\n",
              "    </tr>\n",
              "    <tr>\n",
              "      <th>251979</th>\n",
              "      <td>depression</td>\n",
              "      <td>[clinically, depressed, years, mental, facility, suicidal, thoughts, life, right, hardest, ever, tired, people, complain, depressed, become, jealous, lives, come, find, little, real, issues, always, physically, verbally, abused, growing, obviously, days, dad, would, lay, hand, really, affected, way, trusted, people, loved, people, thought, let, start, happening, right, escort, basically, sell, pay, tutition, bills, help, family, yes, worked, real, jobs, endured, lot, shit, employers, taking, advantage, employees, underpaying, using, loopholes, worked, overtime, insulting, well, coworkers, putting, nursing, school, absolutely, help, family, always, dirt, poor, grandparents, give, money, away, relatives, philippines, sob, stories, churches, generous, people, like, show, never, ask, anything, dad, stepmom, ...]</td>\n",
              "      <td>[clinically, depressed, year, mental, facility, suicidal, thought, life, right, hardest, ever, tire, people, complain, depressed, become, jealous, life, come, find, little, real, issue, always, physically, verbally, abuse, grow, obviously, day, dad, would, lay, hand, really, affected, way, trust, people, love, people, thought, let, start, happen, right, escort, basically, sell, pay, tutition, bill, help, family, yes, work, real, job, endure, lot, shit, employer, take, advantage, employee, underpay, use, loophole, work, overtime, insult, well, coworkers, put, nursing, school, absolutely, help, family, always, dirt, poor, grandparent, give, money, away, relative, philippine, sob, story, church, generous, people, like, show, never, ask, anything, dad, stepmom, ...]</td>\n",
              "      <td>clinically depressed year mental facility suicidal thought life right hardest ever tire people complain depressed become jealous life come find little real issue always physically verbally abuse grow obviously day dad would lay hand really affected way trust people love people thought let start happen right escort basically sell pay tutition bill help family yes work real job endure lot shit employer take advantage employee underpay use loophole work overtime insult well coworkers put nursing school absolutely help family always dirt poor grandparent give money away relative philippine sob story church generous people like show never ask anything dad stepmom uneducated child life becomes living hell could take abuse parent anymore give school want kill stop care parent become fed pretty much kick middle night care want die get picked kill whatever luck good samaritan insist drive home take biological grandparent house reason bring get kick parent house last year found old brother molest two young sister year turn left home guess thing fell apart without obviously problem brother two sister come go least year devastate disgust terrible family secret sister receives ongoing therapy thing difficult last year year old sister put dangerous position december met old guy believe rap become caught snapchat instagram asksara take easily compliment get boy men eventually ahe plan meet intention begin clear know go police case currently still ongoing victim well guy since life fuck hard obviously still hiding fuck way support family think work job still could continue hold job go nursing school sister act ever parent constantly get argument dad take anger year old brother couple week ago teacher call cps take away sibling lie little brother slightly autistic throw tantrum dad short temper parent argue front kid tell confuse mommy say love dad anymore broken post reddit month thought since thing would get easy life progressively become bad broken exhaust tire year old try keep family support help ca tell anyone anything need vent anyone tip cope young girl rap dysfunctional family would love advice tip talk help u year old constantly shuts u edit try family meeting help much act mediator time family parent sibling grandparent get along grandparent know sexual predator brother rape case sister cps case gossip much start hurt</td>\n",
              "    </tr>\n",
              "    <tr>\n",
              "      <th>39881</th>\n",
              "      <td>Anxiety</td>\n",
              "      <td>[prepared, slightest, freaking, im, sure, belongs, anxiety, feels, like, larger, part, dilemma, considering, imploding, right, first, post, reddit, ever, ineptitude, human, lol, sorry, lenh, panicked, venting, f, attending, college, week, ago, blue, guy, approached, stepping, bus, said, something, effect, saw, bus, look, like, nice, person, want, hang, sometime, flattered, course, said, sure, probably, mention, pretty, comfortably, asexual, although, idea, feel, romantic, relationships, nave, little, thought, genuinely, meant, hang, friend, course, morning, day, met, first, time, paralyzed, anxiety, hour, could, leave, room, hour, late, felt, bad, especially, gotten, location, confused, come, find, met, went, well, turn, normal, human, mode, conversation, someone, ...]</td>\n",
              "      <td>[prepared, slightest, freak, im, sure, belongs, anxiety, feel, like, large, part, dilemma, consider, implode, right, first, post, reddit, ever, ineptitude, human, lol, sorry, lenh, panicked, vent, f, attend, college, week, ago, blue, guy, approach, step, bus, say, something, effect, saw, bus, look, like, nice, person, want, hang, sometime, flatter, course, say, sure, probably, mention, pretty, comfortably, asexual, although, idea, feel, romantic, relationship, nave, little, thought, genuinely, meant, hang, friend, course, morning, day, met, first, time, paralyze, anxiety, hour, could, leave, room, hour, late, felt, bad, especially, gotten, location, confuse, come, find, met, go, well, turn, normal, human, mode, conversation, someone, ...]</td>\n",
              "      <td>prepared slightest freak im sure belongs anxiety feel like large part dilemma consider implode right first post reddit ever ineptitude human lol sorry lenh panicked vent f attend college week ago blue guy approach step bus say something effect saw bus look like nice person want hang sometime flatter course say sure probably mention pretty comfortably asexual although idea feel romantic relationship nave little thought genuinely meant hang friend course morning day met first time paralyze anxiety hour could leave room hour late felt bad especially gotten location confuse come find met go well turn normal human mode conversation someone pretend incredibly anxious time melt later finally alone time guess charm enough want meet even though die inside today met little banter definitely make flirtatious hint scream internally want awkwardly change subject anything sort reciprocate change subject persistent though formally asks roundabout way want go steady moment like omg someone actually attract compute guess fry brain circuitry cause accept since would way awkward experience like say really nice want hang manage stall tomorrow night could time get thought sort kiss spark like people talk feel sexual attraction toward anything fact turn kiss gross reaaaally kiss hand neck ear neutral whole thing anyway manage ward panic say goodbye go class make back room drop guard realize anxious whole mess feel like lead something manage trick think ball anxiety depression idea meeting fill anxiety feel like unwarranted give chance since take eon get comfortable someone let go long never start feel attract comfortable idea romantic partnership doesnt repulse dont know sexual one social anxiety destroy right period anxiety depressive episode dont want person barely know see like let mask idea proceed advice would greatly appreciate thanks tl dr somehow convince guy functional human socially anxious turn proposal go steady im pretty sure im asexual anxiety relationship kill think accidentally get boyfriend today</td>\n",
              "    </tr>\n",
              "    <tr>\n",
              "      <th>431691</th>\n",
              "      <td>bipolar</td>\n",
              "      <td>[guys, mild, hypomania, even, hypomania, long, last, sometimes, wonder, hypo, lasts, day, sometimes, consider, normal, times, scraping, bottom, barrel, life, diagnosed, couple, months, know, dsm, v, quotes, periods, longer, experiencing, wondering, going, long, hypomania, last]</td>\n",
              "      <td>[guy, mild, hypomania, even, hypomania, long, last, sometimes, wonder, hypo, last, day, sometimes, consider, normal, time, scrap, bottom, barrel, life, diagnose, couple, month, know, dsm, v, quote, period, longer, experience, wonder, go, long, hypomania, last]</td>\n",
              "      <td>guy mild hypomania even hypomania long last sometimes wonder hypo last day sometimes consider normal time scrap bottom barrel life diagnose couple month know dsm v quote period longer experience wonder go long hypomania last</td>\n",
              "    </tr>\n",
              "    <tr>\n",
              "      <th>147493</th>\n",
              "      <td>depression</td>\n",
              "      <td>[suppose, answer, easy, us, would, wondering, others, done, improve, depression, steps, even, turn, lives, around, live, somewhat, normally, good, job, family, friends, several, years, ago, started, working, home, job, closed, offices, could, work, remotely, isolation, really, took, toll, mental, health, also, anxiety, disorder, true, cause, many, issues, letting, fear, take, control, taking, chances, opening, others, also, went, sexual, abuse, situation, alcohol, abuse, many, years, ago, took, long, time, change, understand, process, things, better, full, time, job, fianc, together, years, gotten, married, anxiety, fear, people, crowds, however, ring, plans, tie, knot, moving, new, state, soon, new, possibilities, moving, career, ladder, life, ...]</td>\n",
              "      <td>[suppose, answer, easy, u, would, wonder, others, do, improve, depression, step, even, turn, life, around, live, somewhat, normally, good, job, family, friend, several, year, ago, start, work, home, job, close, office, could, work, remotely, isolation, really, take, toll, mental, health, also, anxiety, disorder, true, cause, many, issue, let, fear, take, control, take, chance, opening, others, also, go, sexual, abuse, situation, alcohol, abuse, many, year, ago, take, long, time, change, understand, process, thing, well, full, time, job, fianc, together, year, gotten, married, anxiety, fear, people, crowd, however, ring, plan, tie, knot, move, new, state, soon, new, possibility, move, career, ladder, life, ...]</td>\n",
              "      <td>suppose answer easy u would wonder others do improve depression step even turn life around live somewhat normally good job family friend several year ago start work home job close office could work remotely isolation really take toll mental health also anxiety disorder true cause many issue let fear take control take chance opening others also go sexual abuse situation alcohol abuse many year ago take long time change understand process thing well full time job fianc together year gotten married anxiety fear people crowd however ring plan tie knot move new state soon new possibility move career ladder life actually seem like could lot less stressful future look forward honest realize depressed year hard look back understand sure candid without sound sorry agony much life hard whiny way isolated ruminative anxiety sort way skewed thought battle successfully therapy medication saddest part month perhaps year waste afraid anything besides write overanalyze opportunity change start anew heart want continue career industry tanked forge solid friendship even start family though time run worry mess somehow want pull year long rut actually happy long want feel kind happiness mostly content living day day existential dread fear death permeate whole experience sense even exist life actually felt year would die soon matter matter like light switch go see clearly waste away want make sense people want stay alive thing good break heart depression take even fundamental part human away regain hope start new path trauma depression sorry right sub ask figure even u unlucky people fight depression understand situation well provide advice since make far thanks reading change life around major depression</td>\n",
              "    </tr>\n",
              "    <tr>\n",
              "      <th>157014</th>\n",
              "      <td>depression</td>\n",
              "      <td>[find, dwelling, past, everything, hate, teachers, treated, students, like, shit, never, taught, us, anything, sports, coaches, never, gave, anyone, golden, boys, shot, becoming, successful, sports, times, said, something, stupid, said, unkind, things, people, lot, trouble, removing, person, use, often, become, enraged, thought, things, happened, earlier, life, feel, like, could, possibly, benefit, sort, meditation, exactly, understand, potential, benefits, may, main, goal, clean, closet, need, let, things, go, want, clean, start, without, insecurities, holding, back, went, bought, new, clothes, gave, away, old, stuff, shirts, pairs, pants, couple, pairs, shoes, want, change, everything, move, thought, maybe, even, actually, done, want, focus, accepting, change, ...]</td>\n",
              "      <td>[find, dwell, past, everything, hate, teacher, treat, student, like, shit, never, taught, u, anything, sport, coach, never, give, anyone, golden, boy, shot, become, successful, sport, time, say, something, stupid, say, unkind, thing, people, lot, trouble, remove, person, use, often, become, enrage, thought, thing, happen, earlier, life, feel, like, could, possibly, benefit, sort, meditation, exactly, understand, potential, benefit, may, main, goal, clean, closet, need, let, thing, go, want, clean, start, without, insecurity, hold, back, go, bought, new, clothes, give, away, old, stuff, shirt, pair, pant, couple, pair, shoe, want, change, everything, move, thought, maybe, even, actually, do, want, focus, accept, change, ...]</td>\n",
              "      <td>find dwell past everything hate teacher treat student like shit never taught u anything sport coach never give anyone golden boy shot become successful sport time say something stupid say unkind thing people lot trouble remove person use often become enrage thought thing happen earlier life feel like could possibly benefit sort meditation exactly understand potential benefit may main goal clean closet need let thing go want clean start without insecurity hold back go bought new clothes give away old stuff shirt pair pant couple pair shoe want change everything move thought maybe even actually do want focus accept change clothing actually help kind unexpected go cut hair move new house hardest part though get rid shit head next list struggle find mean advice would appreciate thanks much benefit meditation yoga thai chi etc</td>\n",
              "    </tr>\n",
              "    <tr>\n",
              "      <th>5798</th>\n",
              "      <td>Anxiety</td>\n",
              "      <td>[hi, remember, completely, shocked, going, extreme, dizzy, spells, could, leave, house, find, caused, anxiety, since, numerous, physical, symptoms, turn, anxiety, nothing, nothing, less, curious, see, physical, symptoms, people, might, make, us, feel, less, like, dying, mysterious, illness, week, physical, symptoms, anxiety]</td>\n",
              "      <td>[hi, remember, completely, shock, go, extreme, dizzy, spell, could, leave, house, find, cause, anxiety, since, numerous, physical, symptom, turn, anxiety, nothing, nothing, less, curious, see, physical, symptom, people, might, make, u, feel, less, like, die, mysterious, illness, week, physical, symptom, anxiety]</td>\n",
              "      <td>hi remember completely shock go extreme dizzy spell could leave house find cause anxiety since numerous physical symptom turn anxiety nothing nothing less curious see physical symptom people might make u feel less like die mysterious illness week physical symptom anxiety</td>\n",
              "    </tr>\n",
              "    <tr>\n",
              "      <th>68937</th>\n",
              "      <td>Anxiety</td>\n",
              "      <td>[im, currently, working, job, generally, low, stress, still, find, quite, bit, anxiety, mistakes, arent, really, tolerated, find, everyday, roller, coaster, anyone, anxiety, job, doesnt, make, anxious, anxiety, reduced, jobs]</td>\n",
              "      <td>[im, currently, work, job, generally, low, stress, still, find, quite, bit, anxiety, mistake, arent, really, tolerate, find, everyday, roller, coaster, anyone, anxiety, job, doesnt, make, anxious, anxiety, reduce, job]</td>\n",
              "      <td>im currently work job generally low stress still find quite bit anxiety mistake arent really tolerate find everyday roller coaster anyone anxiety job doesnt make anxious anxiety reduce job</td>\n",
              "    </tr>\n",
              "    <tr>\n",
              "      <th>59691</th>\n",
              "      <td>Anxiety</td>\n",
              "      <td>[hello, taking, cipralex, weeks, anxiety, think, ocd, suffer, repetitive, intrusive, thoughts, mainly, sleep, better, cry, less, feel, apathetic, usually, empathetic, sensitive, person, feel, like, also, hard, get, happy, excited, things, would, usually, get, happy, enjoy, fact, sleep, hours, day, know, worth, since, feel, like, zombie, addition, medication, started, exercising, yoga, sauna, meditation, journaling, therapy, know, medication, takes, weeks, kick, sure, patient, maybe, try, start, weening, medication, anything, could, combat, apathetic, feelings, one, thing, write, things, grateful, everyday, sometimes, feel, hopeless, matter, nothing, help, also, think, maybe, take, time, everything, start, working, hope, case, ps, supportive, people, life, feel, even, guiltier, ...]</td>\n",
              "      <td>[hello, take, cipralex, week, anxiety, think, ocd, suffer, repetitive, intrusive, thought, mainly, sleep, well, cry, less, feel, apathetic, usually, empathetic, sensitive, person, feel, like, also, hard, get, happy, excite, thing, would, usually, get, happy, enjoy, fact, sleep, hour, day, know, worth, since, feel, like, zombie, addition, medication, start, exercise, yoga, sauna, meditation, journaling, therapy, know, medication, take, week, kick, sure, patient, maybe, try, start, weening, medication, anything, could, combat, apathetic, feeling, one, thing, write, thing, grateful, everyday, sometimes, feel, hopeless, matter, nothing, help, also, think, maybe, take, time, everything, start, work, hope, case, p, supportive, people, life, feel, even, guiltier, ...]</td>\n",
              "      <td>hello take cipralex week anxiety think ocd suffer repetitive intrusive thought mainly sleep well cry less feel apathetic usually empathetic sensitive person feel like also hard get happy excite thing would usually get happy enjoy fact sleep hour day know worth since feel like zombie addition medication start exercise yoga sauna meditation journaling therapy know medication take week kick sure patient maybe try start weening medication anything could combat apathetic feeling one thing write thing grateful everyday sometimes feel hopeless matter nothing help also think maybe take time everything start work hope case p supportive people life feel even guiltier apathetic feeling thought general take cipralex week</td>\n",
              "    </tr>\n",
              "    <tr>\n",
              "      <th>283374</th>\n",
              "      <td>depression</td>\n",
              "      <td>[years, dealing, certain, kind, depression, kind, makes, feel, far, away, feelings, thoughts, makes, feel, like, stranger, yive, tried, seeing, therapist, root, problems, still, lies, fact, detached, alienated, feelings, opening, anyone, capacity, chore, rather, catharsis, parents, long, remember, told, periodically, checked, never, felt, comfortable, opening, even, though, loving, supportive, parents, attempts, almost, always, met, misdirected, anger, annoyance, idea, act, way, towards, always, rarely, given, cause, outbursts, outlets, talking, therapy, never, able, find, sort, situation, able, open, believe, wanted, able, feel, emotions, deeply, able, pinpoint, literally, incapable, day, day, emotions, consist, generally, numb, feeling, towards, everything, whether, something, happy, graduation, new, job, ...]</td>\n",
              "      <td>[year, deal, certain, kind, depression, kind, make, feel, far, away, feeling, thought, make, feel, like, stranger, yive, try, see, therapist, root, problem, still, lie, fact, detach, alienate, feeling, opening, anyone, capacity, chore, rather, catharsis, parent, long, remember, told, periodically, checked, never, felt, comfortable, opening, even, though, love, supportive, parent, attempt, almost, always, met, misdirect, anger, annoyance, idea, act, way, towards, always, rarely, give, cause, outburst, outlet, talk, therapy, never, able, find, sort, situation, able, open, believe, want, able, feel, emotion, deeply, able, pinpoint, literally, incapable, day, day, emotion, consist, generally, numb, feel, towards, everything, whether, something, happy, graduation, new, job, ...]</td>\n",
              "      <td>year deal certain kind depression kind make feel far away feeling thought make feel like stranger yive try see therapist root problem still lie fact detach alienate feeling opening anyone capacity chore rather catharsis parent long remember told periodically checked never felt comfortable opening even though love supportive parent attempt almost always met misdirect anger annoyance idea act way towards always rarely give cause outburst outlet talk therapy never able find sort situation able open believe want able feel emotion deeply able pinpoint literally incapable day day emotion consist generally numb feel towards everything whether something happy graduation new job acceptation bad relationship trouble family issue however time time find little feeling major event life frustrate beyond belief hope people experienced conquer sort battle may outlook suggestion approach situation thank everyone take time read emotionally numb</td>\n",
              "    </tr>\n",
              "    <tr>\n",
              "      <th>25788</th>\n",
              "      <td>Anxiety</td>\n",
              "      <td>[since, yesterday, ive, feeling, awful, im, anxious, something, soon, going, happen, dad, dont, know, im, worried, came, nowhere, im, pmsing, right, im, emotional, still, cant, stop, thinking, somethings, going, happen, anyone, help, suddenly, anxious, something, bad, going, happen, dad]</td>\n",
              "      <td>[since, yesterday, ive, feel, awful, im, anxious, something, soon, go, happen, dad, dont, know, im, worried, come, nowhere, im, pmsing, right, im, emotional, still, cant, stop, think, somethings, go, happen, anyone, help, suddenly, anxious, something, bad, go, happen, dad]</td>\n",
              "      <td>since yesterday ive feel awful im anxious something soon go happen dad dont know im worried come nowhere im pmsing right im emotional still cant stop think somethings go happen anyone help suddenly anxious something bad go happen dad</td>\n",
              "    </tr>\n",
              "    <tr>\n",
              "      <th>142137</th>\n",
              "      <td>depression</td>\n",
              "      <td>[people, got, diagnosed, mental, disorder, step, step, sort, mental, health, professional, diagnosis, get, therapy, medication, go, gp, one, go, cold, prescribe, algocalmin, right, reffered, either, psychiatrist, therapist, got, help, got, diagnosed, regular, cbt, therapist, even, allowed, diagnose, mental, disorders, cbt, similar, tf, diagnosed, question, getting, help]</td>\n",
              "      <td>[people, get, diagnose, mental, disorder, step, step, sort, mental, health, professional, diagnosis, get, therapy, medication, go, gp, one, go, cold, prescribe, algocalmin, right, reffered, either, psychiatrist, therapist, get, help, get, diagnose, regular, cbt, therapist, even, allow, diagnose, mental, disorder, cbt, similar, tf, diagnose, question, get, help]</td>\n",
              "      <td>people get diagnose mental disorder step step sort mental health professional diagnosis get therapy medication go gp one go cold prescribe algocalmin right reffered either psychiatrist therapist get help get diagnose regular cbt therapist even allow diagnose mental disorder cbt similar tf diagnose question get help</td>\n",
              "    </tr>\n",
              "    <tr>\n",
              "      <th>210828</th>\n",
              "      <td>depression</td>\n",
              "      <td>[im, really, good, communicating, feelings, ill, try, ive, never, specialist, ive, depressed, since, currently, least, think, depression, dont, know, another, mental, disorder, mood, issue, ive, never, specialist, type, therapist, really, dont, know, whats, wrong, days, great, days, im, rock, bottom, lately, sky, highs, day, extreme, lows, closer, night, time, throughout, night, cant, sleep, kinda, like, tonight, amazing, day, soon, locked, room, started, feeling, weight, emotions, feel, heavy, last, year, baker, acted, attempting, suicide, around, time, last, year, went, far, cut, tonight, havent, since, laid, bed, started, crying, felt, guilty, idk, feel, guilty, didnt, end, guilty, bc, promised, wouldnt, hard, explain, ...]</td>\n",
              "      <td>[im, really, good, communicate, feeling, ill, try, ive, never, specialist, ive, depressed, since, currently, least, think, depression, dont, know, another, mental, disorder, mood, issue, ive, never, specialist, type, therapist, really, dont, know, whats, wrong, day, great, day, im, rock, bottom, lately, sky, high, day, extreme, low, closer, night, time, throughout, night, cant, sleep, kinda, like, tonight, amaze, day, soon, lock, room, start, feel, weight, emotion, feel, heavy, last, year, baker, act, attempt, suicide, around, time, last, year, go, far, cut, tonight, havent, since, laid, bed, start, cry, felt, guilty, idk, feel, guilty, didnt, end, guilty, bc, promise, wouldnt, hard, explain, ...]</td>\n",
              "      <td>im really good communicate feeling ill try ive never specialist ive depressed since currently least think depression dont know another mental disorder mood issue ive never specialist type therapist really dont know whats wrong day great day im rock bottom lately sky high day extreme low closer night time throughout night cant sleep kinda like tonight amaze day soon lock room start feel weight emotion feel heavy last year baker act attempt suicide around time last year go far cut tonight havent since laid bed start cry felt guilty idk feel guilty didnt end guilty bc promise wouldnt hard explain emotion rarely talk thought always mind try speak loud doesnt come right cant explain theyre align mind try speak fuckery word feel worthless time feel like everyone around pretend like use feel unappreciated time im always friendly people im respectful never know something im wrong everyone else dont feel connect anyone dont feel like fit anywhere never hear friend unless message first sometimes message get ignore share feeling theyre ignore dismiss im really sure point post anymore guess want vent get hope someone understands give tip end life try explain well could there way cant explain tire really hop someone else understands</td>\n",
              "    </tr>\n",
              "    <tr>\n",
              "      <th>467925</th>\n",
              "      <td>bipolar</td>\n",
              "      <td>[thought, id, share, positive, experience, discussing, diagnosis, boyfriend, yesterday, open, started, dating, bipolar, hadnt, talked, much, last, night, hesitantly, asked, questions, didnt, really, understand, many, moods, severity, depression, explained, best, could, experiences, explained, asked, honestly, terrified, would, scare, together, months, went, surprisingly, well, feel, like, closer, understands, struggles, little, bit, better, anyone, struggling, opening, around, know, lot, good, people, still, love, support, matter, successful, conversation]</td>\n",
              "      <td>[thought, id, share, positive, experience, discuss, diagnosis, boyfriend, yesterday, open, start, date, bipolar, hadnt, talk, much, last, night, hesitantly, ask, question, didnt, really, understand, many, mood, severity, depression, explain, best, could, experience, explain, ask, honestly, terrify, would, scare, together, month, go, surprisingly, well, feel, like, closer, understands, struggle, little, bit, well, anyone, struggle, opening, around, know, lot, good, people, still, love, support, matter, successful, conversation]</td>\n",
              "      <td>thought id share positive experience discuss diagnosis boyfriend yesterday open start date bipolar hadnt talk much last night hesitantly ask question didnt really understand many mood severity depression explain best could experience explain ask honestly terrify would scare together month go surprisingly well feel like closer understands struggle little bit well anyone struggle opening around know lot good people still love support matter successful conversation</td>\n",
              "    </tr>\n",
              "    <tr>\n",
              "      <th>164045</th>\n",
              "      <td>depression</td>\n",
              "      <td>[mean, maybe, sometimes, even, manage, somehow, gol, im, like, oh, happened, dont, feel, satisfaction, tomorrow, exam, looked, today, slides, spend, like, like, whatever, maybe, pass, dont, remember, anything, anything, meanhwile, people, major, probably, barely, alive, studying, hard, want, pass, like, champion, good, score, cant, focus, notes, anything, life, feels, pointless, dont, gols, life, im, living]</td>\n",
              "      <td>[mean, maybe, sometimes, even, manage, somehow, gol, im, like, oh, happen, dont, feel, satisfaction, tomorrow, exam, look, today, slide, spend, like, like, whatever, maybe, pas, dont, remember, anything, anything, meanhwile, people, major, probably, barely, alive, study, hard, want, pas, like, champion, good, score, cant, focus, note, anything, life, feel, pointless, dont, gols, life, im, living]</td>\n",
              "      <td>mean maybe sometimes even manage somehow gol im like oh happen dont feel satisfaction tomorrow exam look today slide spend like like whatever maybe pas dont remember anything anything meanhwile people major probably barely alive study hard want pas like champion good score cant focus note anything life feel pointless dont gols life im living</td>\n",
              "    </tr>\n",
              "    <tr>\n",
              "      <th>170492</th>\n",
              "      <td>depression</td>\n",
              "      <td>[never, hungry, never, truly, hungry, stomach, start, growling, skipped, eating, day, force, eat, mostly, meals, forced, way, never, enjoy, eat, kinda, wan, na, finish, soon, possible, done, eating, sounds, fucked, know, going, yr, old, male, good, shape, ive, dealing, depression, couple, years, keep, also, confuses, wrong, confused, time, really, need, read, peoples, opinions, thank, someone, please, help]</td>\n",
              "      <td>[never, hungry, never, truly, hungry, stomach, start, growl, skip, eat, day, force, eat, mostly, meal, force, way, never, enjoy, eat, kinda, wan, na, finish, soon, possible, do, eat, sound, fuck, know, go, yr, old, male, good, shape, ive, deal, depression, couple, year, keep, also, confuses, wrong, confuse, time, really, need, read, people, opinion, thank, someone, please, help]</td>\n",
              "      <td>never hungry never truly hungry stomach start growl skip eat day force eat mostly meal force way never enjoy eat kinda wan na finish soon possible do eat sound fuck know go yr old male good shape ive deal depression couple year keep also confuses wrong confuse time really need read people opinion thank someone please help</td>\n",
              "    </tr>\n",
              "  </tbody>\n",
              "</table>\n",
              "</div>"
            ],
            "text/plain": [
              "             label  ...                                                                                                                                                                                                                                                                                                                                                                                                                                                                                                                                                                                                                                                                                                                                                                                                                                                                                                                                                                                                                                                                                                                                                                                                                                                                                                                                                                                                                                                                                                                                                                                                                                                                                                                                                                                                                                                                                                                                                                                                                                                                                                                                                                                                                                                                                                                                                                                                                                tokens_back_to_text\n",
              "439663     bipolar  ...                                                                                                                                                                                                                                                                                                                                                                                                                                                                                                                                                                                                                                                                                                                                                                                                                                                                                                                                                                                                                                                                                                                                                                                                                                                                                                                                                                                                                                                                                                                                                                                                                                                                                                                                                                                                                                                                                                                 either really btchy mood mood everything fine couple year increase fixate house fixates self worth nice house move time last year time lament sell get mood everything horrible start blame everyone unhappiness never much threatens move u break marriage say multiple time also constantly yell yet sometimes fine love normal family worried puzzle help know thyroid wack take naturopathic pill morning never excercises except work nurse shift work fix would really appreciate think mom bipolar tear family apart advice\n",
              "268300  depression  ...                                                                                                                                                                                                                                                                                                                                                                                                                                                                                                                                                                                                                                                                                                                                                                                                                                                                                                                                                                                                                                                                                                                                                                                                                                                                                                                                                                                                                                                                                                                                                                                                                                                                                                                                                    graduate high school decide take year work bit end december decide move big city take act course really enjoy couple month decide look job stay little bit planning stay upon look get job immediately hat trigger something felt sad work quit shift thought would go away finish course move back home process look job pay university think depression get bad make fuck sad work job know hate make feel worthless unaccomplished want thing enjoy time school ca friend hardly talk anyone besides family want someone hang talk life fun thing together excite university second chance go make friend join club learn thing actually interested time till get finally accepted depressed\n",
              "245123  depression  ...                                                                                                                                                                                                                                                                                                                                                                                                                                                                                                                                                                                                                                                                                                                                                                                                                                                                                                                                                                                                                                                                                                                                                                                                                                                                                                                                                                                                                                                                                                                                                                                                                                                                                                                                                                                                                                                                                                                                                                                                                                                                                                                                                                                     basically wan na know people keep depression want people treat differently cause feel right want family friend anyone know cause want nicer feel walk eggshell around even look different like knew cause condition time wish knew feel people treat different\n",
              "70025      Anxiety  ...                                                                                                                                                                                                                                                                                                                                                                                                                                                                                                                                                                                                                                                                                                                                                                                                                                                                                                                                                                                                                                                                                                                                                                                                                                                                                                                                                                                                                                                                                                                                                                                                                                                                                                                                                                                                                                                                                                                                                                                                                                                                                                                                      hi woud like share experience college already struggle adhd hardly keep focus class today suppose study replacement test get really bad grade however get anxious start procastinating lose track time almost way cope anxiety work guy would love hear thought issue college assignment grade test cope much\n",
              "247191  depression  ...                                                                                                                                                                                                                                                                                                                                                                                                                                                                                                                                                                                                                                                                                                                                                                                                                                                                                                                                                                                                                                                                                                                                                                                                                                                                                                                                                                                                                                                                                                                                                                                                                                                                                                                           sort like ahhhhh stop lol please ahhhh little voice come like never gon na feel like normal like stop please dude start panic attack like like seriously wtf try go sleep instead get weird trance feel long like fuck lol take kind like ca tell go confuse animal kill something weird feel like dream something star wall puddle sweat fall asleep concern dream get really weird one get jump scar something like ahh fuck wake go back sleep keep dream get jerked awake yea know time wake go backyard sit sun min dare actually leave house month well psychiatrist appointment get evict mom house pretty much want enjoy outside feel like wall everywhere trap matter go anyone else stuck feel like microwave\n",
              "251979  depression  ...  clinically depressed year mental facility suicidal thought life right hardest ever tire people complain depressed become jealous life come find little real issue always physically verbally abuse grow obviously day dad would lay hand really affected way trust people love people thought let start happen right escort basically sell pay tutition bill help family yes work real job endure lot shit employer take advantage employee underpay use loophole work overtime insult well coworkers put nursing school absolutely help family always dirt poor grandparent give money away relative philippine sob story church generous people like show never ask anything dad stepmom uneducated child life becomes living hell could take abuse parent anymore give school want kill stop care parent become fed pretty much kick middle night care want die get picked kill whatever luck good samaritan insist drive home take biological grandparent house reason bring get kick parent house last year found old brother molest two young sister year turn left home guess thing fell apart without obviously problem brother two sister come go least year devastate disgust terrible family secret sister receives ongoing therapy thing difficult last year year old sister put dangerous position december met old guy believe rap become caught snapchat instagram asksara take easily compliment get boy men eventually ahe plan meet intention begin clear know go police case currently still ongoing victim well guy since life fuck hard obviously still hiding fuck way support family think work job still could continue hold job go nursing school sister act ever parent constantly get argument dad take anger year old brother couple week ago teacher call cps take away sibling lie little brother slightly autistic throw tantrum dad short temper parent argue front kid tell confuse mommy say love dad anymore broken post reddit month thought since thing would get easy life progressively become bad broken exhaust tire year old try keep family support help ca tell anyone anything need vent anyone tip cope young girl rap dysfunctional family would love advice tip talk help u year old constantly shuts u edit try family meeting help much act mediator time family parent sibling grandparent get along grandparent know sexual predator brother rape case sister cps case gossip much start hurt\n",
              "39881      Anxiety  ...                                                                                                                                                                                                                                                                                                                                         prepared slightest freak im sure belongs anxiety feel like large part dilemma consider implode right first post reddit ever ineptitude human lol sorry lenh panicked vent f attend college week ago blue guy approach step bus say something effect saw bus look like nice person want hang sometime flatter course say sure probably mention pretty comfortably asexual although idea feel romantic relationship nave little thought genuinely meant hang friend course morning day met first time paralyze anxiety hour could leave room hour late felt bad especially gotten location confuse come find met go well turn normal human mode conversation someone pretend incredibly anxious time melt later finally alone time guess charm enough want meet even though die inside today met little banter definitely make flirtatious hint scream internally want awkwardly change subject anything sort reciprocate change subject persistent though formally asks roundabout way want go steady moment like omg someone actually attract compute guess fry brain circuitry cause accept since would way awkward experience like say really nice want hang manage stall tomorrow night could time get thought sort kiss spark like people talk feel sexual attraction toward anything fact turn kiss gross reaaaally kiss hand neck ear neutral whole thing anyway manage ward panic say goodbye go class make back room drop guard realize anxious whole mess feel like lead something manage trick think ball anxiety depression idea meeting fill anxiety feel like unwarranted give chance since take eon get comfortable someone let go long never start feel attract comfortable idea romantic partnership doesnt repulse dont know sexual one social anxiety destroy right period anxiety depressive episode dont want person barely know see like let mask idea proceed advice would greatly appreciate thanks tl dr somehow convince guy functional human socially anxious turn proposal go steady im pretty sure im asexual anxiety relationship kill think accidentally get boyfriend today\n",
              "431691     bipolar  ...                                                                                                                                                                                                                                                                                                                                                                                                                                                                                                                                                                                                                                                                                                                                                                                                                                                                                                                                                                                                                                                                                                                                                                                                                                                                                                                                                                                                                                                                                                                                                                                                                                                                                                                                                                                                                                                                                                                                                                                                                                                                                                                                                                                                                   guy mild hypomania even hypomania long last sometimes wonder hypo last day sometimes consider normal time scrap bottom barrel life diagnose couple month know dsm v quote period longer experience wonder go long hypomania last\n",
              "147493  depression  ...                                                                                                                                                                                                                                                                                                                                                                                                                                                                                                                                                                                                                                                                  suppose answer easy u would wonder others do improve depression step even turn life around live somewhat normally good job family friend several year ago start work home job close office could work remotely isolation really take toll mental health also anxiety disorder true cause many issue let fear take control take chance opening others also go sexual abuse situation alcohol abuse many year ago take long time change understand process thing well full time job fianc together year gotten married anxiety fear people crowd however ring plan tie knot move new state soon new possibility move career ladder life actually seem like could lot less stressful future look forward honest realize depressed year hard look back understand sure candid without sound sorry agony much life hard whiny way isolated ruminative anxiety sort way skewed thought battle successfully therapy medication saddest part month perhaps year waste afraid anything besides write overanalyze opportunity change start anew heart want continue career industry tanked forge solid friendship even start family though time run worry mess somehow want pull year long rut actually happy long want feel kind happiness mostly content living day day existential dread fear death permeate whole experience sense even exist life actually felt year would die soon matter matter like light switch go see clearly waste away want make sense people want stay alive thing good break heart depression take even fundamental part human away regain hope start new path trauma depression sorry right sub ask figure even u unlucky people fight depression understand situation well provide advice since make far thanks reading change life around major depression\n",
              "157014  depression  ...                                                                                                                                                                                                                                                                                                                                                                                                                                                                                                                                                                                                                                                                                                                                                                                                                                                                                                                                                                                                                                                                                                                                                                                                                                                                                                                                                                                                                                                                                                                                                                                  find dwell past everything hate teacher treat student like shit never taught u anything sport coach never give anyone golden boy shot become successful sport time say something stupid say unkind thing people lot trouble remove person use often become enrage thought thing happen earlier life feel like could possibly benefit sort meditation exactly understand potential benefit may main goal clean closet need let thing go want clean start without insecurity hold back go bought new clothes give away old stuff shirt pair pant couple pair shoe want change everything move thought maybe even actually do want focus accept change clothing actually help kind unexpected go cut hair move new house hardest part though get rid shit head next list struggle find mean advice would appreciate thanks much benefit meditation yoga thai chi etc\n",
              "5798       Anxiety  ...                                                                                                                                                                                                                                                                                                                                                                                                                                                                                                                                                                                                                                                                                                                                                                                                                                                                                                                                                                                                                                                                                                                                                                                                                                                                                                                                                                                                                                                                                                                                                                                                                                                                                                                                                                                                                                                                                                                                                                                                                                                                                                                                                                    hi remember completely shock go extreme dizzy spell could leave house find cause anxiety since numerous physical symptom turn anxiety nothing nothing less curious see physical symptom people might make u feel less like die mysterious illness week physical symptom anxiety\n",
              "68937      Anxiety  ...                                                                                                                                                                                                                                                                                                                                                                                                                                                                                                                                                                                                                                                                                                                                                                                                                                                                                                                                                                                                                                                                                                                                                                                                                                                                                                                                                                                                                                                                                                                                                                                                                                                                                                                                                                                                                                                                                                                                                                                                                                                                                                                                                                                                                                                       im currently work job generally low stress still find quite bit anxiety mistake arent really tolerate find everyday roller coaster anyone anxiety job doesnt make anxious anxiety reduce job\n",
              "59691      Anxiety  ...                                                                                                                                                                                                                                                                                                                                                                                                                                                                                                                                                                                                                                                                                                                                                                                                                                                                                                                                                                                                                                                                                                                                                                                                                                                                                                                                                                                                                                                                                                                                                                                                                                                                                                     hello take cipralex week anxiety think ocd suffer repetitive intrusive thought mainly sleep well cry less feel apathetic usually empathetic sensitive person feel like also hard get happy excite thing would usually get happy enjoy fact sleep hour day know worth since feel like zombie addition medication start exercise yoga sauna meditation journaling therapy know medication take week kick sure patient maybe try start weening medication anything could combat apathetic feeling one thing write thing grateful everyday sometimes feel hopeless matter nothing help also think maybe take time everything start work hope case p supportive people life feel even guiltier apathetic feeling thought general take cipralex week\n",
              "283374  depression  ...                                                                                                                                                                                                                                                                                                                                                                                                                                                                                                                                                                                                                                                                                                                                                                                                                                                                                                                                                                                                                                                                                                                                                                                                                                                                                                                                                                                                                                                                       year deal certain kind depression kind make feel far away feeling thought make feel like stranger yive try see therapist root problem still lie fact detach alienate feeling opening anyone capacity chore rather catharsis parent long remember told periodically checked never felt comfortable opening even though love supportive parent attempt almost always met misdirect anger annoyance idea act way towards always rarely give cause outburst outlet talk therapy never able find sort situation able open believe want able feel emotion deeply able pinpoint literally incapable day day emotion consist generally numb feel towards everything whether something happy graduation new job acceptation bad relationship trouble family issue however time time find little feeling major event life frustrate beyond belief hope people experienced conquer sort battle may outlook suggestion approach situation thank everyone take time read emotionally numb\n",
              "25788      Anxiety  ...                                                                                                                                                                                                                                                                                                                                                                                                                                                                                                                                                                                                                                                                                                                                                                                                                                                                                                                                                                                                                                                                                                                                                                                                                                                                                                                                                                                                                                                                                                                                                                                                                                                                                                                                                                                                                                                                                                                                                                                                                                                                                                                                                                                                          since yesterday ive feel awful im anxious something soon go happen dad dont know im worried come nowhere im pmsing right im emotional still cant stop think somethings go happen anyone help suddenly anxious something bad go happen dad\n",
              "142137  depression  ...                                                                                                                                                                                                                                                                                                                                                                                                                                                                                                                                                                                                                                                                                                                                                                                                                                                                                                                                                                                                                                                                                                                                                                                                                                                                                                                                                                                                                                                                                                                                                                                                                                                                                                                                                                                                                                                                                                                                                                                                                                                                                                                       people get diagnose mental disorder step step sort mental health professional diagnosis get therapy medication go gp one go cold prescribe algocalmin right reffered either psychiatrist therapist get help get diagnose regular cbt therapist even allow diagnose mental disorder cbt similar tf diagnose question get help\n",
              "210828  depression  ...                                                                                                                                                                                                                                                                                                                                                                                                                                                                                                                                                                                                                                                                                                                                                                                                                                                                                                                                                                                                                                                                                                                                                            im really good communicate feeling ill try ive never specialist ive depressed since currently least think depression dont know another mental disorder mood issue ive never specialist type therapist really dont know whats wrong day great day im rock bottom lately sky high day extreme low closer night time throughout night cant sleep kinda like tonight amaze day soon lock room start feel weight emotion feel heavy last year baker act attempt suicide around time last year go far cut tonight havent since laid bed start cry felt guilty idk feel guilty didnt end guilty bc promise wouldnt hard explain emotion rarely talk thought always mind try speak loud doesnt come right cant explain theyre align mind try speak fuckery word feel worthless time feel like everyone around pretend like use feel unappreciated time im always friendly people im respectful never know something im wrong everyone else dont feel connect anyone dont feel like fit anywhere never hear friend unless message first sometimes message get ignore share feeling theyre ignore dismiss im really sure point post anymore guess want vent get hope someone understands give tip end life try explain well could there way cant explain tire really hop someone else understands\n",
              "467925     bipolar  ...                                                                                                                                                                                                                                                                                                                                                                                                                                                                                                                                                                                                                                                                                                                                                                                                                                                                                                                                                                                                                                                                                                                                                                                                                                                                                                                                                                                                                                                                                                                                                                                                                                                                                                                                                                                                                                                                                                                                                                 thought id share positive experience discuss diagnosis boyfriend yesterday open start date bipolar hadnt talk much last night hesitantly ask question didnt really understand many mood severity depression explain best could experience explain ask honestly terrify would scare together month go surprisingly well feel like closer understands struggle little bit well anyone struggle opening around know lot good people still love support matter successful conversation\n",
              "164045  depression  ...                                                                                                                                                                                                                                                                                                                                                                                                                                                                                                                                                                                                                                                                                                                                                                                                                                                                                                                                                                                                                                                                                                                                                                                                                                                                                                                                                                                                                                                                                                                                                                                                                                                                                                                                                                                                                                                                                                                                                                                                                                                                                            mean maybe sometimes even manage somehow gol im like oh happen dont feel satisfaction tomorrow exam look today slide spend like like whatever maybe pas dont remember anything anything meanhwile people major probably barely alive study hard want pas like champion good score cant focus note anything life feel pointless dont gols life im living\n",
              "170492  depression  ...                                                                                                                                                                                                                                                                                                                                                                                                                                                                                                                                                                                                                                                                                                                                                                                                                                                                                                                                                                                                                                                                                                                                                                                                                                                                                                                                                                                                                                                                                                                                                                                                                                                                                                                                                                                                                                                                                                                                                                                                                                                                                                                never hungry never truly hungry stomach start growl skip eat day force eat mostly meal force way never enjoy eat kinda wan na finish soon possible do eat sound fuck know go yr old male good shape ive deal depression couple year keep also confuses wrong confuse time really need read people opinion thank someone please help\n",
              "\n",
              "[20 rows x 4 columns]"
            ]
          },
          "metadata": {},
          "execution_count": 15
        }
      ]
    },
    {
      "cell_type": "code",
      "metadata": {
        "id": "fgFU9JVbpkbo"
      },
      "source": [
        ""
      ],
      "execution_count": null,
      "outputs": []
    }
  ]
}