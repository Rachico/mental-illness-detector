{
  "nbformat": 4,
  "nbformat_minor": 0,
  "metadata": {
    "colab": {
      "name": "depression_vs_non_depression_detection",
      "provenance": [],
      "collapsed_sections": []
    },
    "kernelspec": {
      "name": "python3",
      "display_name": "Python 3"
    },
    "language_info": {
      "name": "python"
    }
  },
  "cells": [
    {
      "cell_type": "code",
      "metadata": {
        "id": "H0nOKFsQXRfU"
      },
      "source": [
        "import numpy as np\n",
        "import pandas as pd\n",
        "import tensorflow as tf\n",
        "from sklearn.model_selection import train_test_split\n",
        "from keras.models import Sequential\n",
        "from keras.layers import Dense\n",
        "from keras.layers.convolutional import Conv1D\n",
        "from keras.layers.convolutional import MaxPooling1D\n",
        "from keras.layers.embeddings import Embedding\n",
        "from keras.layers import Flatten\n",
        "\n",
        "from keras.preprocessing.text import Tokenizer\n",
        "from keras.preprocessing.sequence import pad_sequences\n",
        "\n",
        "import matplotlib.pyplot as plt\n",
        "import seaborn as sb\n",
        "from sklearn.metrics import confusion_matrix\n",
        "from sklearn.metrics import classification_report\n",
        "from sklearn.metrics import plot_confusion_matrix\n",
        "\n",
        "from keras.constraints import maxnorm\n",
        "from keras.layers import Dropout\n",
        "from tensorflow.keras.utils import plot_model\n",
        "import time\n",
        "import warnings\n",
        "warnings.filterwarnings(\"ignore\")"
      ],
      "execution_count": null,
      "outputs": []
    },
    {
      "cell_type": "code",
      "metadata": {
        "id": "465blQZ_X718"
      },
      "source": [
        "path = '/content/drive/MyDrive/final_tidy_reddits_lemmetized.json'\n",
        "df = pd.read_json(path, orient='table')"
      ],
      "execution_count": null,
      "outputs": []
    },
    {
      "cell_type": "code",
      "metadata": {
        "colab": {
          "base_uri": "https://localhost:8080/"
        },
        "id": "VxnpFu0mpFDY",
        "outputId": "68c7c11e-9a46-4256-b4f3-109a8ee5bccf"
      },
      "source": [
        "df.shape"
      ],
      "execution_count": null,
      "outputs": [
        {
          "output_type": "execute_result",
          "data": {
            "text/plain": [
              "(301746, 4)"
            ]
          },
          "metadata": {},
          "execution_count": 3
        }
      ]
    },
    {
      "cell_type": "code",
      "metadata": {
        "id": "mT3B6wV9CrIb"
      },
      "source": [
        "pd.options.display.max_colwidth = None\n",
        "pd.options.display.max_rows = None"
      ],
      "execution_count": null,
      "outputs": []
    },
    {
      "cell_type": "code",
      "metadata": {
        "colab": {
          "base_uri": "https://localhost:8080/",
          "height": 1000
        },
        "id": "fg0u1SJ4rIul",
        "outputId": "9dad3fb3-d55d-4547-efa1-5009619e520f"
      },
      "source": [
        "df.sample(7)"
      ],
      "execution_count": null,
      "outputs": [
        {
          "output_type": "execute_result",
          "data": {
            "text/html": [
              "<div>\n",
              "<style scoped>\n",
              "    .dataframe tbody tr th:only-of-type {\n",
              "        vertical-align: middle;\n",
              "    }\n",
              "\n",
              "    .dataframe tbody tr th {\n",
              "        vertical-align: top;\n",
              "    }\n",
              "\n",
              "    .dataframe thead th {\n",
              "        text-align: right;\n",
              "    }\n",
              "</style>\n",
              "<table border=\"1\" class=\"dataframe\">\n",
              "  <thead>\n",
              "    <tr style=\"text-align: right;\">\n",
              "      <th></th>\n",
              "      <th>label</th>\n",
              "      <th>text</th>\n",
              "      <th>lemmatized</th>\n",
              "      <th>tokens_back_to_text</th>\n",
              "    </tr>\n",
              "  </thead>\n",
              "  <tbody>\n",
              "    <tr>\n",
              "      <th>129582</th>\n",
              "      <td>depression</td>\n",
              "      <td>[hi, guys, maybe, help, think, depressed, life, never, thought, depression, cause, always, thought, feelings, normal, pretty, sure, used, cry, every, single, day, every, little, thing, would, make, cry, fourth, grade, still, know, like, extremely, sensitive, never, cared, school, made, never, homework, pretty, much, life, care, could, drive, social, anxiety, think, started, parents, telling, useless, would, never, amount, anything, never, thought, suicide, always, negative, thoughts, everything, never, remember, ever, happy, im, kind, still, like, except, way, less, severe, anyone, experienced, things, thank, advance, think, depressed, since, child]</td>\n",
              "      <td>[hi, guy, maybe, help, think, depressed, life, never, thought, depression, cause, always, thought, feeling, normal, pretty, sure, use, cry, every, single, day, every, little, thing, would, make, cry, fourth, grade, still, know, like, extremely, sensitive, never, care, school, make, never, homework, pretty, much, life, care, could, drive, social, anxiety, think, start, parent, tell, useless, would, never, amount, anything, never, thought, suicide, always, negative, thought, everything, never, remember, ever, happy, im, kind, still, like, except, way, less, severe, anyone, experienced, thing, thank, advance, think, depressed, since, child]</td>\n",
              "      <td>hi guy maybe help think depressed life never thought depression cause always thought feeling normal pretty sure use cry every single day every little thing would make cry fourth grade still know like extremely sensitive never care school make never homework pretty much life care could drive social anxiety think start parent tell useless would never amount anything never thought suicide always negative thought everything never remember ever happy im kind still like except way less severe anyone experienced thing thank advance think depressed since child</td>\n",
              "    </tr>\n",
              "    <tr>\n",
              "      <th>199105</th>\n",
              "      <td>depression</td>\n",
              "      <td>[miserable, life, envy, people, lives]</td>\n",
              "      <td>[miserable, life, envy, people, life]</td>\n",
              "      <td>miserable life envy people life</td>\n",
              "    </tr>\n",
              "    <tr>\n",
              "      <th>299657</th>\n",
              "      <td>depression</td>\n",
              "      <td>[people, may, see, perfectly, normal, person, see, deformed, monster, see, matter, wear, body, fear, smell, im, hideous, expect, people, run, ive, treated, like, freak, nature, vultures, picked, away, flaws, im, disgusted, entirety, body, im, sure, society, become, critical, peoples, appearances, im, treated, like, never, made, cut, demons, treating, apart, anymore, years, self, confident, ive, made, feel, worthless, unlovable, unattractive, years, finding, difficult, function, society, im, constantly, shot, treat, like, im, shadow, ive, finally, fallen, rock, bottom, blazing, molten, core, get, home, everyday, scream, mirror, sit, silence, pass, exhaustion, repeat, day, going, long, im, longer, alive, im, zombie, shuffling, way, distorted, ...]</td>\n",
              "      <td>[people, may, see, perfectly, normal, person, see, deform, monster, see, matter, wear, body, fear, smell, im, hideous, expect, people, run, ive, treat, like, freak, nature, vulture, picked, away, flaw, im, disgust, entirety, body, im, sure, society, become, critical, people, appearance, im, treat, like, never, make, cut, demon, treat, apart, anymore, year, self, confident, ive, make, feel, worthless, unlovable, unattractive, year, find, difficult, function, society, im, constantly, shot, treat, like, im, shadow, ive, finally, fall, rock, bottom, blazing, molten, core, get, home, everyday, scream, mirror, sit, silence, pas, exhaustion, repeat, day, go, long, im, longer, alive, im, zombie, shuffle, way, distort, ...]</td>\n",
              "      <td>people may see perfectly normal person see deform monster see matter wear body fear smell im hideous expect people run ive treat like freak nature vulture picked away flaw im disgust entirety body im sure society become critical people appearance im treat like never make cut demon treat apart anymore year self confident ive make feel worthless unlovable unattractive year find difficult function society im constantly shot treat like im shadow ive finally fall rock bottom blazing molten core get home everyday scream mirror sit silence pas exhaustion repeat day go long im longer alive im zombie shuffle way distort reality birthday week dont want see time finally slip void finally time let go</td>\n",
              "    </tr>\n",
              "    <tr>\n",
              "      <th>462176</th>\n",
              "      <td>bipolar</td>\n",
              "      <td>[im, single, years, certain, point, life, dont, relationship, nothing, else, matters, almost, reached, point, realize, want, find, one, continue, working, work, find, better, job, prospects, constantly, improving, seems, moot, hard, go, unloved, dramatic, im, feeling, many, memes, subreddit, doesnt, really, feel, genuine, lonely]</td>\n",
              "      <td>[im, single, year, certain, point, life, dont, relationship, nothing, else, matter, almost, reach, point, realize, want, find, one, continue, work, work, find, well, job, prospect, constantly, improve, seem, moot, hard, go, unloved, dramatic, im, feel, many, meme, subreddit, doesnt, really, feel, genuine, lonely]</td>\n",
              "      <td>im single year certain point life dont relationship nothing else matter almost reach point realize want find one continue work work find well job prospect constantly improve seem moot hard go unloved dramatic im feel many meme subreddit doesnt really feel genuine lonely</td>\n",
              "    </tr>\n",
              "    <tr>\n",
              "      <th>196476</th>\n",
              "      <td>depression</td>\n",
              "      <td>[online, relationship, love, life, problem, able, tell, upset, want, go, numb, upsets, talk, asks, want, never, say, going, upset, met, world, warcraft, play, tons, games, together, lot, fun, miss, family, though, ocd, makes, even, harder, tell, want, family, feel, like, upset, wanted, alone, would, ruin, know, could, right, hard, short, ca, tell, people, really, feel, due, scared, upset, slightest, ways, new, could, use, advice]</td>\n",
              "      <td>[online, relationship, love, life, problem, able, tell, upset, want, go, numb, upset, talk, asks, want, never, say, go, upset, met, world, warcraft, play, ton, game, together, lot, fun, miss, family, though, ocd, make, even, harder, tell, want, family, feel, like, upset, want, alone, would, ruin, know, could, right, hard, short, ca, tell, people, really, feel, due, scar, upset, slightest, way, new, could, use, advice]</td>\n",
              "      <td>online relationship love life problem able tell upset want go numb upset talk asks want never say go upset met world warcraft play ton game together lot fun miss family though ocd make even harder tell want family feel like upset want alone would ruin know could right hard short ca tell people really feel due scar upset slightest way new could use advice</td>\n",
              "    </tr>\n",
              "    <tr>\n",
              "      <th>125810</th>\n",
              "      <td>depression</td>\n",
              "      <td>[even, sure, counts, depression, year, old, girl, struggled, moderate, anxiety, early, years, old, last, year, still, struggle, much, since, anxiety, subsided, inconsistent, bouts, depression, tiniest, things, trigger, depression, extremely, intense, comes, along, depression, get, extremely, angry, lash, isolate, tend, issues, socially, periods, really, feeling, constant, tiredness, get, tired, easily, wake, start, day, feel, need, go, back, bed, within, hours, feel, destructive, towards, others, think, heavily, suicide, breakdowns, screaming, crying, hair, pulling, kind, make, feel, like, dying, last, days, week, two, never, amount, time, get, happy, periods, thing, happy, periods, really, sure, actually, happy, get, guilty, happy, feel, weird, usually, manifests, ...]</td>\n",
              "      <td>[even, sure, count, depression, year, old, girl, struggle, moderate, anxiety, early, year, old, last, year, still, struggle, much, since, anxiety, subside, inconsistent, bout, depression, tiniest, thing, trigger, depression, extremely, intense, come, along, depression, get, extremely, angry, lash, isolate, tend, issue, socially, period, really, feel, constant, tiredness, get, tire, easily, wake, start, day, feel, need, go, back, bed, within, hour, feel, destructive, towards, others, think, heavily, suicide, breakdown, scream, cry, hair, pull, kind, make, feel, like, die, last, day, week, two, never, amount, time, get, happy, period, thing, happy, period, really, sure, actually, happy, get, guilty, happy, feel, weird, usually, manifest, ...]</td>\n",
              "      <td>even sure count depression year old girl struggle moderate anxiety early year old last year still struggle much since anxiety subside inconsistent bout depression tiniest thing trigger depression extremely intense come along depression get extremely angry lash isolate tend issue socially period really feel constant tiredness get tire easily wake start day feel need go back bed within hour feel destructive towards others think heavily suicide breakdown scream cry hair pull kind make feel like die last day week two never amount time get happy period thing happy period really sure actually happy get guilty happy feel weird usually manifest heavy feel chest stomach usually suicidal period social skill come back able enjoy thing feel muffle make sense overall issue motivation also tend punish hit head make sound crazy idk prescribed low dose lexapro question really need maybe unfortunate weird emotion fact depression inconsistent make feel like fake something talk brother suffers severe depression thought sound like numbness rather happiness fact able function enjoy thing slightly make feel otherwise stress tremendously make anxious inconsistent depression</td>\n",
              "    </tr>\n",
              "    <tr>\n",
              "      <th>210993</th>\n",
              "      <td>depression</td>\n",
              "      <td>[suffer, depression, tried, many, potential, solutions, medication, geographical, solutions, changing, locations, traveling, new, jobs, failure, presently, luckily, purely, liquid, assets, cash, stocks, options, etfs, bitcoin, etc, home, anything, value, debt, years, work, experience, engineering, industry, canadian, open, ideas, spend, money, general, maximum, potential, hopefully, one, day, get, depressive, state, would, presently, plan, travel, planet, money, runs, leave, planet, entirely, serious, would, depression]</td>\n",
              "      <td>[suffer, depression, try, many, potential, solution, medication, geographical, solution, change, location, travel, new, job, failure, presently, luckily, purely, liquid, asset, cash, stock, option, etf, bitcoin, etc, home, anything, value, debt, year, work, experience, engineering, industry, canadian, open, idea, spend, money, general, maximum, potential, hopefully, one, day, get, depressive, state, would, presently, plan, travel, planet, money, run, leave, planet, entirely, serious, would, depression]</td>\n",
              "      <td>suffer depression try many potential solution medication geographical solution change location travel new job failure presently luckily purely liquid asset cash stock option etf bitcoin etc home anything value debt year work experience engineering industry canadian open idea spend money general maximum potential hopefully one day get depressive state would presently plan travel planet money run leave planet entirely serious would depression</td>\n",
              "    </tr>\n",
              "  </tbody>\n",
              "</table>\n",
              "</div>"
            ],
            "text/plain": [
              "             label  ...                                                                                                                                                                                                                                                                                                                                                                                                                                                                                                                                                                                                                                                                                                                                                                                                                                                                                                                                                                                                                                                                                                                                                                                                tokens_back_to_text\n",
              "129582  depression  ...                                                                                                                                                                                                                                                                                                                                                                                                                                                                                                                                                                                                                                     hi guy maybe help think depressed life never thought depression cause always thought feeling normal pretty sure use cry every single day every little thing would make cry fourth grade still know like extremely sensitive never care school make never homework pretty much life care could drive social anxiety think start parent tell useless would never amount anything never thought suicide always negative thought everything never remember ever happy im kind still like except way less severe anyone experienced thing thank advance think depressed since child\n",
              "199105  depression  ...                                                                                                                                                                                                                                                                                                                                                                                                                                                                                                                                                                                                                                                                                                                                                                                                                                                                                                                                                                                                                                                                                                                                                                                    miserable life envy people life\n",
              "299657  depression  ...                                                                                                                                                                                                                                                                                                                                                                                                                                                                                          people may see perfectly normal person see deform monster see matter wear body fear smell im hideous expect people run ive treat like freak nature vulture picked away flaw im disgust entirety body im sure society become critical people appearance im treat like never make cut demon treat apart anymore year self confident ive make feel worthless unlovable unattractive year find difficult function society im constantly shot treat like im shadow ive finally fall rock bottom blazing molten core get home everyday scream mirror sit silence pas exhaustion repeat day go long im longer alive im zombie shuffle way distort reality birthday week dont want see time finally slip void finally time let go\n",
              "462176     bipolar  ...                                                                                                                                                                                                                                                                                                                                                                                                                                                                                                                                                                                                                                                                                                                                                                                                                                                                                                                                     im single year certain point life dont relationship nothing else matter almost reach point realize want find one continue work work find well job prospect constantly improve seem moot hard go unloved dramatic im feel many meme subreddit doesnt really feel genuine lonely\n",
              "196476  depression  ...                                                                                                                                                                                                                                                                                                                                                                                                                                                                                                                                                                                                                                                                                                                                                                                                                                               online relationship love life problem able tell upset want go numb upset talk asks want never say go upset met world warcraft play ton game together lot fun miss family though ocd make even harder tell want family feel like upset want alone would ruin know could right hard short ca tell people really feel due scar upset slightest way new could use advice\n",
              "125810  depression  ...  even sure count depression year old girl struggle moderate anxiety early year old last year still struggle much since anxiety subside inconsistent bout depression tiniest thing trigger depression extremely intense come along depression get extremely angry lash isolate tend issue socially period really feel constant tiredness get tire easily wake start day feel need go back bed within hour feel destructive towards others think heavily suicide breakdown scream cry hair pull kind make feel like die last day week two never amount time get happy period thing happy period really sure actually happy get guilty happy feel weird usually manifest heavy feel chest stomach usually suicidal period social skill come back able enjoy thing feel muffle make sense overall issue motivation also tend punish hit head make sound crazy idk prescribed low dose lexapro question really need maybe unfortunate weird emotion fact depression inconsistent make feel like fake something talk brother suffers severe depression thought sound like numbness rather happiness fact able function enjoy thing slightly make feel otherwise stress tremendously make anxious inconsistent depression\n",
              "210993  depression  ...                                                                                                                                                                                                                                                                                                                                                                                                                                                                                                                                                                                                                                                                                                                                                       suffer depression try many potential solution medication geographical solution change location travel new job failure presently luckily purely liquid asset cash stock option etf bitcoin etc home anything value debt year work experience engineering industry canadian open idea spend money general maximum potential hopefully one day get depressive state would presently plan travel planet money run leave planet entirely serious would depression\n",
              "\n",
              "[7 rows x 4 columns]"
            ]
          },
          "metadata": {},
          "execution_count": 5
        }
      ]
    },
    {
      "cell_type": "code",
      "metadata": {
        "colab": {
          "base_uri": "https://localhost:8080/"
        },
        "id": "nDdzvsHcMTMl",
        "outputId": "6bc4e9f3-afd6-47d6-80c2-914a36218602"
      },
      "source": [
        "df.isna().sum()"
      ],
      "execution_count": null,
      "outputs": [
        {
          "output_type": "execute_result",
          "data": {
            "text/plain": [
              "label                  0\n",
              "text                   0\n",
              "lemmatized             0\n",
              "tokens_back_to_text    0\n",
              "dtype: int64"
            ]
          },
          "metadata": {},
          "execution_count": 6
        }
      ]
    },
    {
      "cell_type": "code",
      "metadata": {
        "colab": {
          "base_uri": "https://localhost:8080/"
        },
        "id": "0MsfZsxGZZsr",
        "outputId": "e8011709-53ec-4621-9d32-2612c08118e2"
      },
      "source": [
        "reddits = list(df['tokens_back_to_text'])\n",
        "type(reddits)"
      ],
      "execution_count": null,
      "outputs": [
        {
          "output_type": "execute_result",
          "data": {
            "text/plain": [
              "list"
            ]
          },
          "metadata": {},
          "execution_count": 7
        }
      ]
    },
    {
      "cell_type": "code",
      "metadata": {
        "colab": {
          "base_uri": "https://localhost:8080/"
        },
        "id": "orF09VH4Zg9Y",
        "outputId": "9e286102-0b31-44c4-d051-6fe6645da122"
      },
      "source": [
        "len(reddits)"
      ],
      "execution_count": null,
      "outputs": [
        {
          "output_type": "execute_result",
          "data": {
            "text/plain": [
              "301746"
            ]
          },
          "metadata": {},
          "execution_count": 8
        }
      ]
    },
    {
      "cell_type": "code",
      "metadata": {
        "colab": {
          "base_uri": "https://localhost:8080/"
        },
        "id": "vpwv6by5n27I",
        "outputId": "0d3887e3-3fb8-4175-b4a6-8970031807f0"
      },
      "source": [
        "df['label'].value_counts()"
      ],
      "execution_count": null,
      "outputs": [
        {
          "output_type": "execute_result",
          "data": {
            "text/plain": [
              "depression    178453\n",
              "Anxiety        84001\n",
              "bipolar        39292\n",
              "Name: label, dtype: int64"
            ]
          },
          "metadata": {},
          "execution_count": 9
        }
      ]
    },
    {
      "cell_type": "code",
      "metadata": {
        "id": "yO9yxGL5FIop"
      },
      "source": [
        "df['label'] = np.where(df['label']=='depression',1,0)"
      ],
      "execution_count": null,
      "outputs": []
    },
    {
      "cell_type": "code",
      "metadata": {
        "colab": {
          "base_uri": "https://localhost:8080/",
          "height": 890
        },
        "id": "k_xvvIBwn57v",
        "outputId": "1a2447eb-714a-4036-e971-a33c93ad15b5"
      },
      "source": [
        "df.head(3)"
      ],
      "execution_count": null,
      "outputs": [
        {
          "output_type": "execute_result",
          "data": {
            "text/html": [
              "<div>\n",
              "<style scoped>\n",
              "    .dataframe tbody tr th:only-of-type {\n",
              "        vertical-align: middle;\n",
              "    }\n",
              "\n",
              "    .dataframe tbody tr th {\n",
              "        vertical-align: top;\n",
              "    }\n",
              "\n",
              "    .dataframe thead th {\n",
              "        text-align: right;\n",
              "    }\n",
              "</style>\n",
              "<table border=\"1\" class=\"dataframe\">\n",
              "  <thead>\n",
              "    <tr style=\"text-align: right;\">\n",
              "      <th></th>\n",
              "      <th>label</th>\n",
              "      <th>text</th>\n",
              "      <th>lemmatized</th>\n",
              "      <th>tokens_back_to_text</th>\n",
              "    </tr>\n",
              "  </thead>\n",
              "  <tbody>\n",
              "    <tr>\n",
              "      <th>0</th>\n",
              "      <td>0</td>\n",
              "      <td>[struggled, social, anxiety, childhood, main, advice, friends, books, professionals, expose, environments, better, example, get, anxious, every, single, time, go, shop, even, though, shopping, weekly, since, get, nervous, sweaty, heart, pounding, every, time, go, gym, yet, working, gym, years, exposure, worked, anyone, else, exposure, work]</td>\n",
              "      <td>[struggle, social, anxiety, childhood, main, advice, friend, book, professional, expose, environment, well, example, get, anxious, every, single, time, go, shop, even, though, shopping, weekly, since, get, nervous, sweaty, heart, pound, every, time, go, gym, yet, work, gym, year, exposure, work, anyone, else, exposure, work]</td>\n",
              "      <td>struggle social anxiety childhood main advice friend book professional expose environment well example get anxious every single time go shop even though shopping weekly since get nervous sweaty heart pound every time go gym yet work gym year exposure work anyone else exposure work</td>\n",
              "    </tr>\n",
              "    <tr>\n",
              "      <th>1</th>\n",
              "      <td>0</td>\n",
              "      <td>[back, march, know, ago, woke, day, go, school, feeling, kind, felt, depressed, really, feel, like, getting, even, seeing, anyone, history, p, really, mainly, happens, winter, time, get, highly, anxious, also, going, anywhere, periods, time, get, suspicious, paranoid, everyone, anything, usually, end, isolating, room, eat, way, less, also, get, highly, irritable, emotional, like, one, time, mom, sent, store, milk, started, crying, store, thought, going, killed, watched, believe, periods, government, something, higher, power, gerbil, studies, something, like, thought, news, real, used, put, fear, people, also, sort, figures, imagination, trying, manipulate, usually, happens, anywhere, day, weekish, also, insomniac, means, anything, p, anyways, yes, ...]</td>\n",
              "      <td>[back, march, know, ago, woke, day, go, school, feel, kind, felt, depressed, really, feel, like, get, even, see, anyone, history, p, really, mainly, happens, winter, time, get, highly, anxious, also, go, anywhere, period, time, get, suspicious, paranoid, everyone, anything, usually, end, isolate, room, eat, way, less, also, get, highly, irritable, emotional, like, one, time, mom, sent, store, milk, start, cry, store, thought, go, kill, watch, believe, period, government, something, high, power, gerbil, study, something, like, thought, news, real, use, put, fear, people, also, sort, figure, imagination, try, manipulate, usually, happens, anywhere, day, weekish, also, insomniac, mean, anything, p, anyways, yes, ...]</td>\n",
              "      <td>back march know ago woke day go school feel kind felt depressed really feel like get even see anyone history p really mainly happens winter time get highly anxious also go anywhere period time get suspicious paranoid everyone anything usually end isolate room eat way less also get highly irritable emotional like one time mom sent store milk start cry store thought go kill watch believe period government something high power gerbil study something like thought news real use put fear people also sort figure imagination try manipulate usually happens anywhere day weekish also insomniac mean anything p anyways yes thats background sit class feel highly anxious everything everyone guess get break point math class second block talk friend remember lot bit blurry happen explain real knew everything figure plan subject everything told thing life matter go die might die right extremely loud talk confuse unaware behaving teacher sat back class like nothing happen kid kind confuse kind explain understand alive point die one remember u really odd recap event suicidal really character end skip rest afternoon day friend request go home sleep bit talk friend happen tell scar go kill confuse despite talk loud much emotion besides try talk parent talk mom feeling nothing real say kid feel like time discus amongst friend ca relate couple month later mom take family doctor ask question kept say everyone felt really awkward find insomniac try go doctor grandma month two ask say felt paranoid sometimes call crazy ask eczema instead say talk know awkward go doctor discus really start affect personal school life thing happen never point school affect go store know sorry wall text start happen maybe year ago year first start year old advice appreciate panic attack derealization ca go doctor advice appreciate</td>\n",
              "    </tr>\n",
              "    <tr>\n",
              "      <th>2</th>\n",
              "      <td>0</td>\n",
              "      <td>[withdrawing, medicines, lately, effexor, zyprexa, cymbalta, time, mind, close, together, withdraw, thursday, major, panic, attack, bad, needed, take, extra, kolonopin, skip, work, friday, lasted, shaky, felt, sick, rest, night, saturday, quite, two, full, days, panic, attack, started, still, feel, like, describe, chihuahua, like, much, caffeine, except, small, amount, chocolate, yesterday, feels, like, edge, panic, attack, since, initial, one, sure, long, panic, attack, last]</td>\n",
              "      <td>[withdraw, medicine, lately, effexor, zyprexa, cymbalta, time, mind, close, together, withdraw, thursday, major, panic, attack, bad, need, take, extra, kolonopin, skip, work, friday, last, shaky, felt, sick, rest, night, saturday, quite, two, full, day, panic, attack, start, still, feel, like, describe, chihuahua, like, much, caffeine, except, small, amount, chocolate, yesterday, feel, like, edge, panic, attack, since, initial, one, sure, long, panic, attack, last]</td>\n",
              "      <td>withdraw medicine lately effexor zyprexa cymbalta time mind close together withdraw thursday major panic attack bad need take extra kolonopin skip work friday last shaky felt sick rest night saturday quite two full day panic attack start still feel like describe chihuahua like much caffeine except small amount chocolate yesterday feel like edge panic attack since initial one sure long panic attack last</td>\n",
              "    </tr>\n",
              "  </tbody>\n",
              "</table>\n",
              "</div>"
            ],
            "text/plain": [
              "   label  ...                                                                                                                                                                                                                                                                                                                                                                                                                                                                                                                                                                                                                                                                                                                                                                                                                                                                                                                                                                                                                                                                                                                                                                                                                                                                                                                                                                                                                                                                                                                                                                                                                                                                                                                                                                                                                                                                      tokens_back_to_text\n",
              "0      0  ...                                                                                                                                                                                                                                                                                                                                                                                                                                                                                                                                                                                                                                                                                                                                                                                                                                                                                                                                                                                                                                                                                                                                                                                                                                                                                                                                                                                                                                                                                                                                                                                                struggle social anxiety childhood main advice friend book professional expose environment well example get anxious every single time go shop even though shopping weekly since get nervous sweaty heart pound every time go gym yet work gym year exposure work anyone else exposure work\n",
              "1      0  ...  back march know ago woke day go school feel kind felt depressed really feel like get even see anyone history p really mainly happens winter time get highly anxious also go anywhere period time get suspicious paranoid everyone anything usually end isolate room eat way less also get highly irritable emotional like one time mom sent store milk start cry store thought go kill watch believe period government something high power gerbil study something like thought news real use put fear people also sort figure imagination try manipulate usually happens anywhere day weekish also insomniac mean anything p anyways yes thats background sit class feel highly anxious everything everyone guess get break point math class second block talk friend remember lot bit blurry happen explain real knew everything figure plan subject everything told thing life matter go die might die right extremely loud talk confuse unaware behaving teacher sat back class like nothing happen kid kind confuse kind explain understand alive point die one remember u really odd recap event suicidal really character end skip rest afternoon day friend request go home sleep bit talk friend happen tell scar go kill confuse despite talk loud much emotion besides try talk parent talk mom feeling nothing real say kid feel like time discus amongst friend ca relate couple month later mom take family doctor ask question kept say everyone felt really awkward find insomniac try go doctor grandma month two ask say felt paranoid sometimes call crazy ask eczema instead say talk know awkward go doctor discus really start affect personal school life thing happen never point school affect go store know sorry wall text start happen maybe year ago year first start year old advice appreciate panic attack derealization ca go doctor advice appreciate\n",
              "2      0  ...                                                                                                                                                                                                                                                                                                                                                                                                                                                                                                                                                                                                                                                                                                                                                                                                                                                                                                                                                                                                                                                                                                                                                                                                                                                                                                                                                                                                                                                                    withdraw medicine lately effexor zyprexa cymbalta time mind close together withdraw thursday major panic attack bad need take extra kolonopin skip work friday last shaky felt sick rest night saturday quite two full day panic attack start still feel like describe chihuahua like much caffeine except small amount chocolate yesterday feel like edge panic attack since initial one sure long panic attack last\n",
              "\n",
              "[3 rows x 4 columns]"
            ]
          },
          "metadata": {},
          "execution_count": 11
        }
      ]
    },
    {
      "cell_type": "code",
      "metadata": {
        "colab": {
          "base_uri": "https://localhost:8080/"
        },
        "id": "dNAB_rTNY58t",
        "outputId": "c1eba15d-daab-4a1e-d2df-0563711560c5"
      },
      "source": [
        "df['label'].value_counts()"
      ],
      "execution_count": null,
      "outputs": [
        {
          "output_type": "execute_result",
          "data": {
            "text/plain": [
              "1    178453\n",
              "0    123293\n",
              "Name: label, dtype: int64"
            ]
          },
          "metadata": {},
          "execution_count": 12
        }
      ]
    },
    {
      "cell_type": "markdown",
      "metadata": {
        "id": "fPwPfWWnprr0"
      },
      "source": [
        "## **Feature extraction**"
      ]
    },
    {
      "cell_type": "code",
      "metadata": {
        "id": "YZpKi4zjptza"
      },
      "source": [
        "# prepare tokenizer\n",
        "tokenizer = Tokenizer()\n",
        "tokenizer.fit_on_texts(reddits)"
      ],
      "execution_count": null,
      "outputs": []
    },
    {
      "cell_type": "code",
      "metadata": {
        "colab": {
          "base_uri": "https://localhost:8080/"
        },
        "id": "1AIhZA8pp0wY",
        "outputId": "160947a7-04a2-4cc6-e15f-a05da292ebdd"
      },
      "source": [
        "word_index = tokenizer.word_index\n",
        "print('WE HAVE %s UNIQUE TOKENS.' % len(word_index))"
      ],
      "execution_count": null,
      "outputs": [
        {
          "output_type": "stream",
          "name": "stdout",
          "text": [
            "WE HAVE 95809 UNIQUE TOKENS.\n"
          ]
        }
      ]
    },
    {
      "cell_type": "code",
      "metadata": {
        "id": "2cXJjNzyp426"
      },
      "source": [
        "sequences = tokenizer.texts_to_sequences(reddits)"
      ],
      "execution_count": null,
      "outputs": []
    },
    {
      "cell_type": "code",
      "metadata": {
        "colab": {
          "base_uri": "https://localhost:8080/"
        },
        "id": "Juj92C51p7zA",
        "outputId": "12d834c8-d7d1-4d53-b45b-91c80e517090"
      },
      "source": [
        "# pad redddits to a max length of 150 words\n",
        "maxlen = 150\n",
        "X = pad_sequences(sequences, maxlen = maxlen)\n",
        "X.shape"
      ],
      "execution_count": null,
      "outputs": [
        {
          "output_type": "execute_result",
          "data": {
            "text/plain": [
              "(301746, 150)"
            ]
          },
          "metadata": {},
          "execution_count": 16
        }
      ]
    },
    {
      "cell_type": "code",
      "metadata": {
        "id": "Q2Oc3_xbDwWk"
      },
      "source": [
        "y = df['label']"
      ],
      "execution_count": null,
      "outputs": []
    },
    {
      "cell_type": "markdown",
      "metadata": {
        "id": "tZo2Np9bo696"
      },
      "source": [
        "##Split the dataset into **training** and **test** sets"
      ]
    },
    {
      "cell_type": "code",
      "metadata": {
        "id": "17gtbAQvom9z"
      },
      "source": [
        "X_train, X_test, y_train, y_test = train_test_split(X, y, test_size=0.2, random_state=43)"
      ],
      "execution_count": null,
      "outputs": []
    },
    {
      "cell_type": "code",
      "metadata": {
        "colab": {
          "base_uri": "https://localhost:8080/"
        },
        "id": "q0iVVvCVo-H4",
        "outputId": "ee76dde1-ec25-4aed-bdcf-fcbe91672ddf"
      },
      "source": [
        "X_train.shape, X_test.shape, y_train.shape, y_test.shape"
      ],
      "execution_count": null,
      "outputs": [
        {
          "output_type": "execute_result",
          "data": {
            "text/plain": [
              "((241396, 150), (60350, 150), (241396,), (60350,))"
            ]
          },
          "metadata": {},
          "execution_count": 19
        }
      ]
    },
    {
      "cell_type": "code",
      "metadata": {
        "id": "t5DtzExcrPuV"
      },
      "source": [
        "y_train = np.asarray(y_train).astype('float32').reshape((-1,1))\n",
        "y_test = np.asarray(y_test).astype('float32').reshape((-1,1))"
      ],
      "execution_count": null,
      "outputs": []
    },
    {
      "cell_type": "markdown",
      "metadata": {
        "id": "24wLyGZApa_B"
      },
      "source": [
        "# Defining the **Convolutional Neural Network Model**"
      ]
    },
    {
      "cell_type": "code",
      "metadata": {
        "id": "lO9o6yzwpUIi"
      },
      "source": [
        "# Prepare hyperparameters of CNN\n",
        "vocab_size = len(word_index) + 1\n",
        "# output_dim = 32"
      ],
      "execution_count": null,
      "outputs": []
    },
    {
      "cell_type": "code",
      "metadata": {
        "id": "zrk1T7vWpium"
      },
      "source": [
        "# Building the CNN Model\n",
        "model = Sequential()\n",
        "\n",
        "model.add(Embedding(vocab_size, 128, input_length=maxlen))\n",
        "model.add(Conv1D(128, 3, padding='same', activation='relu'))\n",
        "model.add(Conv1D(64, 3, padding='same', activation='relu'))\n",
        "model.add(MaxPooling1D())\n",
        "model.add(Flatten())\n",
        "\n",
        "model.add(Dense(250, activation='relu'))\n",
        "\n",
        "model.add(Dense(1, activation='sigmoid'))"
      ],
      "execution_count": null,
      "outputs": []
    },
    {
      "cell_type": "markdown",
      "metadata": {
        "id": "sDQVHW1pEPm4"
      },
      "source": [
        "### Visualizing the CNN Model"
      ]
    },
    {
      "cell_type": "code",
      "metadata": {
        "colab": {
          "base_uri": "https://localhost:8080/",
          "height": 758
        },
        "id": "bbF56xATLULt",
        "outputId": "46ad398f-6c5a-4a00-86fe-4739b4db89ce"
      },
      "source": [
        "plot_model(model)"
      ],
      "execution_count": null,
      "outputs": [
        {
          "output_type": "execute_result",
          "data": {
            "image/png": "[encoded data removed]",
            "text/plain": [
              "<IPython.core.display.Image object>"
            ]
          },
          "metadata": {},
          "execution_count": 23
        }
      ]
    },
    {
      "cell_type": "code",
      "metadata": {
        "colab": {
          "base_uri": "https://localhost:8080/"
        },
        "id": "2AXhVEpKqLsg",
        "outputId": "7235f515-3b7b-4828-e44e-2bd1bb744f5c"
      },
      "source": [
        "model.summary()"
      ],
      "execution_count": null,
      "outputs": [
        {
          "output_type": "stream",
          "name": "stdout",
          "text": [
            "Model: \"sequential\"\n",
            "_________________________________________________________________\n",
            "Layer (type)                 Output Shape              Param #   \n",
            "=================================================================\n",
            "embedding (Embedding)        (None, 150, 128)          12263680  \n",
            "_________________________________________________________________\n",
            "conv1d (Conv1D)              (None, 150, 128)          49280     \n",
            "_________________________________________________________________\n",
            "conv1d_1 (Conv1D)            (None, 150, 64)           24640     \n",
            "_________________________________________________________________\n",
            "max_pooling1d (MaxPooling1D) (None, 75, 64)            0         \n",
            "_________________________________________________________________\n",
            "flatten (Flatten)            (None, 4800)              0         \n",
            "_________________________________________________________________\n",
            "dense (Dense)                (None, 250)               1200250   \n",
            "_________________________________________________________________\n",
            "dense_1 (Dense)              (None, 1)                 251       \n",
            "=================================================================\n",
            "Total params: 13,538,101\n",
            "Trainable params: 13,538,101\n",
            "Non-trainable params: 0\n",
            "_________________________________________________________________\n"
          ]
        }
      ]
    },
    {
      "cell_type": "markdown",
      "metadata": {
        "id": "MtvNxeoiEiTH"
      },
      "source": [
        "### Using the **Adam optimizer** for the optimization and **Binary cross entropy** to calculate the Loss Function"
      ]
    },
    {
      "cell_type": "code",
      "metadata": {
        "id": "Z1pXLbl_LzV-"
      },
      "source": [
        "model.compile(loss='binary_crossentropy', optimizer='adam', metrics=['accuracy'])"
      ],
      "execution_count": null,
      "outputs": []
    },
    {
      "cell_type": "code",
      "metadata": {
        "colab": {
          "base_uri": "https://localhost:8080/"
        },
        "id": "o7ZoCd_Qq0Vp",
        "outputId": "d879322c-7394-4a9f-8d5e-ceb2751eb2c9"
      },
      "source": [
        "start = time.time()\n",
        "\n",
        "# fit the model to the training set\n",
        "cnn_hist = model.fit(X_train, y_train, epochs = 5, validation_split = 0.2)\n",
        "\n",
        "# evaluation of the model on the test set\n",
        "scores = model.evaluate(X_test, y_test, verbose = 0)\n",
        "print(\"Accuracy: %.2f%%\" % (scores[1]*100))\n",
        "warnings.filterwarnings(\"ignore\")\n",
        "\n",
        "end = time.time()\n",
        "total = (end-start) // 60\n",
        "print('Training duration : {} minutes'.format(total))"
      ],
      "execution_count": null,
      "outputs": [
        {
          "output_type": "stream",
          "name": "stdout",
          "text": [
            "Epoch 1/5\n",
            "6035/6035 [==============================] - 1187s 197ms/step - loss: 0.3080 - accuracy: 0.8744 - val_loss: 0.2852 - val_accuracy: 0.8846\n",
            "Epoch 2/5\n",
            "6035/6035 [==============================] - 1184s 196ms/step - loss: 0.2600 - accuracy: 0.8976 - val_loss: 0.2843 - val_accuracy: 0.8866\n",
            "Epoch 3/5\n",
            "6035/6035 [==============================] - 1188s 197ms/step - loss: 0.2210 - accuracy: 0.9143 - val_loss: 0.3104 - val_accuracy: 0.8783\n",
            "Epoch 4/5\n",
            "6035/6035 [==============================] - 1187s 197ms/step - loss: 0.1758 - accuracy: 0.9333 - val_loss: 0.3427 - val_accuracy: 0.8748\n",
            "Epoch 5/5\n",
            "6035/6035 [==============================] - 1193s 198ms/step - loss: 0.1310 - accuracy: 0.9507 - val_loss: 0.4454 - val_accuracy: 0.8640\n",
            "Accuracy: 86.51%\n",
            "Training duration : 99.0 minutes\n"
          ]
        }
      ]
    },
    {
      "cell_type": "code",
      "metadata": {
        "id": "b9UZy78yEK_U"
      },
      "source": [
        "history_dict = cnn_hist.history"
      ],
      "execution_count": null,
      "outputs": []
    },
    {
      "cell_type": "markdown",
      "metadata": {
        "id": "gutqv5GsKG0W"
      },
      "source": [
        "## **Plotting the loss and the accuracy of both training and validation sets using the model history**"
      ]
    },
    {
      "cell_type": "code",
      "metadata": {
        "id": "u0R9WAp63esX",
        "colab": {
          "base_uri": "https://localhost:8080/",
          "height": 513
        },
        "outputId": "2883ae18-8577-4dcb-d225-c5a581eabf0f"
      },
      "source": [
        "# loss\n",
        "loss_values = history_dict['loss']\n",
        "val_loss_values = history_dict['val_loss']\n",
        "\n",
        "epochs = range(1, len(loss_values) + 1) \n",
        "\n",
        "# plot\n",
        "plt.figure(figsize=(12, 8))\n",
        "plt.plot(epochs, loss_values, 'blue',label='Training loss')\n",
        "plt.plot(epochs, val_loss_values, 'orange', label='Validation loss')\n",
        "plt.title('Training and validation loss')\n",
        "plt.xlabel('Epochs')\n",
        "plt.ylabel('Loss')\n",
        "plt.legend()\n",
        "plt.show()"
      ],
      "execution_count": null,
      "outputs": [
        {
          "output_type": "display_data",
          "data": {
            "image/png": "[encoded data removed]",
            "text/plain": [
              "<Figure size 864x576 with 1 Axes>"
            ]
          },
          "metadata": {
            "needs_background": "light"
          }
        }
      ]
    },
    {
      "cell_type": "code",
      "metadata": {
        "id": "c26VWaqPFfQ7",
        "colab": {
          "base_uri": "https://localhost:8080/",
          "height": 513
        },
        "outputId": "a8c043bf-4912-48b9-989b-5af5f7eaba62"
      },
      "source": [
        "# accuracy\n",
        "acc = history_dict['accuracy']\n",
        "val_acc = history_dict['val_accuracy']\n",
        "\n",
        "# range of X (no. of epochs)\n",
        "epochs = range(1, len(acc) + 1)\n",
        "\n",
        "plt.figure(figsize=(12, 8))\n",
        "plt.plot(epochs, acc, 'blue',label='Training accuracy')\n",
        "# orange is for \"orange\"\n",
        "plt.plot(epochs, val_acc, 'orange', label='Validation accuracy')\n",
        "plt.title('Training and validation accuracy')\n",
        "plt.xlabel('Epochs')\n",
        "plt.ylabel('Accuracy')\n",
        "plt.legend()\n",
        "plt.show()"
      ],
      "execution_count": null,
      "outputs": [
        {
          "output_type": "display_data",
          "data": {
            "image/png": "[encoded data removed]",
            "text/plain": [
              "<Figure size 864x576 with 1 Axes>"
            ]
          },
          "metadata": {
            "needs_background": "light"
          }
        }
      ]
    },
    {
      "cell_type": "markdown",
      "metadata": {
        "id": "gpQDITnpJy7X"
      },
      "source": [
        "## **Confusion matrix**"
      ]
    },
    {
      "cell_type": "code",
      "metadata": {
        "id": "fdm2im9sFFd4"
      },
      "source": [
        "preds = np.round(model.predict(X_test),0)"
      ],
      "execution_count": null,
      "outputs": []
    },
    {
      "cell_type": "code",
      "metadata": {
        "id": "eoDqL9Xj9FMj"
      },
      "source": [
        "cm = confusion_matrix(y_test, preds)"
      ],
      "execution_count": null,
      "outputs": []
    },
    {
      "cell_type": "code",
      "metadata": {
        "id": "yZxhKaOV_aAa"
      },
      "source": [
        "df_cm = pd.DataFrame(cm, index = [\"depression\", \"non-depression\"], columns = [\"depression\", \"non-depression\"])"
      ],
      "execution_count": null,
      "outputs": []
    },
    {
      "cell_type": "code",
      "metadata": {
        "colab": {
          "base_uri": "https://localhost:8080/",
          "height": 302
        },
        "id": "uAfhW45D8sQI",
        "outputId": "450a02c1-ee27-4fe2-d0c0-683818980909"
      },
      "source": [
        "plt.figure(figsize=(6, 4))\n",
        "sb.heatmap(df_cm, annot=True, cmap=\"Reds\", fmt='d')\n",
        "plt.xlabel('True Class')\n",
        "plt.ylabel('Predicted Class')"
      ],
      "execution_count": null,
      "outputs": [
        {
          "output_type": "execute_result",
          "data": {
            "text/plain": [
              "Text(30.499999999999993, 0.5, 'Predicted Class')"
            ]
          },
          "metadata": {},
          "execution_count": 81
        },
        {
          "output_type": "display_data",
          "data": {
            "image/png": "[encoded data removed]",
            "text/plain": [
              "<Figure size 432x288 with 2 Axes>"
            ]
          },
          "metadata": {}
        }
      ]
    },
    {
      "cell_type": "code",
      "metadata": {
        "id": "iggsDHPH8tdS"
      },
      "source": [
        ""
      ],
      "execution_count": null,
      "outputs": []
    }
  ]
}